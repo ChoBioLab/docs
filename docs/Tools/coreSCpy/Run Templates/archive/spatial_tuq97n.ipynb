{
 "cells": [
  {
   "cell_type": "markdown",
   "metadata": {},
   "source": [
    "# Setup"
   ]
  },
  {
   "cell_type": "markdown",
   "metadata": {},
   "source": [
    "## Imports and Configuration"
   ]
  },
  {
   "cell_type": "code",
   "execution_count": null,
   "metadata": {},
   "outputs": [],
   "source": [
    "%load_ext autoreload\n",
    "%autoreload 2\n",
    "\n",
    "import scanpy as sc\n",
    "import os\n",
    "import re\n",
    "import json\n",
    "from datetime import datetime\n",
    "from anndata import AnnData\n",
    "import seaborn as sb\n",
    "import matplotlib.pyplot as plt\n",
    "import pandas as pd\n",
    "import numpy as np\n",
    "import corescpy as cr\n",
    "\n",
    "pd.options.display.max_columns = 100\n",
    "pd.options.display.max_rows = 500\n",
    "sc.settings.set_figure_params(dpi=100, frameon=False, figsize=(20, 20))\n",
    "\n",
    "palette = \"tab20\"\n",
    "\n",
    "# Column Names (from Metadata & To Be Created)\n",
    "col_sample_id_o, col_sample_id = \"Sample ID\", \"Sample\"  # in metadata, new\n",
    "col_subject = \"Patient\"  # in metadata file\n",
    "# col_batch = \"Slide\"  # in metadata file\n",
    "col_batch = None  # in metadata file\n",
    "col_inflamed, col_stricture = \"Inflamed\", \"Stricture\"  # in metadata file\n",
    "col_condition = \"Condition\"  # constructed from col_inflamed & col_stricture\n",
    "col_fff = \"file_path\"  # column in metadata in which to store data file path\n",
    "col_cell_type = \"Annotation\"  # for eventual cluster annotation column\n",
    "col_tangram = \"tangram_prediction\"  # for future Tangram imputation annotation\n",
    "\n",
    "\n",
    "def construct_file(sample=None, run=\"CHO-001\", slide=None,\n",
    "                   date=None, timestamp=None,\n",
    "                   panel_id=\"TUQ97N\", prefix=\"output-XETG00189\",\n",
    "                   project_owner=\"EA\", directory=None):\n",
    "    \"\"\"Construct file path from information.\"\"\"\n",
    "    if \"outputs\" not in directory and os.path.exists(\n",
    "            os.path.join(directory, \"outputs\")):\n",
    "        directory = os.path.join(directory, \"outputs\")\n",
    "    if sample is None:\n",
    "        run = [run] if isinstance(run, str) else run\n",
    "        panel_id = [panel_id] * len(run) if isinstance(\n",
    "            panel_id, str) else panel_id\n",
    "        fff = []\n",
    "        for i, x in enumerate(run):\n",
    "            d_x = os.path.join(directory, panel_id[i], x)\n",
    "            fff += [os.path.join(d_x, y) for y in os.listdir(d_x)]\n",
    "        return fff\n",
    "    if isinstance(sample, str):\n",
    "        sample = [sample]\n",
    "    print(directory)\n",
    "    panel_id, prefix, project_owner, slide, date, timestamp = [\n",
    "        [x] * len(sample) if isinstance(x, str) else list(x) if x else x\n",
    "        for x in [panel_id, prefix, project_owner, slide, date, timestamp]]\n",
    "    run = [run] * len(sample) if isinstance(run, (str, int, float)) else run\n",
    "    block = [\"-\".join(i) for i in zip(sample, panel_id, project_owner)]\n",
    "    fff = [f\"{prefix[i]}__{slide[i]}__{block[i]}\" for i in range(len(sample))]\n",
    "    if date is None or timestamp is None:\n",
    "        for i, x in enumerate(fff):  # iterate current file stems\n",
    "            ddd = os.path.join(directory, panel_id[i], run[i])\n",
    "            print(ddd)\n",
    "            matches = sum([x in d for d in os.listdir(ddd)])\n",
    "            if  matches != 1:\n",
    "                raise ValueError(f\"{x} found in 0 or multiple file paths\",\n",
    "                                 f\"\\n\\n{os.listdir(ddd)}\")\n",
    "            fff[i] = os.path.join(ddd, np.array(os.listdir(ddd))[np.where([\n",
    "                x in d for d in os.listdir(ddd)])[0][0]])  # find match\n",
    "    else:\n",
    "        fff = [os.path.join(directory, panel_id[i], run[i],\n",
    "                            f\"{x}__{date[i]}__{timestamp[i]}\")\n",
    "               for i, x in enumerate(fff)]\n",
    "    return fff\n",
    "\n",
    "\n",
    "def perform_qc_concatenated(selves):\n",
    "    hue = selves[0]._columns[\"col_sample_id\"]\n",
    "    ids = [str(s.rna.obs[hue].iloc[0]) for s in selves]\n",
    "    patterns = [(\"MT-\", \"mt-\"), (\"RPS\", \"RPL\", \"rps\", \"rpl\"), (\n",
    "        \"^HB[^(P)]\", \"^hb[^(p)]\")]  # pattern matching for gene symbols\n",
    "    patterns = dict(zip([\"mt\", \"ribo\", \"hb\"], patterns))  # dictionary\n",
    "    names = dict(zip([\"mt\", \"ribo\", \"hb\"],\n",
    "                        [\"Mitochondrial\", \"Ribosomal\", \"Hemoglobin\"]))\n",
    "    p_names = [names[k] if k in names else k for k in patterns]  # \"pretty\"\n",
    "    patterns_names = dict(zip(patterns, p_names))  # map abbreviated to pretty\n",
    "    adata = AnnData.concatenate(\n",
    "        *[x.rna for x in selves], join=\"outer\", batch_key=hue,\n",
    "        batch_categories=ids, index_unique=None, uns_merge=\"unique\")\n",
    "    qc_vars = []  # to hold mt, rb, hb, etc. if present in data\n",
    "    for k in patterns:  # calculate MT, RB, HB counts\n",
    "        gvars = adata.var_names.str.startswith(patterns[k])\n",
    "        if any(gvars):\n",
    "            qc_vars += [k]\n",
    "        adata.var[k] = gvars\n",
    "    pct_n = [f\"pct_counts_{k}\" for k in qc_vars]  # \"% counts\" variables\n",
    "    cgs = selves[0]._columns[\"col_gene_symbols\"] if selves[\n",
    "        0].rna.var.index.values[0] not in selves[0].rna.var_names else None\n",
    "    adata.obs = adata.obs.astype({col_condition: \"category\"})\n",
    "    ggg = list(set(genes).intersection(adata.var_names))\n",
    "    ctm = list(set([\"n_genes_by_counts\", \"total_counts\", \"log1p_total_counts\",\n",
    "                    \"cell_area\", \"nucleus_area\"]\n",
    "                ).intersection(adata.obs.columns))\n",
    "    vam = pct_n + ctm + [hue]  # QC variable names\n",
    "    mets_df = adata.obs[vam].rename_axis(\"Metric\", axis=1).rename(\n",
    "        {\"total_counts\": \"Total Counts in Cell\", \"cell_area\": \"Cell Area\",\n",
    "        \"nucleus_area\": \"Nucleus Area\",\n",
    "        \"n_genes_by_counts\": \"Genes Detected in Cell\",\n",
    "        \"log1p_total_counts\": \"Log-Normalized Total Counts\",\n",
    "        **patterns_names}, axis=1)  # rename\n",
    "    fff = sb.pairplot(\n",
    "        mets_df, hue=hue, height=3, diag_kind=\"hist\",\n",
    "        plot_kws=dict(marker=\".\", linewidth=0.05))  # pair\n",
    "    return adata"
   ]
  },
  {
   "cell_type": "markdown",
   "metadata": {},
   "source": [
    "## Options"
   ]
  },
  {
   "cell_type": "code",
   "execution_count": null,
   "metadata": {},
   "outputs": [],
   "source": [
    "# Main Directories\n",
    "# Replace manually or mirror my file/directory tree in your home (`ddu`)\n",
    "ddu = os.path.expanduser(\"~\")\n",
    "ddm = \"/mnt/cho_lab\" if os.path.exists(\"/mnt/cho_lab\") else \"/mnt\"  # Spark?\n",
    "ddl = f\"{ddm}/disk2/elizabeth/data/shared-xenium-library\" if (\n",
    "    \"cho\" in ddm) else os.path.join(ddu, shared-xenium-library)\n",
    "ddx = f\"{ddm}/bbdata0/xenium\"  # mounted drive Xenium folder\n",
    "out_dir = os.path.join(ddl, \"outputs\", \"TUQ97N\", \"nebraska\")  # None = no save\n",
    "d_path = \"/mnt/cho_lab/disk2/elizabeth/data\"  # for other data\n",
    "file_ann = os.path.join(ddu, \"corescpy/examples/annotation_guide.xlsx\")  # AG\n",
    "file_mdf = os.path.join(ddl, \"Xenium_Samples_03152024.xlsx\")  # metadata\n",
    "\n",
    "# Annotation & Tangram Imputation\n",
    "col_assignment = \"Bin\"  # which column from annotation file to use\n",
    "# col_cell_type_sc, file_sc = \"ClusterAnnotation\", str(\n",
    "#     f\"{d_path}/2023-05-12_CombinedCD-v2_ileal_new.h5ad\")\n",
    "col_cell_type_sc, file_sc = \"cell_type\", f\"{d_path}/elmentaite_ileal.h5ad\"\n",
    "\n",
    "# Directories & Metadata\n",
    "run = \"CHO-001\"\n",
    "# run = [\"CHO-001\", \"CHO-002\", \"CHO-005\", \"CHO-006\"]\n",
    "# samples = [\"50007B2\"]\n",
    "# samples = \"all\"\n",
    "samples = [\"50452A\"]\n",
    "# samples = [\"50452B\"]\n",
    "# samples = [\"50452A\", \"50452B\", \"50452C\"]\n",
    "# samples = [\"50564A4\", \"50618B5\"]\n",
    "\n",
    "# Input/Output Options\n",
    "plot_all_qc = False\n",
    "reload = True\n",
    "\n",
    "# Computing Resources\n",
    "gpu = False\n",
    "sc.settings.n_jobs = 4\n",
    "sc.settings.max_memory = 150\n",
    "\n",
    "# Processing & Clustering Options\n",
    "resolution = 0.5\n",
    "min_dist = 0.3\n",
    "n_comps = 50\n",
    "method_norm = \"log\"\n",
    "# custom_thresholds = {col_qscore: [, None]}\n",
    "genes_subset, use_highly_variable = True, False  # genes to use in clustering\n",
    "kws_pp = dict(cell_filter_pmt=None, cell_filter_ncounts=[50, None],\n",
    "              cell_filter_ngene=[10, None], gene_filter_ncell=[3, None],\n",
    "              gene_filter_ncounts=[3, None], custom_thresholds=None,\n",
    "              kws_scale=dict(max_value=10, zero_center=True),\n",
    "              method_norm=method_norm)  # preprocessing keyword arguments\n",
    "\n",
    "# After this point, no more options to specify\n",
    "# Just code to infer the data file path from your specifications\n",
    "# and construct argument dictionaries and manipulate metadata and such.\n",
    "\n",
    "# Read Metadata & Other Information\n",
    "annot_df = pd.read_excel(file_ann)\n",
    "metadata = pd.read_excel(file_mdf, dtype={\"Slide ID\": str}).rename(\n",
    "    {\"Name\": col_subject, \"Slide ID\": col_batch,\n",
    "     \"Inflammation Status\": col_inflamed}, axis=1)\n",
    "if samples not in [\"all\", None]:  # subset by sample ID?\n",
    "    metadata = metadata.set_index(col_sample_id_o).loc[samples].reset_index()\n",
    "\n",
    "# Construct Clustering Argument Keyword Dictionaries\n",
    "if genes_subset is True:\n",
    "    genes_subset = list(annot_df.iloc[:, 0])\n",
    "kws_umap = dict(min_dist=min_dist, method=\"rapids\" if gpu else \"umap\")\n",
    "kws_cluster = dict(use_gpu=gpu, kws_umap=kws_umap, kws_neighbors=None,\n",
    "                   use_highly_variable=use_highly_variable, n_comps=n_comps,\n",
    "                   genes_subset=genes_subset, resolution=resolution)\n",
    "\n",
    "# Revise Metadata & Construct Variables from Options\n",
    "metadata.loc[:, col_stricture] = metadata[col_stricture].replace(\n",
    "    {\"yes\": \"Stricture\", \"no\": \"None\"})  # stricture column\n",
    "metadata.loc[:, col_condition] = metadata.apply(lambda x: \"Stricture\" if x[\n",
    "    col_stricture] == \"Stricture\" else x[col_inflamed].capitalize(), axis=1)\n",
    "metadata.loc[:, col_sample_id] = metadata[[col_condition, col_sample_id_o]\n",
    "                                          ].apply(\"-\".join, axis=1)\n",
    "metadata = metadata.set_index(col_sample_id)\n",
    "fff = np.array(construct_file(run=run, directory=ddx))\n",
    "samps = np.array([i.split(\"__\")[2].split(\"-\")[0] for i in fff])\n",
    "for x in metadata[col_sample_id_o]:\n",
    "    metadata.loc[metadata[col_sample_id_o] == x, col_fff] = fff[np.where(\n",
    "        samps == x)[0][0]] if len(np.where(samps == x)[0]) > 0 else np.nan\n",
    "metadata = metadata.dropna(subset=[col_fff])\n",
    "file_path_dict = dict(zip(metadata.index.values, metadata[\"file_path\"]))\n",
    "kws_init = dict(col_batch=col_batch, col_subject=col_subject,\n",
    "                col_sample_id=col_sample_id, col_cell_type=col_cell_type)\n",
    "if not os.path.exists(out_dir):\n",
    "    os.makedirs(out_dir)\n",
    "\n",
    "# Annotation File\n",
    "assign = pd.read_excel(file_ann, index_col=0).dropna(\n",
    "    subset=col_assignment).rename_axis(\"Gene\")\n",
    "marker_genes_dict = dict(assign.reset_index().groupby(col_assignment).apply(\n",
    "    lambda x: list(pd.unique(x.Gene))))  # to marker dictionary\n",
    "\n",
    "# Print Metadata\n",
    "metadata\n",
    "\n",
    "# Genes\n",
    "# genes = [\"CDKN1A\", \"CDKN2A\", \"TP53\", \"PLAUR\", \"PTGER4\", \"FTL\", \"IL6ST\"]\n",
    "# cell_types = [\"ILC3\", \"LTi-like NCR+ ILC3\", \"LTi-like NCR- ILC3\",\n",
    "#               \"ILCP\", \"Macrophages\", \"Stem cells\"]\n",
    "# palette = [\"r\", \"tab:pink\", \"m\", \"b\", \"tab:brown\", \"cyan\"]\n",
    "# High in inf. vs. un\n",
    "# OSM\n",
    "# IL13\n",
    "# IL1B\n",
    "# IL6\n",
    "# TNF\n",
    "# S100A8\n",
    "# S100A9\n",
    "# ------------------------------\n",
    "# High in stricture vs inf/un\n",
    "# PDGFRA\n",
    "# IL6ST\n",
    "# PTPN1x\n",
    "# IFNG"
   ]
  },
  {
   "cell_type": "markdown",
   "metadata": {},
   "source": [
    "# Data"
   ]
  },
  {
   "cell_type": "markdown",
   "metadata": {},
   "source": [
    "## Loading"
   ]
  },
  {
   "cell_type": "code",
   "execution_count": null,
   "metadata": {},
   "outputs": [],
   "source": [
    "%%time\n",
    "\n",
    "# Load Spatial Data\n",
    "selves = [None] * metadata.shape[0]\n",
    "for i, x in enumerate(metadata.index.values):\n",
    "    selves[i] = cr.Spatial(metadata.loc[x][col_fff], library_id=x, **kws_init)\n",
    "    for j in metadata:  # add metadata for subject\n",
    "        selves[i].rna.obs.loc[:, j] = str(metadata.loc[x][j])  # add metadata\n",
    "\n",
    "# Concatenate AnnData Objects & Perform QC\n",
    "if plot_all_qc is True:\n",
    "    adata = perform_qc_concatenated(selves)\n",
    "\n",
    "# Reload Processed & Clustered Data (Optionally)\n",
    "suff = str(f\"res{re.sub('[.]', 'pt', str(resolution))}_dist\"\n",
    "           f\"{re.sub('[.]', 'pt', str(min_dist))}_npc{n_comps}\")  # file end\n",
    "if reload is True:\n",
    "    for i, s in enumerate(selves):\n",
    "        f_o = os.path.join(out_dir, f\"{x}__{suff}\")\n",
    "        s.rna.obs.loc[:, \"out_file\"] = f_o\n",
    "        s.update_from_h5ad(file=f_o, file_path_markers=f_o + \"_markers.csv\")"
   ]
  },
  {
   "cell_type": "markdown",
   "metadata": {},
   "source": [
    "## Explore Objects"
   ]
  },
  {
   "cell_type": "code",
   "execution_count": null,
   "metadata": {},
   "outputs": [],
   "source": [
    "# Check Genes\n",
    "for s in selves:\n",
    "    _ = s.read_panel(directory=str(metadata.loc[s._library_id][col_fff]))\n",
    "\n",
    "# General Information\n",
    "[s.print() for s in selves]"
   ]
  },
  {
   "cell_type": "markdown",
   "metadata": {},
   "source": [
    "# Processing"
   ]
  },
  {
   "cell_type": "markdown",
   "metadata": {},
   "source": [
    "## Preprocessing"
   ]
  },
  {
   "cell_type": "code",
   "execution_count": null,
   "metadata": {},
   "outputs": [],
   "source": [
    "%%time\n",
    "\n",
    "# Print Pre-Processing Specifications\n",
    "print(kws_pp)\n",
    "\n",
    "# Perform Pre-Processing\n",
    "if reload is False:\n",
    "    for s in selves:\n",
    "        _ = s.preprocess(**kws_pp, figsize=(15, 15))\n",
    "\n",
    "# Check Remaining Genes\n",
    "for s in selves:\n",
    "    _ = s.read_panel(directory=str(metadata.loc[s._library_id][col_fff]))"
   ]
  },
  {
   "cell_type": "markdown",
   "metadata": {},
   "source": [
    "## Clustering"
   ]
  },
  {
   "cell_type": "code",
   "execution_count": null,
   "metadata": {},
   "outputs": [],
   "source": [
    "for i, s in enumerate(selves):\n",
    "    _ = s.preprocess(**kws_pp, figsize=(15, 15))\n",
    "    f_o = os.path.join(out_dir, s._library_id) if (\n",
    "        out_dir) else None  # file/prefix for saved object & other outputs\n",
    "    s.rna.obs.loc[:, \"out_file\"] = f_o\n",
    "    for i in zip([0.5, 0.75, 1.5], [0.5, 0.3, 0], [30, 30, 30]):\n",
    "        # Variable Name & Output File Construction\n",
    "        kws = {**kws_cluster, \"resolution\": i[0], \"kws_umap\": {\n",
    "            **kws_cluster[\"kws_umap\"], \"min_dist\": i[1]}, \"n_comps\": i[2]}\n",
    "        suff = str(f\"res{re.sub('[.]', 'pt', str(kws['resolution']))}_dist\"\n",
    "             f\"{re.sub('[.]', 'pt', str(kws['kws_umap']['min_dist']))}\"\n",
    "             f\"_npc{kws['n_comps']}\")  # file path suffix\n",
    "        f_m = f\"{f_o}_{x}_markers.csv\" if out_dir else None\n",
    "        cct, f_i = f\"leiden_{suff}\", f\"{s._library_id}_{suff}\"  # specific run\n",
    "        _ = s.cluster(**kws, key_added=cct, out_file=f_o)\n",
    "        s.write_clusters(out_dir, col_cell_type=cct, overwrite=True)  # XE\n",
    "        _ = s.find_markers(col_cell_type=cct, kws_plot=False, out_file=f_m)\n",
    "        _ = s.plot_spatial(color=cct)"
   ]
  },
  {
   "cell_type": "code",
   "execution_count": null,
   "metadata": {},
   "outputs": [],
   "source": [
    "%%time\n",
    "\n",
    "suff = str(f\"res{re.sub('[.]', 'pt', str(kws_cluster['resolution']))}_dist\"\n",
    "           f\"{re.sub('[.]', 'pt', str(kws_cluster['kws_umap']['min_dist']))}\"\n",
    "           f\"_npc{n_comps}\")  # file path suffix\n",
    "if reload is False:\n",
    "    for i, s in enumerate(selves):\n",
    "\n",
    "            # Output File Path for Object\n",
    "            f_o = os.path.join(out_dir, f\"{s._library_id}__{suff}\") if (\n",
    "                out_dir is not None) else None  # output file\n",
    "            s.rna.obs.loc[:, \"out_file\"] = f_o  # store output path in object\n",
    "\n",
    "            # Cluster, Find Markers, & Plot\n",
    "            _ = s.cluster(**kws_cluster, out_file=f_o)\n",
    "            _ = s.find_markers(col_cell_type=\"leiden\", kws_plot=False,\n",
    "                               out_file=f_o + \"_markers.csv\" if f_o else None)\n",
    "            _ = s.plot_spatial(color=\"leiden\")"
   ]
  },
  {
   "cell_type": "markdown",
   "metadata": {},
   "source": [
    "## Annotation "
   ]
  },
  {
   "cell_type": "code",
   "execution_count": null,
   "metadata": {},
   "outputs": [],
   "source": [
    "%%time\n",
    "\n",
    "col = \"Annotation_GEX\"  # for method 2\n",
    "# col = None  # skip method 2\n",
    "if reload is False:\n",
    "    for i, s in enumerate(selves):\n",
    "        _ = s.annotate_clusters(file_ann, col_cell_type=\"leiden\",\n",
    "                                col_annotation=col_cell_type,\n",
    "                                out_file=str(s.rna.obs.out_file.iloc[0]))\n",
    "        if col:  # method 2\n",
    "            _ = s.annotate_clusters(file_ann, col_annotation=col,\n",
    "                                    renaming=True, method=\"GEX\")\n",
    "        # s._columns[\"col_cell_type\"] = col + \"_GEX\"\n",
    "\n",
    "# Manual Annotations\n",
    "# annots = {\n",
    "#     0: {\"0\": \"Myofibroblast\", \"1\": \"Goblet\", \"2\": \"Cycling B\",\n",
    "#         \"3\": \"Fibroblast\", \"4\": \"Endothelial\",\n",
    "#         # \"5\": \"Goblet\",\n",
    "#         \"5\": \"Epithelial\",\n",
    "#         # \"6\": \"Goblet (Best, 2+?)\", \"7\": \"Myeloid (Macrophage? DC?)\",\n",
    "#         \"6\": \"Epithelial\", \"7\": \"Myeloid\",\n",
    "#         \"8\": \"Mesenchymal-Fibrolastic-Stromal 3\",\n",
    "#         \"9\": \"Plasma\", \"10\": \"T Cell\", \"11\": \"Macrophage, LYVE1+\",\n",
    "#         \"12\": \"Pericyte\", \"13\": \"Endothelial Lymphatic\",\n",
    "#         \"14\": \"Mast\", \"15\": \"Mesenchymal-Myocytic-Myofibroblast\"},\n",
    "#     1: {\"0\": \"Contractile Pericyte\",\n",
    "#         \"1\": \"Mesenchymal-Fibroblastic-Stromal 1,3\",\n",
    "#         \"2\": \"Endothelial\", \"3\": \"B Cell\", \"4\": \"T Cell\",\n",
    "#         \"5\": \"Mesenchymal-Fibroblastic-Stromal 1\", \"6\": \"Myofibroblast\",\n",
    "#         \"7\": \"Epithelial\", \"8\": \"Plasma\", \"9\": \"Macrophage\",\n",
    "#         \"10\": \"Myeloid\", \"11\": \"Mast\",\n",
    "#         \"12\": \"Lymphatic Endothelial\", \"13\": \"Neural\"},\n",
    "#     2: {\"0\": \"B Cell\", \"1\": \"Mesenchymal\", \"2\": \"T/NK Cell\",\n",
    "#         \"3\": \"Mesenchymal-Fibroblastic-Transitional Stromal 1\",\n",
    "#         \"4\": \"Smooth Muscle\", \"5\": \"Endothelial\", \"6\": \"Macrophage\",\n",
    "#         \"7\": \"Lymphatic Endothelial\",\n",
    "#         \"8\": \"Smooth Muscle/Pericyte/Myofibroblast?\",\n",
    "#         \"9\": \"IgA Plasma\", \"10\": \"Cycling B Cell\",\n",
    "#         \"11\": \"Epithelial-Enterocyte-Tuft?\", \"12\": \"Neural\"}\n",
    "# }\n",
    "\n",
    "# ONLY FOR RESOLUTION = 0.75,\n",
    "# JUST CELL TYPE GENES USED IN CLUSTERING,\n",
    "# MIN_DIST = 0.80\n",
    "# rename_ann = {\n",
    "#     str(\"Activated CD4 T_Branch A4 (IN)_CLP_Colonocyte_Contractile Pericyte\"\n",
    "#         \" (PLN+)_D Cells (SST+)_FCRL4+ Memory B_FDC_Fetal Arterial EC_Glia\"\n",
    "#         \" 2 (ELN+)_ILCP_Lymphoid DC_Macrophages_Mast Cell_Microfold Cell_N\"\n",
    "#         \" Cells (NTS+)_NK Cell_Pericyte_SELL+ CD8 T_Stromal 1 (ADAMDEC1+)\"\n",
    "#         \"_TRGV2 Gdt_cDC2\"): \"Mixed Immune\",\n",
    "#     str(\"Activated CD4 T_BEST2+ Goblet Cell_Branch A4 (IN)_CLP_Colonocyte_\"\n",
    "#         \"Contractile Pericyte (PLN+)_D Cells (SST+)_FCRL4+ Memory B_FDC\"\n",
    "#         \"_Fetal Arterial EC_Glia 2 (ELN+)_ILCP_Immature B_Macrophages\"\n",
    "#         \"_Microfold Cell_NK Cell_Pericyte_SELL+ CD8 T_Stromal 1 (ADAMDEC1+)\"\n",
    "#         \"_TRGV2 Gdt_cDC2_mLTo\"): \"Immune (Lymphoid?)\",\n",
    "#     str(\"Activated CD4 T_Branch A4 (IN)_CLP_Colonocyte_Contractile Pericyte\"\n",
    "#         \" (PLN+)_D Cells (SST+)_FCRL4+ Memory B_FDC_Fetal Arterial EC_Glia\"\n",
    "#         \" 2 (ELN+)_ILCP_Lymphoid DC_Macrophages_Mast Cell_Microfold Cell_N\"\n",
    "#         \" Cells (NTS+)_NK Cell_Pericyte_SELL+ CD8 T_Stromal 1 (ADAMDEC1+)_\"\n",
    "#         \"TRGV2 Gdt_cDC2\"): \"Mixed Immune\",\n",
    "#     str(\"Activated CD4 T_Branch A4 (IN)_CD8 Tmem_CLP_FCRL4+ Memory B_FDC_\"\n",
    "#         \"Fetal Arterial EC_Glia 2 (ELN+)_ILCP_Lti-like NCR+ ILC3_Lymphoid\"\n",
    "#         \" DC_Macrophages_Mast Cell_Megakaryocyte_Microfold Cell_NK Cell_\"\n",
    "#         \"Pericyte_SELL+ CD8 T_TRGV2 Gdt_mLTo\"): \"Mixed Immune\",\n",
    "#     str(\"Activated CD4 T_Branch A4 (IN)_CLP_Distal Progenitor_FCRL4+ Memory\"\n",
    "#         \" B_FDC_Fetal Arterial EC_Glia 2 (ELN+)_ILC3_Lti-like NCR+ ILC3_\"\n",
    "#         \"Macrophages_Mast Cell_Microfold Cell_Monocytes_Pericyte_Proximal \"\n",
    "#         \"Progenitor_SELL+ CD8 T_Stromal 1 (ADAMDEC1+)_\"\n",
    "#         \"TRGV2 Gdt\"): \"B_T_ILC\",\n",
    "#     str(\"Angiogenic Pericyte_Immature Pericyte_LYVE1+ Macrophage\"\n",
    "#         ): \"Pericyte_Macrophage\"}\n",
    "\n",
    "rename_ann = None\n",
    "\n",
    "# Rename Annotations\n",
    "if rename_ann is not None:\n",
    "    for i, s in enumerate(selves):\n",
    "        s.rna.obs.loc[:, f\"{col}_Auto\"] = s.rna.obs[col].copy()\n",
    "        s.rna.obs.loc[:, col] = s.rna.obs[col].replace(\n",
    "            rename_ann if isinstance(rename_ann, dict) else rename_ann[i])\n",
    "    [print(list(s.rna.obs[col].unique())) for s in selves]"
   ]
  },
  {
   "cell_type": "markdown",
   "metadata": {},
   "source": [
    "## Plot Spatial"
   ]
  },
  {
   "cell_type": "code",
   "execution_count": null,
   "metadata": {},
   "outputs": [],
   "source": [
    "for s in selves:\n",
    "    print(f\"\\n\\n{'=' * 80}\\n{s._library_id}\\n{'=' * 80}\\n\\n\")\n",
    "    for c in [j for j in [\"leiden\", col_cell_type, col] if j in s.rna.obs]:\n",
    "        s.plot_spatial(title=s._library_id, color=c)"
   ]
  },
  {
   "cell_type": "markdown",
   "metadata": {},
   "source": [
    "## Annotation by Imputation (Tangram)"
   ]
  },
  {
   "cell_type": "code",
   "execution_count": null,
   "metadata": {},
   "outputs": [],
   "source": [
    "adata_sc = sc.read(file_sc)  # read whole transcriptome data for imputation\n",
    "for i, s in enumerate(selves):\n",
    "    _ = s.impute(\n",
    "        adata_sc.copy(), col_cell_type=col_cell_type_sc,\n",
    "        # mode=\"cells\",\n",
    "        mode=\"clusters\",\n",
    "        markers=None,  # use all overlap\n",
    "        # markers=200,\n",
    "        plot=False, plot_density=False, plot_genes=None,\n",
    "        col_annotation=col_tangram,\n",
    "        out_file=str(s.rna.obs.out_file.iloc[0]))\n",
    "        # adata_sp_new, sdata, adata_sc_n, ad_map, df_compare, fig = out"
   ]
  },
  {
   "cell_type": "markdown",
   "metadata": {},
   "source": [
    "## Write Xenium Explorer Files"
   ]
  },
  {
   "cell_type": "code",
   "execution_count": null,
   "metadata": {},
   "outputs": [],
   "source": [
    "s.write(str(s.rna.obs.out_file.iloc[0]))"
   ]
  },
  {
   "cell_type": "code",
   "execution_count": null,
   "metadata": {},
   "outputs": [],
   "source": [
    "col_leid = [j for j in s.rna.obs if \"leiden\" in j]\n",
    "for i, s in enumerate(selves):\n",
    "    for c in [j for j in col_leid + [col_cell_type, col] if j in s.rna.obs]:\n",
    "            s.write_clusters(out_dir, col_cell_type=c, overwrite=True,\n",
    "                             file_prefix=str(s.rna.obs.out_file.iloc[0]))"
   ]
  },
  {
   "cell_type": "markdown",
   "metadata": {},
   "source": [
    "## Marker Plots (Additional)"
   ]
  },
  {
   "cell_type": "code",
   "execution_count": null,
   "metadata": {},
   "outputs": [],
   "source": [
    "_ = self.plot(kind=\"heat\", swap_axes=True, vmax=10,\n",
    "              marker_genes_dict=marker_genes_dict, layer=\"counts\")"
   ]
  },
  {
   "cell_type": "markdown",
   "metadata": {},
   "source": [
    "## Concatenate AnnData"
   ]
  },
  {
   "cell_type": "code",
   "execution_count": null,
   "metadata": {},
   "outputs": [],
   "source": [
    "hue = selves[0]._columns[\"col_sample_id\"]\n",
    "ids = [str(s.rna.obs[hue].iloc[0]) for s in selves]\n",
    "adata = AnnData.concatenate(\n",
    "    *[x.rna for x in selves], join=\"outer\", batch_key=hue,\n",
    "    batch_categories=ids, index_unique=None, uns_merge=\"unique\")"
   ]
  },
  {
   "cell_type": "markdown",
   "metadata": {},
   "source": [
    "## Preliminary Exploration"
   ]
  },
  {
   "cell_type": "code",
   "execution_count": null,
   "metadata": {},
   "outputs": [],
   "source": [
    "# for s in selves:\n",
    "#     _ = s.read_panel(directory=metadata[s._library_id][\"file_path\"])\n",
    "# for s in selves:\n",
    "#     s.plot_umap(color=genes + [self._columns[\"col_cell_type\"]],\n",
    "#                 layer=\"scaled\", cmap=\"coolwarm\", vcenter=0)\n",
    "cct = selves[0]._columns[\"col_cell_type\"]\n",
    "for g in [[\"CDKN1A\", \"CDKN2A\", \"TP53\", \"PLAUR\", \"PTGER4\", \"FTL\", \"IL6ST\"],\n",
    "          [\"CSF2RB\", \"CSF2RA\", \"IL7R\", \"TBX21\", \"KLRB1\", \"CCL5\", \"HSP90AA1\",\n",
    "           \"RORC\", \"IL23R\", \"KIT\", \"CCL20\", \"TCF7\", \"LTB\", \"IL22\", \"IFNG\"],\n",
    "          [\"PDGFRA\", \"IL6ST\", \"PTPN1\", \"IFNG\"]]:\n",
    "    ggg = list(set(g).intersection(adata.var_names))\n",
    "    cr.pl.plot_cat_split(adata, col_inflamed, col_cell_type=cct,\n",
    "                         genes=ggg, kind=\"box\")\n",
    "    cr.pl.plot_cat_split(adata, col_inflamed, col_cell_type=cct,\n",
    "                         genes=ggg, columns=col_stricture, kind=\"box\")"
   ]
  },
  {
   "cell_type": "markdown",
   "metadata": {},
   "source": [
    "# Analyses"
   ]
  },
  {
   "cell_type": "markdown",
   "metadata": {},
   "source": [
    "## Centrality Scores"
   ]
  },
  {
   "cell_type": "code",
   "execution_count": null,
   "metadata": {},
   "outputs": [],
   "source": [
    "%%time\n",
    "\n",
    "for s in selves:\n",
    "    s.calculate_centrality(n_jobs=sc.settings.n_jobs)"
   ]
  },
  {
   "cell_type": "markdown",
   "metadata": {},
   "source": [
    "## Neighborhood Enrichment Analysis"
   ]
  },
  {
   "cell_type": "code",
   "execution_count": null,
   "metadata": {},
   "outputs": [],
   "source": [
    "%%time\n",
    "\n",
    "for s in selves:\n",
    "    _ = s.calculate_neighborhood(figsize=(60, 30))"
   ]
  },
  {
   "cell_type": "markdown",
   "metadata": {},
   "source": [
    "## Cell Type Co-Occurrence"
   ]
  },
  {
   "cell_type": "code",
   "execution_count": null,
   "metadata": {},
   "outputs": [],
   "source": [
    "%%time\n",
    "\n",
    "for s in selves:\n",
    "    _ = s.find_cooccurrence(figsize=(60, 20), kws_plot=dict(wspace=3))"
   ]
  },
  {
   "cell_type": "markdown",
   "metadata": {},
   "source": [
    "## Spatial Clustering"
   ]
  },
  {
   "cell_type": "code",
   "execution_count": null,
   "metadata": {},
   "outputs": [],
   "source": [
    "for s in selves:\n",
    "    _ = s.cluster_spatial(key_added=\"leiden_spatial\")"
   ]
  },
  {
   "cell_type": "markdown",
   "metadata": {},
   "source": [
    "## Spatially-Variable Genes"
   ]
  },
  {
   "cell_type": "code",
   "execution_count": null,
   "metadata": {},
   "outputs": [],
   "source": [
    "%%time\n",
    "\n",
    "kws = dict(kws_plot=dict(legend_fontsize=\"large\"), figsize=(15, 15))\n",
    "for s in selves:\n",
    "    _ = s.find_svgs(genes=genes, method=\"moran\", n_perms=10, **kws)"
   ]
  },
  {
   "cell_type": "markdown",
   "metadata": {},
   "source": [
    "## Receptor-Ligand Interactions"
   ]
  },
  {
   "cell_type": "code",
   "execution_count": null,
   "metadata": {},
   "outputs": [],
   "source": [
    "%%time\n",
    "\n",
    "for s in selves:\n",
    "    kss, ktt = None, None\n",
    "    _ = s.calculate_receptor_ligand(\n",
    "        col_condition=False, p_threshold=0.01, remove_ns=True,\n",
    "        figsize=(30, 10), top_n=25, key_sources=kss, key_targets=ktt)\n",
    "    # s.calculate_receptor_ligand_spatial()"
   ]
  },
  {
   "cell_type": "markdown",
   "metadata": {},
   "source": [
    "## Cell Type Composition "
   ]
  },
  {
   "cell_type": "code",
   "execution_count": null,
   "metadata": {},
   "outputs": [],
   "source": [
    "for s in selves:\n",
    "    s.run_composition_analysis()"
   ]
  },
  {
   "cell_type": "markdown",
   "metadata": {},
   "source": [
    "## GEX"
   ]
  },
  {
   "cell_type": "code",
   "execution_count": null,
   "metadata": {},
   "outputs": [],
   "source": [
    "for s in selves:\n",
    "    s.plot_spatial(color=[\"TNF\", \"IL23\", col_cell_type])"
   ]
  },
  {
   "cell_type": "code",
   "execution_count": null,
   "metadata": {},
   "outputs": [],
   "source": [
    "_ = self.calculate_spatial_distance(\"LTi-like NCR+ ILC3\", genes=\"CSF2RB\")"
   ]
  },
  {
   "cell_type": "code",
   "execution_count": null,
   "metadata": {},
   "outputs": [],
   "source": [
    "adata.X = adata.layers[\"counts\"]\n",
    "sq.tl.var_by_distance(\n",
    "    adata, \"LTi-like NCR+ ILC3\", col_cell_type, library_key=col_sample_id,\n",
    "    design_matrix_key=\"design_matrix\", covariates=[\"Patient\", \"Inflamed\"],\n",
    "    metric=\"euclidean\", spatial_key=self._spatial_key, copy=False)\n",
    "sq.pl.var_by_distance(\n",
    "    adata=adata, var=[\"CSF2RB\", \"CSF2RA\", \"IL7R\"],\n",
    "    anchor_key=\"LTi-like NCR+ ILC3\",\n",
    "    covariate=\"Inflamed\")"
   ]
  },
  {
   "cell_type": "markdown",
   "metadata": {},
   "source": [
    "## Compare GEX"
   ]
  },
  {
   "cell_type": "code",
   "execution_count": null,
   "metadata": {},
   "outputs": [],
   "source": [
    "# goi = [\"CSF2\", \"CSF2RB\", \"CSF2RA\", \"CDKN1A\", \"CDKN2A\", \"TP53\", \"PLAUR\"]\n",
    "# goi = [\"CDKN1A\", \"CDKN2A\", \"TP53\", \"PLAUR\", \"PTGER4\", \"FTL\", \"IL6ST\", \"CSF2\",\n",
    "#        \"CSF2RB\", \"CSF2RA\", \"IL7R\", \"TBX21\", \"KLRB1\", \"CCL5\", \"HSP90AA1\",\n",
    "#        \"RORC\", \"IL23R\", \"KIT\", \"CCL20\", \"TCF7\", \"LTB\", \"IL22\", \"IFNG\"]\n",
    "# goi = genes\n",
    "\n",
    "# fig, axs = selves[0].plot_compare_spatial(selves[1:], goi)\n",
    "\n",
    "# fig, axs = plt.subplots(len(goi) + 1, len(selves),\n",
    "#                         figsize=(5 * len(goi), 20 * len(selves)))\n",
    "# for j, s in enumerate(selves):\n",
    "#     for i, g in enumerate(goi + [s._columns[\"col_cell_type\"]]):\n",
    "#         s.plot_spatial(ax=axs[i, j], color=None if i == 0 else goi[i - 1],\n",
    "#                        cmap=\"magma\", layer=s._layers[\"log1p\"])\n",
    "#         if i == 0:\n",
    "#             axs[i, j].set_title(s._library_id)\n",
    "# plt.subplots_adjust(wspace=0.3)\n",
    "# fig.show()\n"
   ]
  },
  {
   "cell_type": "markdown",
   "metadata": {},
   "source": [
    "### Senescence"
   ]
  },
  {
   "cell_type": "code",
   "execution_count": null,
   "metadata": {},
   "outputs": [],
   "source": [
    "goi = [\"CDKN1A\", \"CDKN2A\", \"TP53\", \"PLAUR\", \"PTGER4\", \"FTL\", \"IL6ST\"]\n",
    "fig, axs = selves[0].plot_compare_spatial(selves[1:], goi, wspace=0.3)"
   ]
  },
  {
   "cell_type": "markdown",
   "metadata": {},
   "source": [
    "### CSF2RB"
   ]
  },
  {
   "cell_type": "code",
   "execution_count": null,
   "metadata": {},
   "outputs": [],
   "source": [
    "%%time\n",
    "\n",
    "goi = [\"CSF2RB\", \"CSF2RA\", \"IL7R\", \"TBX21\", \"KLRB1\", \"CCL5\", \"HSP90AA1\",\n",
    "       \"RORC\", \"IL23R\", \"KIT\", \"CCL20\", \"TCF7\", \"LTB\", \"IL22\", \"IFNG\"]\n",
    "fig, axs = selves[0].plot_compare_spatial(selves[1:], goi, figsize=(40, 70),\n",
    "                                          wspace=0.1)"
   ]
  },
  {
   "cell_type": "markdown",
   "metadata": {},
   "source": [
    "### High in Inflamed vs. Un-Inflamed? "
   ]
  },
  {
   "cell_type": "code",
   "execution_count": null,
   "metadata": {},
   "outputs": [],
   "source": [
    "%%time\n",
    "\n",
    "goi = [\"OSM\", \"IL13\", \"IL1B\", \"IL6\", \"TNF\", \"S100A8\", \"S100A9\"]\n",
    "fig, axs = selves[0].plot_compare_spatial(selves[1:], goi\n",
    "                                          wspace=0.5, figsize=(40, 50)))"
   ]
  },
  {
   "cell_type": "markdown",
   "metadata": {},
   "source": [
    "### High in Stricture vs. Uni-Inflamed?"
   ]
  },
  {
   "cell_type": "code",
   "execution_count": null,
   "metadata": {},
   "outputs": [],
   "source": [
    "%%time\n",
    "\n",
    "goi = [\"PDGFRA\", \"IL6ST\", \"PTPN1\", \"IFNG\"]\n",
    "fig, axs = selves[0].plot_compare_spatial(selves[1:], goi,\n",
    "                                          wspace=0.5, figsize=(40, 50))"
   ]
  },
  {
   "cell_type": "markdown",
   "metadata": {},
   "source": [
    "# Workspace"
   ]
  },
  {
   "cell_type": "markdown",
   "metadata": {},
   "source": [
    "## Mast-Neural"
   ]
  },
  {
   "cell_type": "code",
   "execution_count": null,
   "metadata": {},
   "outputs": [],
   "source": [
    "list(selves[0].rna.obs[col_cell_type].unique())"
   ]
  },
  {
   "cell_type": "code",
   "execution_count": null,
   "metadata": {},
   "outputs": [],
   "source": [
    "key_mast_neural = [\"Mast cell\", \"Glia 1 (DHH+)\", \"SMC\"]"
   ]
  },
  {
   "cell_type": "code",
   "execution_count": null,
   "metadata": {},
   "outputs": [],
   "source": [
    "for s in selves:\n",
    "    _ = s.find_cooccurrence(figsize=(30, 20), kws_plot=dict(wspace=3),\n",
    "                            key_cell_type=key_mast_neural)"
   ]
  },
  {
   "cell_type": "code",
   "execution_count": null,
   "metadata": {},
   "outputs": [],
   "source": [
    "def _get_data(adata: AnnData, cluster_key: str, func_name: str,\n",
    "              attr: str = \"uns\", **kwargs):\n",
    "\n",
    "    key = getattr(Key.uns, func_name)(cluster_key, **kwargs)\n",
    "\n",
    "    try:\n",
    "        if attr == \"uns\":\n",
    "            return adata.uns[key]\n",
    "        elif attr == \"obsm\":\n",
    "            return adata.obsm[key]\n",
    "        else:\n",
    "            raise ValueError(f\"attr must be either 'uns' or 'obsm', got {attr}\")\n",
    "    except KeyError:\n",
    "        raise KeyError(\n",
    "            f\"Unable to get the data from `adata.uns[{key!r}]`. \"\n",
    "            f\"Please run `squidpy.gr.{func_name}(..., cluster_key={cluster_key!r})` first.\"\n",
    "        ) from None"
   ]
  },
  {
   "cell_type": "code",
   "execution_count": null,
   "metadata": {},
   "outputs": [],
   "source": [
    "from __future__ import annotations\n",
    "\n",
    "from pathlib import Path\n",
    "from types import MappingProxyType\n",
    "from typing import (\n",
    "    TYPE_CHECKING,\n",
    "    Any,\n",
    "    Literal,\n",
    "    Mapping,\n",
    "    Sequence,\n",
    "    Union,  # noqa: F401\n",
    ")\n",
    "\n",
    "import matplotlib.pyplot as plt\n",
    "import numpy as np\n",
    "import pandas as pd\n",
    "import seaborn as sns\n",
    "from anndata import AnnData\n",
    "from matplotlib.axes import Axes\n",
    "\n",
    "from squidpy._constants._constants import RipleyStat\n",
    "from squidpy._constants._pkg_constants import Key\n",
    "from squidpy._docs import d\n",
    "from squidpy.gr._utils import (\n",
    "    _assert_categorical_obs,\n",
    "    _assert_non_empty_sequence,\n",
    "    _get_valid_values,\n",
    ")\n",
    "from squidpy.pl._color_utils import Palette_t, _get_palette, _maybe_set_colors\n",
    "from squidpy.pl._utils import _heatmap, save_fig"
   ]
  },
  {
   "cell_type": "code",
   "execution_count": null,
   "metadata": {},
   "outputs": [],
   "source": [
    "clusters = key_mast_neural\n",
    "cluster_key = col_cell_type\n",
    "adata = selves[0].rna.copy()\n",
    "figsize = (20, 20)\n",
    "legend_kwargs = {}\n",
    "dpi = 100"
   ]
  },
  {
   "cell_type": "code",
   "execution_count": null,
   "metadata": {},
   "outputs": [],
   "source": [
    "    occurrence_data = _get_data(adata, cluster_key=cluster_key,\n",
    "                                func_name=\"co_occurrence\")\n",
    "\n",
    "    legend_kwargs = dict(legend_kwargs)\n",
    "    if \"loc\" not in legend_kwargs:\n",
    "        legend_kwargs[\"loc\"] = \"center left\"\n",
    "        legend_kwargs.setdefault(\"bbox_to_anchor\", (1, 0.5))\n",
    "\n",
    "    out = occurrence_data[\"occ\"]\n",
    "    interval = occurrence_data[\"interval\"][1:]\n",
    "    categories = adata.obs[cluster_key].cat.categories\n",
    "\n",
    "    clusters = categories if clusters is None else clusters\n",
    "    clusters = _assert_non_empty_sequence(clusters, name=\"clusters\")\n",
    "    clusters = sorted(_get_valid_values(clusters, categories))\n",
    "\n",
    "    palette = _get_palette(adata, cluster_key=cluster_key,\n",
    "                           categories=categories, palette=None)\n",
    "\n",
    "    fig, axs = plt.subplots(\n",
    "        1,\n",
    "        len(clusters),\n",
    "        figsize=(5 * len(clusters), 5) if figsize is None else figsize,\n",
    "        dpi=dpi,\n",
    "        constrained_layout=True,\n",
    "    )\n",
    "    axs = np.ravel(axs)  # make into iterable\n",
    "\n",
    "    for g, ax in zip(clusters, axs):\n",
    "        idx = np.where(categories == g)[0][0]\n",
    "        df = pd.DataFrame(out[idx, :, :].T, columns=categories).melt(var_name=cluster_key, value_name=\"probability\")\n",
    "        df[\"distance\"] = np.tile(interval, len(categories))\n",
    "\n",
    "        sns.lineplot(\n",
    "            x=\"distance\",\n",
    "            y=\"probability\",\n",
    "            data=df,\n",
    "            dashes=False,\n",
    "            hue=cluster_key,\n",
    "            hue_order=categories,\n",
    "            palette=None,\n",
    "            ax=ax\n",
    "        )\n",
    "        ax.legend(**legend_kwargs)\n",
    "        ax.set_title(rf\"$\\frac{{p(exp|{g})}}{{p(exp)}}$\")\n",
    "        ax.set_ylabel(\"value\")"
   ]
  },
  {
   "cell_type": "code",
   "execution_count": null,
   "metadata": {},
   "outputs": [],
   "source": [
    "import squidpy as sq\n",
    "\n",
    "sq.pl.co_occurrence(\n",
    "    s.rna,\n",
    "    cluster_key=col_cell_type,\n",
    "    clusters=key_mast_neural[0],\n",
    "    figsize=(10, 10),\n",
    ")\n",
    "\n",
    "sq.pl.co_occurrence(\n",
    "    s.rna,\n",
    "    cluster_key=col_cell_type,\n",
    "    clusters=key_mast_neural[1],\n",
    "    figsize=(10, 10),\n",
    ")"
   ]
  },
  {
   "cell_type": "code",
   "execution_count": null,
   "metadata": {},
   "outputs": [],
   "source": []
  },
  {
   "cell_type": "code",
   "execution_count": null,
   "metadata": {},
   "outputs": [],
   "source": [
    "for s in selves:\n",
    "    kss, ktt = key_mast_neural, key_mast_neural\n",
    "    _ = s.calculate_receptor_ligand(\n",
    "        col_condition=False, p_threshold=0.01, remove_ns=True,\n",
    "        figsize=(30, 10), top_n=25, key_sources=kss, key_targets=ktt)"
   ]
  },
  {
   "cell_type": "markdown",
   "metadata": {},
   "source": [
    "## Image Adding/Displaying"
   ]
  },
  {
   "cell_type": "code",
   "execution_count": null,
   "metadata": {},
   "outputs": [],
   "source": [
    "paths_he = []\n",
    "for x in metadata.index.values:\n",
    "    paths_he += [os.path.join(metadata.loc[x][\n",
    "        col_fff], \"aux_outputs/image_he.tif\")]  # H&E paths\n",
    "\n",
    "\n",
    "\n",
    "\n",
    "import tifffile as tiff\n",
    "\n",
    "p = paths_he[i]\n",
    "\n",
    "img = tiff.imread(p)\n",
    "mg = PIL.moveaxis(img, -1, 1)[0]\n",
    "img = Image2DModel.parse(img, transformations={\"global\": Identity()},\n",
    "                         dims=(\"c\", \"y\", \"x\"))\n",
    "self.adata.add_image(\"morphology_he\", img)"
   ]
  },
  {
   "cell_type": "code",
   "execution_count": null,
   "metadata": {},
   "outputs": [],
   "source": [
    "from PIL import Image, ImageFile\n",
    "import spatialdata\n",
    "\n",
    "Image.MAX_IMAGE_PIXELS = None\n",
    "ImageFile.LOAD_TRUNCATED_IMAGES = True\n",
    "\n",
    "img = Image.open(paths_he[i]).convert(\"RGB\")\n",
    "# img = np.asarray(Image.open(paths_he[i]).convert(\n",
    "#     \"RGB\"), dtype=np.float32) / 255\n",
    "self.adata.add_image(\"morphology_he\",\n",
    "                     spatialdata.models.Image2DModel.parse(img))"
   ]
  },
  {
   "cell_type": "code",
   "execution_count": null,
   "metadata": {},
   "outputs": [],
   "source": [
    "self = selves[1]\n",
    "\n",
    "plotter = spatialdata_plot.pl.basic.PlotAccessor(self.adata)\n",
    "dir(plotter)"
   ]
  },
  {
   "cell_type": "code",
   "execution_count": null,
   "metadata": {},
   "outputs": [],
   "source": [
    "self.adata.points\n",
    "self.adata.shapes[\"cell_boundaries\"]\n",
    "self.adata.points[\"transcripts\"].feature_name.compute()\n",
    "\n",
    "# transcripts = self.read_parquet()\n",
    "# transcripts\n",
    "\n",
    "sdata_im = self.adata.aggregate(values=\"transcripts\",\n",
    "                                by=\"cell_boundaries\", agg_func=\"count\")\n",
    "sdata_im"
   ]
  },
  {
   "cell_type": "code",
   "execution_count": null,
   "metadata": {},
   "outputs": [],
   "source": [
    "cr.pl.plot_tiff()\n",
    "\n",
    "self.adata.table.uns[self._spatial_key][\"Stricture-50452C\"][\"images\"][\n",
    "    \"Stricture-50452C___morphology_mip_scale3\"].show()\n",
    "\n",
    "self.adata.pl.render_shapes().pl.show()\n",
    "\n",
    "self.adata.pl.render_images().pl.render_shapes().pl.show()\n",
    "\n",
    "fig, axs = plt.subplots(ncols=3, figsize=(12, 3))\n",
    "sdata.render_images().pl.show(ax=axs[0])\n",
    "sdata.pl.render_labels().pl.show(ax=axs[1])\n",
    "sdata.pl.render_shapes().pl.show(ax=axs[2])\n",
    "sdata.pl.render_images().pl.render_labels().pl.render_shapes().pl.show()"
   ]
  },
  {
   "cell_type": "code",
   "execution_count": null,
   "metadata": {},
   "outputs": [],
   "source": [
    "from spatialdata_io.readers.xenium import xenium_aligned_image\n",
    "\n",
    "img = xenium_aligned_image(\"/mnt/cho_lab/disk2/elizabeth/data/shared-xenium-library/outputs/TUQ97N/CHO-001/output-XETG00189__0010700__50452A-TUQ97N-EA__20240126__205019/aux_outputs/50452-A (FFPE) - 2024-01-16 11.36.14.tif\", None)\n",
    "dir(img)"
   ]
  },
  {
   "cell_type": "code",
   "execution_count": null,
   "metadata": {},
   "outputs": [],
   "source": [
    "import spatialdata_plot\n",
    "\n",
    "plotter = spatialdata_plot.pl.basic.PlotAccessor(self.adata)\n",
    "# # plotter.render_images(\"morphology_focus\").pl.show()\n",
    "# # plotter.render_points(elements=\"transcripts\", color=\"CDKN1A\").pl.show()\n",
    "# plotter.render_shapes(elements=\"cell_boundaries\", color=\"green\").pl.show()\n",
    "plotter.render_shapes(elements=\"cell_boundaries\",\n",
    "                      color=\"Annotation\").pl.show(\"global\")\n",
    "\n",
    "plotter.render_shapes(elements=\"cell_boundaries\").pl.show()\n",
    "plotter.render_points(elements=\"transcripts\", color=\"feature_name\",\n",
    "                      groups=\"CDKN1A\").pl.show(\"global\")\n",
    "\n",
    "plotter.render_points(elements=None, color=\"green\",\n",
    "                      groups=[\"STAT1\"]).pl.show(\"global\")"
   ]
  },
  {
   "cell_type": "code",
   "execution_count": null,
   "metadata": {},
   "outputs": [],
   "source": [
    "self.show(kinds=[\"images\", \"shapes\"], elements=[\n",
    "    \"cell_boundaries\", \"morphology_mip\"],\n",
    "          color={\"morphology_mip\": \"Annotation\"})\n",
    "# self.show(kinds=\"all\", elements=[\"IL23\", \"cell_boundaries\", \"morphology_mip\"])"
   ]
  },
  {
   "cell_type": "markdown",
   "metadata": {},
   "source": [
    "## Bare Squidpy"
   ]
  },
  {
   "cell_type": "code",
   "execution_count": null,
   "metadata": {},
   "outputs": [],
   "source": [
    "# import squidpy as sq\n",
    "# import scanpy as sc\n",
    "# import spatialdata_io as sdio\n",
    "\n",
    "# col_cell_type = \"leiden\"\n",
    "# n_jobs = 4\n",
    "# file = file_path_dict[list(file_path_dict.keys())[0]]\n",
    "\n",
    "# sdata = sdio.xenium(file, n_jobs=n_jobs)\n",
    "\n",
    "# sq.gr.spatial_neighbors(sdata.table)\n",
    "# sc.pp.pca(sdata.table)\n",
    "# sc.pp.neighbors(sdata.table)\n",
    "# sc.tl.leiden(sdata.table)\n",
    "# sq.gr.nhood_enrichment(sdata, cluster_key=col_cell_type, seed=1618)\n",
    "# sq.gr.co_occurrence(sdata, cluster_key=col_cell_type, n_jobs=n_jobs)\n",
    "# sq.pl.spatial_scatter(sdata, color=col_cell_type, shape=\"hex\")\n",
    "# cr.pl.plot_cooccurrence(sdata, col_cell_type=col_cell_type)\n",
    "# sq.gr.spatial_autocorr(sdata, mode=\"moran\", n_jobs=n_jobs)\n",
    "# sq.pl.spatial_scatter(adata, color=genes + [col_cell_type], shape=\"hex\")\n",
    "# sdata[0].images[\"morphology_mip\"]"
   ]
  },
  {
   "cell_type": "markdown",
   "metadata": {},
   "source": [
    "## Whole Process Example"
   ]
  },
  {
   "cell_type": "code",
   "execution_count": null,
   "metadata": {},
   "outputs": [],
   "source": [
    "# self = selves[0]\n",
    "# _ = self.preprocess(**kws_pp)\n",
    "# _ = self.cluster(**kws_cluster)\n",
    "# # self.adata.write(out_files[i], overwrite=True)  # optional, write object\n",
    "# self.calculate_centrality(n_jobs=4)\n",
    "# self.find_cooccurrence(figsize=(60, 20), kws_plot=dict(wspace=3))\n",
    "# self.find_svgs(genes=genes, method=\"moran\", n_perms=10, kws_plot=dict(\n",
    "#     legend_fontsize=\"large\"), figsize=(15, 15))\n",
    "# self.calculate_receptor_ligand(col_condition=False, p_threshold=0.001,\n",
    "#                                remove_ns=True, figsize=(20, 20))"
   ]
  },
  {
   "cell_type": "markdown",
   "metadata": {},
   "source": [
    "## Re-Name Files in Standard Form Using Object"
   ]
  },
  {
   "cell_type": "code",
   "execution_count": null,
   "metadata": {},
   "outputs": [],
   "source": [
    "# fff = list(pd.Series([x if \"h5ad\" in x else np.nan for x in os.listdir(\n",
    "#     out_dir)]).dropna())\n",
    "# frn = []\n",
    "# for x in fff:\n",
    "#     ann = sc.read(os.path.join(out_dir, x))\n",
    "#     kwu = re.sub(\"{\", \"\", re.sub(\"}\", \"\", str(ann.obs.iloc[0].kws_umap))\n",
    "#                  ).split(\", \")\n",
    "#     kwu = np.array(kwu)[np.where([\"min_dist\" in x for x in kwu])[\n",
    "#         0]][0].split(\": \")[1]\n",
    "#     frn += [str(f\"{str(ann.obs.iloc[0][col_sample_id])}__\"\n",
    "#                 f\"res{str(ann.obs.iloc[0].resolution)}\"\n",
    "#                 f\"_dist{kwu}_npc{ann.varm['PCs'].shape[1]}\")]\n",
    "# frd = dict(zip([os.path.join(out_dir, i) for i in fff], [os.path.join(\n",
    "#     out_dir, re.sub(\"[.]\", \"pt\", re.sub(\"[.]h5ad\", \"\", i)) + \".h5ad\")\n",
    "#                                                          for i in frn]))\n",
    "# frd\n",
    "# # for x in frd:\n",
    "# #     os.system(f\"mv {x} {frd[x]}\")"
   ]
  }
 ],
 "metadata": {
  "kernelspec": {
   "display_name": "py-bio",
   "language": "python",
   "name": "python3"
  },
  "language_info": {
   "codemirror_mode": {
    "name": "ipython",
    "version": 3
   },
   "file_extension": ".py",
   "mimetype": "text/x-python",
   "name": "python",
   "nbconvert_exporter": "python",
   "pygments_lexer": "ipython3",
   "version": "3.10.4"
  }
 },
 "nbformat": 4,
 "nbformat_minor": 2
}
