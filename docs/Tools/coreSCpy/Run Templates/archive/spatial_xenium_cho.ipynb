{
 "cells": [
  {
   "cell_type": "markdown",
   "metadata": {},
   "source": [
    "# Setup"
   ]
  },
  {
   "cell_type": "markdown",
   "metadata": {},
   "source": [
    "## Imports & Settings"
   ]
  },
  {
   "cell_type": "code",
   "execution_count": 1,
   "metadata": {},
   "outputs": [
    {
     "data": {
      "text/html": [
       "<pre style=\"white-space:pre;overflow-x:auto;line-height:normal;font-family:Menlo,'DejaVu Sans Mono',consolas,'Courier New',monospace\"><span style=\"color: #808000; text-decoration-color: #808000; font-weight: bold\">ryp2 is not installed. Install with </span><span style=\"color: #008000; text-decoration-color: #008000; font-weight: bold\">pip install rpy2 </span><span style=\"color: #808000; text-decoration-color: #808000; font-weight: bold\">to run tools with R support.</span>\n",
       "</pre>\n"
      ],
      "text/plain": [
       "\u001b[1;33mryp2 is not installed. Install with \u001b[0m\u001b[1;32mpip install rpy2 \u001b[0m\u001b[1;33mto run tools with R support.\u001b[0m\n"
      ]
     },
     "metadata": {},
     "output_type": "display_data"
    },
    {
     "name": "stderr",
     "output_type": "stream",
     "text": [
      "Downloading data from `https://omnipathdb.org/queries/enzsub?format=json`\n",
      "Downloading data from `https://omnipathdb.org/queries/interactions?format=json`\n",
      "Downloading data from `https://omnipathdb.org/queries/complexes?format=json`\n",
      "Downloading data from `https://omnipathdb.org/queries/annotations?format=json`\n",
      "Downloading data from `https://omnipathdb.org/queries/intercell?format=json`\n",
      "Downloading data from `https://omnipathdb.org/about?format=text`\n"
     ]
    }
   ],
   "source": [
    "%load_ext autoreload\n",
    "%autoreload 2\n",
    "\n",
    "import os\n",
    "import re\n",
    "import itertools\n",
    "import scipy\n",
    "import scanpy as sc\n",
    "import seaborn as sb\n",
    "import pandas as pd\n",
    "import numpy as np\n",
    "import corescpy as cr\n",
    "\n",
    "# Computing Resources\n",
    "gpu = False\n",
    "sc.settings.n_jobs = 8\n",
    "sc.settings.max_memory = 150\n",
    "\n",
    "# Display\n",
    "pd.options.display.max_colwidth = 1000\n",
    "pd.options.display.max_columns = 100\n",
    "pd.options.display.max_rows = 500\n",
    "sc.settings.set_figure_params(dpi=100, frameon=False, figsize=(20, 20))\n",
    "\n",
    "# Panel Information\n",
    "old_seg = [\"50452A\", \"50452B\", \"50452C\",  # CHO-001\n",
    "           \"50618B5\", \"50564A4\",  # CHO-002\n",
    "           \"49377A2\",  # CHO-003\n",
    "           \"49464A4\",  # ?\n",
    "           \"49696A4\", \"49559A5\",  # CHO-004\n",
    "           \"50115A2\", \"50007B2\",  # CHO-005\n",
    "           \"49471A4\", \"50445A3\",  # CHO-006\n",
    "           ]  # old segmentation = old processing arguments\n",
    "\n",
    "# Run Options\n",
    "panel = \"TUQ97N\"\n",
    "load, reannotate = False, True\n",
    "# run = \"CHO-008\"\n",
    "run = None  # just look for samples in all runs\n",
    "# samples = [\"50452A\", \"50452B\", \"50006A\", \"50006B\",\n",
    "#            # \"50217A\", \"50217B\",  # exclude because weird\n",
    "#            \"50336B\", \"50336C\",\n",
    "#            # \"50403A1\",  # exclude because low quality\n",
    "#            \"50403A2\", \"50403B\"]  # paired (un)inflamed\n",
    "samples = \"all\"\n",
    "\n",
    "# Optionally, Define Manual Annotation Versions\n",
    "# should be stored in (\"<out_dir>/annotations_dictionaries\")\n",
    "# in format <selves[i]._library_id>___leiden_<man_anns[i]>_dictionary.xlsx\n",
    "# with first column = leiden cluster and second column = annotation\n",
    "man_anns = True  # load manual annotations according to clustering kws\n",
    "# man_anns = [\"res0pt5_dist0pt5_npc30\", \"res0pt75_dist0pt3_npc30\",\n",
    "#             \"res1pt5_dist0_npc30\"]  # choose manual annotations to load\n",
    "# man_anns = None  # do not load manual annotations"
   ]
  },
  {
   "cell_type": "markdown",
   "metadata": {},
   "source": [
    "## Options & Data"
   ]
  },
  {
   "cell_type": "code",
   "execution_count": 2,
   "metadata": {},
   "outputs": [
    {
     "name": "stdout",
     "output_type": "stream",
     "text": [
      "                Sample ID  Patient Condition  Inflamed Stricture segmentation\n",
      "Sample                                                                       \n",
      "Inflamed-50006A    50006A    50006  Inflamed  inflamed        no          new\n",
      "\n",
      "\n",
      "<<< INITIALIZING SPATIAL CLASS OBJECT >>>\n",
      "\n",
      "\u001b[34mINFO    \u001b[0m reading                                                                                                   \n",
      "         \u001b[35m/mnt/cho_lab/bbdata2/outputs/TUQ97N/CHO-007/output-XETG00189__0022407__50006A-TUQ97N-EA__20240411__205514/\u001b[0m\n",
      "         \u001b[95mcell_feature_matrix.h5\u001b[0m                                                                                    \n",
      "WARNING: Unable to find `y`, `x` or `z` dimension in `('c', 'y', 'x')`. Renaming to `('channels', 'y', 'x', 'z')`\n",
      "WARNING: Unable to find `y`, `x` or `z` dimension in `('c', 'y', 'x')`. Renaming to `('channels', 'y', 'x', 'z')`\n",
      "WARNING: Unable to find `y`, `x` or `z` dimension in `('c', 'y', 'x')`. Renaming to `('channels', 'y', 'x', 'z')`\n",
      "WARNING: Unable to find `y`, `x` or `z` dimension in `('c', 'y', 'x')`. Renaming to `('channels', 'y', 'x', 'z')`\n",
      "WARNING: Unable to find `y`, `x` or `z` dimension in `('c', 'y', 'x')`. Renaming to `('channels', 'y', 'x', 'z')`\n",
      "\n",
      "\n",
      "================================================================================\n",
      "Counts: Initial\n",
      "================================================================================\n",
      "\n",
      "\n",
      "\tObservations: 297656\n",
      "\n",
      "\tGenes: 469\n",
      "\n",
      "\n",
      "\n",
      "================================================================================\n",
      "\n",
      "\n",
      "\n",
      "\n",
      " AnnData object with n_obs × n_vars = 297656 × 469\n",
      "    obs: 'cell_id', 'transcript_counts', 'control_probe_counts', 'control_codeword_counts', 'unassigned_codeword_counts', 'deprecated_codeword_counts', 'total_counts', 'cell_area', 'nucleus_area', 'region', 'z_level', 'nucleus_count', 'cell_labels', 'Sample'\n",
      "    var: 'gene_ids', 'feature_types', 'genome'\n",
      "    uns: 'spatialdata_attrs', 'spatial', 'original_ix'\n",
      "    obsm: 'spatial'\n",
      "    layers: 'counts' \n",
      "\n",
      "                      gene_ids    feature_types   genome\n",
      "gene_symbols                                           \n",
      "ABCA7         ENSG00000064687  Gene Expression  Unknown\n",
      "ACTA2         ENSG00000107796  Gene Expression  Unknown\n",
      "ACTG2         ENSG00000163017  Gene Expression  Unknown\n",
      "ADAM15        ENSG00000143537  Gene Expression  Unknown\n",
      "ADAM28        ENSG00000042980  Gene Expression  Unknown \n",
      "\n",
      " \n",
      "\n",
      "\n",
      "\n",
      "col_gene_symbols=\"gene_symbols\"\n",
      "col_cell_type=\"manual_res0pt5_dist0pt5_npc30\"\n",
      "col_sample_id=\"Sample\"\n",
      "col_batch=\"Sample\"\n",
      "col_subject=\"Patient\"\n",
      "col_condition=None\n",
      "col_num_umis=None\n",
      "col_segment=\"region\"\n",
      "\n",
      "\n",
      "\n",
      "key_control=None\n",
      "key_treatment=None\n",
      "\n",
      "\n",
      "<<< RESTORING SINGLE-SAMPLE FROM h5ad >>>\n",
      "\n",
      "WARNING: Unable to find `y`, `x` or `z` dimension in `('c', 'y', 'x')`. Renaming to `('channels', 'y', 'x', 'z')`\n",
      "WARNING: Unable to find `y`, `x` or `z` dimension in `('c', 'y', 'x')`. Renaming to `('channels', 'y', 'x', 'z')`\n",
      "WARNING: Unable to find `y`, `x` or `z` dimension in `('c', 'y', 'x')`. Renaming to `('channels', 'y', 'x', 'z')`\n",
      "WARNING: Unable to find `y`, `x` or `z` dimension in `('c', 'y', 'x')`. Renaming to `('channels', 'y', 'x', 'z')`\n",
      "WARNING: Unable to find `y`, `x` or `z` dimension in `('c', 'y', 'x')`. Renaming to `('channels', 'y', 'x', 'z')`\n",
      "AnnData object with n_obs × n_vars = 220569 × 469\n",
      "    obs: 'cell_id', 'transcript_counts', 'control_probe_counts', 'control_codeword_counts', 'unassigned_codeword_counts', 'deprecated_codeword_counts', 'total_counts', 'cell_area', 'nucleus_area', 'region', 'z_level', 'nucleus_count', 'cell_labels', 'Sample', 'Sample ID', 'Patient', 'Status', 'Slide Id', 'Project', 'Location', 'Stricture', 'GRID ID', 'Inflamed', 'Procedure Date', 'Age', 'Sex', 'Race', 'Hispanic', 'Diagnosis', 'Project.1', 'Procedure', 'Disease_Status', 'Date Collected', 'Date Sectioned', 'Date Hybridization', 'Storage 4c', 'Created By', 'Created', 'Storage Status', 'Location.1', 'Storage Row', 'Storage Col', 'Checked Out By', 'out_file', 'Condition', 'file_path', 'n_counts', 'log_counts', 'n_genes', 'n_genes_by_counts', 'log1p_n_genes_by_counts', 'log1p_total_counts', 'assay_protein', 'col_gene_symbols', 'col_cell_type', 'col_sample_id', 'col_batch', 'col_subject', 'col_condition', 'col_num_umis', 'col_segment', 'cell_filter_pmt', 'cell_filter_ncounts', 'cell_filter_ngene', 'gene_filter_ncell', 'gene_filter_ncounts', 'custom_thresholds', 'method_norm', 'figsize', 'kws_scale', 'leiden_res0pt5_dist0pt5_npc30', 'label_res0pt5_dist0pt5_npc30', 'leiden_res0pt75_dist0pt3_npc30', 'label_res0pt75_dist0pt3_npc30', 'leiden_res1pt5_dist0_npc30', 'label_res1pt5_dist0_npc30', 'manual_res0pt5_dist0pt5_npc30', 'manual_res0pt75_dist0pt3_npc30', 'manual_res1pt5_dist0_npc30', 'annotation_res0pt5_dist0pt5_npc30', 'bin_res0pt5_dist0pt5_npc30', 'bucket_res0pt5_dist0pt5_npc30', 'annotation_res0pt75_dist0pt3_npc30', 'bin_res0pt75_dist0pt3_npc30', 'bucket_res0pt75_dist0pt3_npc30', 'annotation_res1pt5_dist0_npc30', 'bin_res1pt5_dist0_npc30', 'bucket_res1pt5_dist0_npc30', 'CDKN1A_threshold2', 'TP53_threshold2', 'PLAUR_threshold2', 'CDKN1A_TP53_threshold2', 'CDKN1A_PLAUR_threshold2', 'TP53_PLAUR_threshold2', 'CDKN1A_TP53_PLAUR_threshold2', 'IL7R_threshold2', 'KLRB1_threshold2', 'RORC_threshold2', 'IL7R_KLRB1_threshold2', 'IL7R_RORC_threshold2', 'KLRB1_RORC_threshold2', 'IL7R_KLRB1_RORC_threshold2'\n",
      "    var: 'gene_ids', 'feature_types', 'genome', 'mt', 'ribo', 'hb', 'n_cells_by_counts', 'mean_counts', 'log1p_mean_counts', 'pct_dropout_by_counts', 'total_counts', 'log1p_total_counts', 'n_cells', 'n_counts', 'highly_variable', 'means', 'dispersions', 'dispersions_norm', 'mean', 'std'\n",
      "    uns: 'Sample_colors', 'hvg', 'label_res0pt5_dist0pt5_npc30_colors', 'label_res0pt75_dist0pt3_npc30_colors', 'label_res1pt5_dist0_npc30_colors', 'leiden_res0pt5_dist0pt5_npc30', 'leiden_res0pt75_dist0pt3_npc30', 'leiden_res1pt5_dist0_npc30', 'liana_res', 'log1p', 'manual_res1pt5_dist0_npc30_centrality_scores', 'manual_res1pt5_dist0_npc30_co_occurrence', 'manual_res1pt5_dist0_npc30_interactions', 'manual_res1pt5_dist0_npc30_nhood_enrichment', 'neighbors', 'original_ix', 'pca', 'rank_genes_groups_leiden_res0pt5_dist0pt5_npc30', 'rank_genes_groups_leiden_res0pt75_dist0pt3_npc30', 'rank_genes_groups_leiden_res1pt5_dist0_npc30', 'spatial_neighbors', 'spatialdata_attrs', 'specifications', 'umap', 'spatial'\n",
      "    obsm: 'X_pca', 'X_umap', 'spatial'\n",
      "    varm: 'PCs'\n",
      "    layers: 'counts', 'log1p', 'scaled'\n",
      "    obsp: 'connectivities', 'distances', 'spatial_connectivities', 'spatial_distances'\n"
     ]
    }
   ],
   "source": [
    "# Get Constants\n",
    "constants_dict = cr.pp.CONSTANTS_PANELS[panel]\n",
    "col_sample_id_o, col_sample_id, col_condition, col_inflamed, col_subject = [\n",
    "    constants_dict[x] if x in constants_dict else None for x in [\n",
    "        \"col_sample_id_o\", \"col_sample_id\", \"col_condition\",\n",
    "        \"col_inflamed\", \"col_subject\"]]\n",
    "col_stricture, key_stricture, col_fff, col_tangram, col_segment = [\n",
    "    constants_dict[x] if (x in constants_dict) else None for x in [\n",
    "        \"col_stricture\", \"key_stricture\", \"col_data_dir\",\n",
    "        \"col_tangram\", \"col_segment\"]]\n",
    "\n",
    "# Main Directories\n",
    "# Replace manually or mirror my file/directory tree in your home (`ddu`)\n",
    "ddu = os.path.expanduser(\"~\")\n",
    "ddm = \"/mnt/cho_lab\" if os.path.exists(\"/mnt/cho_lab\") else \"/mnt\"  # Spark?\n",
    "ddl = f\"{ddm}/disk2/{os.getlogin()}/data/shared-xenium-library\" if (\n",
    "    \"cho\" in ddm) else os.path.join(ddu, \"shared-xenium-library\")\n",
    "ddx = f\"{ddm}/bbdata2\"  # mounted drive Xenium folder\n",
    "out_dir = os.path.join(ddl, \"outputs\", panel, \"nebraska\")  # None = no save\n",
    "d_path = os.path.join(ddm, \"disk2\" if \"cho\" in ddm else \"\",\n",
    "                      os.getlogin(), \"data\")  # other, e.g., Tangram data\n",
    "anf = pd.read_csv(os.path.join(ddu, \"corescpy/examples/markers_lineages.csv\"))\n",
    "file_mdf = os.path.join(ddl, \"samples.csv\")  # metadata\n",
    "\n",
    "# Annotation & Tangram Imputation\n",
    "# col_cell_type_sc, file_sc = \"ClusterAnnotation\", str(\n",
    "#     f\"{d_path}/2023-05-12_CombinedCD-v2_ileal_new.h5ad\")\n",
    "col_cell_type_sc, file_sc = \"cell_type\", f\"{d_path}/elmentaite_ileal.h5ad\"\n",
    "# file_sc = None  # to skip Tangram imputation/label transfer\n",
    "\n",
    "# Processing & Clustering Options\n",
    "kws_pp = dict(cell_filter_pmt=None, cell_filter_ncounts=[15, None],\n",
    "              cell_filter_ngene=[3, None], gene_filter_ncell=[3, None],\n",
    "              gene_filter_ncounts=[3, None], custom_thresholds=None,\n",
    "              kws_scale=dict(max_value=10, zero_center=True),\n",
    "              method_norm=\"log\")  # preprocessing keyword arguments\n",
    "kws_pp_o = dict(cell_filter_pmt=None, cell_filter_ncounts=[50, None],\n",
    "                cell_filter_ngene=[10, None], gene_filter_ncell=[3, None],\n",
    "                gene_filter_ncounts=[3, None], custom_thresholds=None,\n",
    "                kws_scale=dict(max_value=10, zero_center=True),\n",
    "                method_norm=\"log\")  # old segmentation preprocessing arguments\n",
    "kws_cluster = dict(kws_umap=dict(method=\"rapids\" if gpu else \"umap\"),\n",
    "                   genes_subset=list(anf.iloc[:, 0]),  # use only markers\n",
    "                   use_gpu=gpu, use_highly_variable=False)\n",
    "kws_clustering, col_assignment = {}, []\n",
    "for i in zip([1.5, 0.75, 0.5], [0, 0.3, 0.5], [30, 30, 30]):\n",
    "    kws = {**kws_cluster, \"resolution\": i[0], \"kws_umap\": {\n",
    "        **kws_cluster[\"kws_umap\"], \"min_dist\": i[1]}, \"n_comps\": i[2]}\n",
    "    suff = str(f\"res{re.sub('[.]', 'pt', str(kws['resolution']))}_dist\"\n",
    "               f\"{re.sub('[.]', 'pt', str(kws['kws_umap']['min_dist']))}\"\n",
    "               f\"_npc{kws['n_comps']}\")  # file path suffix\n",
    "    kws_clustering.update({suff: kws})\n",
    "    col_assignment += [\"group\" if kws[\"resolution\"] >= 0.7 else \"Bucket\"]\n",
    "if man_anns is True:\n",
    "    man_anns = list(kws_clustering.keys())\n",
    "col_cell_type = list(kws_clustering.keys())[0] if (\n",
    "    man_anns is None) else f\"annotation_{man_anns[-1]}\"  # default cell labels\n",
    "\n",
    "# After this point, no more options to specify\n",
    "# Just code to infer the data file path from your specifications\n",
    "# and construct argument dictionaries and manipulate metadata and such.\n",
    "\n",
    "# Read Metadata & Other Information\n",
    "metadata = cr.pp.get_metadata_cho(\n",
    "    ddx, file_mdf, panel_id=panel, samples=samples)  # get metadata\n",
    "metadata.loc[:, col_segment] = \"new\"\n",
    "metadata.loc[metadata[col_sample_id_o].isin(old_seg), col_segment] = \"old\"\n",
    "\n",
    "# Annotation File\n",
    "assign = anf.dropna(subset=col_assignment).set_index(\n",
    "    \"gene\").rename_axis(\"Gene\")  # markers\n",
    "# assign = assign[~assign.Quality.isin([-1])]  # drop low-quality markers\n",
    "\n",
    "# Print Metadata & Make Output Directory (If Not Present)\n",
    "print(metadata[[col_sample_id_o, col_subject, col_condition,\n",
    "                col_inflamed, col_stricture, col_segment]])\n",
    "if not os.path.exists(out_dir):\n",
    "    os.makedirs(out_dir)\n",
    "\n",
    "# Load Data\n",
    "kws_init = dict(col_sample_id=col_sample_id, col_subject=col_subject,\n",
    "                col_cell_type=col_cell_type)  # object creation arguments\n",
    "selves = [None] * metadata.shape[0]  # to hold different samples\n",
    "for i, x in enumerate(metadata.index.values):\n",
    "    selves[i] = cr.Spatial(metadata.loc[x][col_fff], library_id=x, **kws_init)\n",
    "    out = os.path.join(out_dir, selves[i]._library_id)  # where to save object\n",
    "    if load and os.path.exists(os.path.join(out_dir, self._library_id)):\n",
    "        selves[i].update_from_h5ad(out)  # update from processed object file\n",
    "    for j in metadata:  # iterate metadata columns & add to .obs\n",
    "        selves[i].rna.obs.loc[:, j] = str(metadata.loc[x][j])\n",
    "    selves[i].rna.obs.loc[:, COL_OBJECT] = out  # output path (to save object)\n",
    "\n",
    "# Marker Gene Dictionary (for Scanpy Plotting)\n",
    "marker_genes_dict = dict(assign[\"Bucket\"].reset_index().groupby(\n",
    "    \"Bucket\").apply(lambda x: list(pd.unique(list(set(\n",
    "        x.Gene).intersection(selves[0].rna.var_names))))))  # to dictionary"
   ]
  },
  {
   "cell_type": "markdown",
   "metadata": {},
   "source": [
    "# Clustering"
   ]
  },
  {
   "cell_type": "markdown",
   "metadata": {},
   "source": [
    "## Processing, Leiden, Annotation"
   ]
  },
  {
   "cell_type": "code",
   "execution_count": null,
   "metadata": {},
   "outputs": [],
   "source": [
    "%%time\n",
    "\n",
    "for i, s in enumerate(selves):\n",
    "    f_o = str(selves[i].rna.obs.out_file.iloc[0])\n",
    "\n",
    "    # Preprocessing\n",
    "    kpp = kws_pp_o if s.rna.obs[col_sample_id_o].isin(\n",
    "        old_seg).iloc[0] is True else kws_pp  # old or new segment pp?\n",
    "    print(\"\\n\\n\", kpp, \"\\n\\n\")\n",
    "    _ = s.preprocess(**kpp, figsize=(15, 15))  # preprocess\n",
    "\n",
    "    # Clustering at Different Resolutions & Minimum Distances\n",
    "    for j, x in enumerate(kws_clustering):\n",
    "\n",
    "        # Variables & Output Files\n",
    "        print(f\"\\n\\n{'=' * 80}\\n{x}\\n{'=' * 80}\\n\\n\")\n",
    "        cct, cca = f\"leiden_{x}\", f\"label_{x}\"  # Leiden & annotation columns\n",
    "\n",
    "        # Clustering, Markers, Annotation, & Writing Output\n",
    "        _ = s.cluster(**kws_clustering[x], key_added=cct, out_file=f_o)\n",
    "        _ = s.find_markers(col_cell_type=cct, kws_plot=False)  # DEGs\n",
    "        if assign is not None:\n",
    "            annot = assign[[col_assignment[j]]]  # gene-annotation dictionary\n",
    "            _ = s.annotate_clusters(annot, col_cell_type=cct,\n",
    "                                    col_annotation=cca)  # annotate\n",
    "        for c in [k for k in [cct, cca] if k in s.rna.obs]:  # Explorer\n",
    "            s.write_clusters(out_dir, col_cell_type=c, overwrite=True,\n",
    "                             file_prefix=f\"{s._library_id}__\",\n",
    "                             n_top=\"find_markers\")\n",
    "\n",
    "        # Write Final Object\n",
    "        if f_o is not None:\n",
    "            s.write(f_o)"
   ]
  },
  {
   "cell_type": "markdown",
   "metadata": {},
   "source": [
    "## Plot Clusters Individually (in Same PDF)"
   ]
  },
  {
   "cell_type": "code",
   "execution_count": null,
   "metadata": {},
   "outputs": [],
   "source": [
    "for i, s in enumerate(selves):\n",
    "    for x in kws_clustering:\n",
    "        print(f\"\\n\\n{'=' * 80}\\n{x}\\n{'=' * 80}\\n\\n\")\n",
    "        for c in [f\"leiden_{x}\", f\"label_{x}\"]:\n",
    "            if c not in s.rna.obs:\n",
    "                print(f\"\\n\\n{c} not in {s.rna.obs.columns}.\\n\\n\")\n",
    "            pfp = os.path.join(out_dir, \"plots\", s._library_id, f\"{c}.pdf\")\n",
    "            if out_dir is not None and (\n",
    "                    load is False or not os.path.exists(pfp)):\n",
    "                s.plot_clusters(col_cell_type=c, out_dir=pfp, multi_pdf=True,\n",
    "                                reorder=\"leiden\" in c)"
   ]
  },
  {
   "cell_type": "markdown",
   "metadata": {},
   "source": [
    "# STOP"
   ]
  },
  {
   "cell_type": "markdown",
   "metadata": {},
   "source": [
    "## ToppGene & Marker Expression"
   ]
  },
  {
   "cell_type": "code",
   "execution_count": null,
   "metadata": {},
   "outputs": [],
   "source": [
    "self = selves[0]\n",
    "print(self._library_id)\n",
    "self.get_layer(\"counts\", inplace=True)\n",
    "\n",
    "srcs = [\"Cells of the human intestinal tract mapped across space and time\",\n",
    "        \"Human Ileal Epithelial cells from Crohn’s Disease\",\n",
    "        \"Human Ileal Immune cells from Crohn’s Disease\"]\n",
    "# c_t = \"leiden_res0pt5_dist0pt5_npc30\"\n",
    "# c_t = \"leiden_res0pt75_dist0pt3_npc30\"\n",
    "c_t = \"leiden_res1pt5_dist0_npc30\"\n",
    "tgdf, mks = self.annotate_clusters(\n",
    "        None, sources=srcs, col_cell_type=c_t, max_results=10000,\n",
    "        name_pattern={srcs[0]: \"SmallIntestine\"}, p_threshold=1e-15,\n",
    "        lfc_threshold=1.5, n_top_genes=20, n_top_annotations=40)\n",
    "tgdf.loc[:, \"Name\"] = tgdf.Name.str.strip(\n",
    "        \" / Per Region, Age_group, Lineage, cell class, cell type   \").apply(\n",
    "                lambda x: re.sub(\"SmallIntestine\", \"SmInt\", \" --- \".join(\n",
    "                        x.split(\"|\")[0].split(\"-\"))))"
   ]
  },
  {
   "cell_type": "markdown",
   "metadata": {},
   "source": [
    "## Tangram Imputation"
   ]
  },
  {
   "cell_type": "markdown",
   "metadata": {},
   "source": [
    "### Impute"
   ]
  },
  {
   "cell_type": "code",
   "execution_count": null,
   "metadata": {},
   "outputs": [],
   "source": [
    "%%time\n",
    "\n",
    "if file_sc is not None:\n",
    "    adata_sc = sc.read(file_sc)  # read whole tx'ome data for imputation\n",
    "    if load is False:\n",
    "        for i, s in enumerate(selves):\n",
    "            out = s.impute(\n",
    "                adata_sc.copy(), col_cell_type=col_cell_type_sc,\n",
    "                mode=\"clusters\", markers=None, plot=False, plot_density=False,\n",
    "                plot_genes=None, col_annotation=col_tangram, out_file=None)\n",
    "            out[0].write_h5ad(os.path.splitext(selves[\n",
    "                0].rna.obs.out_file.iloc[0])[0] + \"___tangram.h5ad\")  # write\n",
    "            s.write(s.rna.obs.out_file.iloc[0])\n",
    "            s.write_clusters(out_dir, file_prefix=f\"{s._library_id}___\",\n",
    "                             col_cell_type=col_tangram,\n",
    "                             overwrite=True, n_top=True)\n",
    "    s.plot_spatial(color=col_tangram)"
   ]
  },
  {
   "cell_type": "markdown",
   "metadata": {},
   "source": [
    "### Plot Clusters"
   ]
  },
  {
   "cell_type": "code",
   "execution_count": null,
   "metadata": {},
   "outputs": [],
   "source": [
    "for s in selves:\n",
    "    s.plot_spatial(color=col_tangram)\n",
    "    for j, x in enumerate(kws_clustering):\n",
    "        _ = s.plot_spatial(color=[f\"leiden_{x}\",, f\"label_{x}\"])"
   ]
  },
  {
   "cell_type": "markdown",
   "metadata": {},
   "source": [
    "# Manual Annotations"
   ]
  },
  {
   "cell_type": "markdown",
   "metadata": {},
   "source": [
    "## Load"
   ]
  },
  {
   "cell_type": "code",
   "execution_count": null,
   "metadata": {},
   "outputs": [],
   "source": [
    "if man_anns is not None and man_anns is not False:\n",
    "    for i, s in enumerate(selves):\n",
    "        for r in man_anns:  # iterate Leiden clusterings\n",
    "            fmr = os.path.join(out_dir, \"annotation_dictionaries\", str(\n",
    "                f\"{s._library_id}___leiden_{r}_dictionary.xlsx\"))  # mappings\n",
    "            if os.path.exists(fmr) is False:\n",
    "                print(f\"{fmr} file NOT found.\")\n",
    "                continue\n",
    "            else:\n",
    "                print(f\"{fmr} file found.\")\n",
    "            if f\"leiden_{r}\" not in s.rna.obs:\n",
    "                print(f\"leiden_{r} not found in adata\")\n",
    "                continue\n",
    "            fmr = pd.read_excel(fmr).iloc[:, :2].astype(str)\n",
    "            mans = dict(fmr.set_index(fmr.columns[0]).iloc[:, 0])\n",
    "            s.rna.obs.loc[:, f\"manual_{r}\"] = s.rna.obs[f\"leiden_{r}\"].astype(\n",
    "                int).astype(str).replace(mans)  # Leiden -> manual annotation\n",
    "            s.rna.obs.loc[s.rna.obs[f\"manual_{r}\"].isnull(\n",
    "                ), f\"manual_{r}\"] = s.rna.obs.loc[s.rna.obs[\n",
    "                    f\"manual_{r}\"].isnull(), f\"leiden_{r}\"].astype(\n",
    "                        str)  # missing annotations replaced with Leiden\n",
    "            s.rna.obs.loc[:, f\"manual_{r}\"] = s.rna.obs[\n",
    "                f\"manual_{r}\"].astype(\"category\")  # as categorical\n",
    "            # s.plot_spatial(f\"manual_{r}\")"
   ]
  },
  {
   "cell_type": "markdown",
   "metadata": {},
   "source": [
    "## Write"
   ]
  },
  {
   "cell_type": "code",
   "execution_count": null,
   "metadata": {},
   "outputs": [],
   "source": [
    "if man_anns not in [None, False] and out_dir is not None:\n",
    "    for i, s in enumerate(selves):\n",
    "        for r in man_anns:\n",
    "            if f\"manual_{r}\" in s.rna.obs:\n",
    "                s.write_clusters(out_dir, col_cell_type=f\"manual_{r}\",\n",
    "                                 overwrite=True, n_top=\"find_markers\",\n",
    "                                 file_prefix=f\"{s._library_id}__\")\n",
    "        s.write(s.rna.obs.out_file.iloc[0])"
   ]
  },
  {
   "cell_type": "markdown",
   "metadata": {},
   "source": [
    "# Analyze"
   ]
  },
  {
   "cell_type": "markdown",
   "metadata": {},
   "source": [
    "## Centrality Scores"
   ]
  },
  {
   "cell_type": "code",
   "execution_count": null,
   "metadata": {},
   "outputs": [],
   "source": [
    "%%time\n",
    "\n",
    "for s in selves:\n",
    "    s.calculate_centrality(n_jobs=sc.settings.n_jobs)"
   ]
  },
  {
   "cell_type": "markdown",
   "metadata": {},
   "source": [
    "## Neighborhood Enrichment Analysis"
   ]
  },
  {
   "cell_type": "code",
   "execution_count": null,
   "metadata": {},
   "outputs": [],
   "source": [
    "%%time\n",
    "\n",
    "for s in selves:\n",
    "    _ = s.calculate_neighborhood(figsize=(60, 30))"
   ]
  },
  {
   "cell_type": "markdown",
   "metadata": {},
   "source": [
    "## Cell Type Co-Occurrence"
   ]
  },
  {
   "cell_type": "code",
   "execution_count": null,
   "metadata": {},
   "outputs": [],
   "source": [
    "%%time\n",
    "\n",
    "for s in selves:\n",
    "    _ = s.find_cooccurrence(figsize=(60, 20), kws_plot=dict(wspace=3))"
   ]
  },
  {
   "cell_type": "markdown",
   "metadata": {},
   "source": [
    "## Spatial Clustering"
   ]
  },
  {
   "cell_type": "code",
   "execution_count": null,
   "metadata": {},
   "outputs": [],
   "source": [
    "for s in selves:\n",
    "    cct = f\"leiden_spatial_{list(kws_clustering.keys())[-1]}\"\n",
    "    _ = s.cluster_spatial(key_added=cct,\n",
    "                          **kws_clustering[list(kws_clustering.keys())[-1]])\n",
    "    _ = s.find_markers(col_cell_type=cct, kws_plot=False)\n",
    "    _ = s.annotate_clusters(assign[[col_assignment[-1]]], col_cell_type=cct,\n",
    "                            col_annotation=f\"annotation_{cct}\")\n",
    "    for c in [cct, f\"annotation_{cct}\"]:\n",
    "        s.plot_spatial(c)\n",
    "        if out_dir is not None:\n",
    "            s.write_clusters(out_dir, col_cell_type=c,\n",
    "                             n_top=True, overwrite=True,\n",
    "                             file_prefix=f\"{s._library_id}___\")\n",
    "    if out_dir is not None:\n",
    "        s.write(str(s.rna.obs.out_file.iloc[0]))"
   ]
  },
  {
   "cell_type": "markdown",
   "metadata": {},
   "source": [
    "## Spatially-Variable Genes"
   ]
  },
  {
   "cell_type": "code",
   "execution_count": null,
   "metadata": {},
   "outputs": [],
   "source": [
    "%%time\n",
    "\n",
    "kws = dict(kws_plot=dict(legend_fontsize=\"large\"), figsize=(15, 15))\n",
    "for s in selves:\n",
    "    _ = s.find_svgs(genes=15, method=\"moran\", n_perms=10, **kws)"
   ]
  },
  {
   "cell_type": "markdown",
   "metadata": {},
   "source": [
    "## Receptor-Ligand Interactions"
   ]
  },
  {
   "cell_type": "code",
   "execution_count": null,
   "metadata": {},
   "outputs": [],
   "source": [
    "%%time\n",
    "\n",
    "for s in selves:\n",
    "    kss, ktt = None, None\n",
    "    _ = s.calculate_receptor_ligand(\n",
    "        col_condition=False, p_threshold=0.01, remove_ns=True,\n",
    "        figsize=(30, 20), top_n=25, key_sources=kss, key_targets=ktt)\n",
    "    # s.calculate_receptor_ligand_spatial()"
   ]
  },
  {
   "cell_type": "markdown",
   "metadata": {},
   "source": [
    "## Cell Type Composition "
   ]
  },
  {
   "cell_type": "code",
   "execution_count": null,
   "metadata": {},
   "outputs": [],
   "source": [
    "for s in selves:\n",
    "    s.run_composition_analysis()"
   ]
  },
  {
   "cell_type": "markdown",
   "metadata": {},
   "source": [
    "## GEX"
   ]
  },
  {
   "cell_type": "code",
   "execution_count": null,
   "metadata": {},
   "outputs": [],
   "source": [
    "for s in selves:\n",
    "    s.plot_spatial(color=[\"TNF\", \"IL23\", col_cell_type])"
   ]
  },
  {
   "cell_type": "code",
   "execution_count": null,
   "metadata": {},
   "outputs": [],
   "source": [
    "# _ = self.calculate_spatial_distance(\"LTi-like NCR+ ILC3\", genes=\"CSF2RB\")"
   ]
  },
  {
   "cell_type": "code",
   "execution_count": null,
   "metadata": {},
   "outputs": [],
   "source": [
    "# adata = selves[0].rna.copy()\n",
    "# adata.X = adata.layers[\"counts\"]\n",
    "# sq.tl.var_by_distance(\n",
    "#     adata, \"LTi-like NCR+ ILC3\", col_cell_type, library_key=col_sample_id,\n",
    "#     design_matrix_key=\"design_matrix\", covariates=[\"Patient\", \"Inflamed\"],\n",
    "#     metric=\"euclidean\", spatial_key=self._spatial_key, copy=False)\n",
    "# sq.pl.var_by_distance(\n",
    "#     adata=adata, var=[\"CSF2RB\", \"CSF2RA\", \"IL7R\"],\n",
    "#     anchor_key=\"LTi-like NCR+ ILC3\",\n",
    "#     covariate=\"Inflamed\")"
   ]
  },
  {
   "cell_type": "markdown",
   "metadata": {},
   "source": [
    "# Workspace"
   ]
  },
  {
   "cell_type": "markdown",
   "metadata": {},
   "source": [
    "## Cell Counts"
   ]
  },
  {
   "cell_type": "markdown",
   "metadata": {},
   "source": [
    "## Counts (Re-Load)"
   ]
  },
  {
   "cell_type": "code",
   "execution_count": null,
   "metadata": {},
   "outputs": [],
   "source": [
    "import os\n",
    "import itertools\n",
    "import matplotlib.pyplot as plt\n",
    "import seaborn as sb\n",
    "import pandas as pd\n",
    "\n",
    "# ddd = \"/home/asline01/projects/senescence/analysis\"\n",
    "ddd = os.path.join(ddu, \"projects/senescence/analysis\")\n",
    "label = \"snc\"\n",
    "c_l = \"leiden_res1pt5_dist0_npc30\"\n",
    "c_m = \"manual_\" + \"_\".join(c_l.split(\"_\")[1:])\n",
    "# col_condition = \"Condition\"\n",
    "# col_sample = \"Sample\"\n",
    "# col_subject = \"Patient\"\n",
    "# ddl = \"/home/asline01/projects/data/shared-xenium-library\"\n",
    "# out_dir = os.path.join(ddl, \"outputs\", \"TUQ97N\", \"nebraska\")\n",
    "g_c = [\"CDKN1A\", \"TP53\", \"PLAUR\"]\n",
    "\n",
    "key_uninfl, key_infl, key_stric = \"Uninflamed\", \"Inflamed\", \"Stricture\"\n",
    "\n",
    "snc = pd.read_csv(os.path.join(ddd, f\"quantification_{label}.csv\"))\n",
    "fig = sb.catplot(snc, y=\"Ratio\", x=\"Gene\", hue=col_condition, col=\"Threshold\",\n",
    "                 hue_order=[key_uninfl, key_infl, key_stric],\n",
    "                 palette=[\"blue\", \"red\", \"yellow\"],\n",
    "                 kind=\"box\", sharey=False)\n",
    "fig.fig.show()\n",
    "\n",
    "tx_cts = pd.read_csv(os.path.join(\n",
    "\tddd, f\"quantification_{label}_tx_cts.csv\"))\n",
    "samp_map = tx_cts[[col_sample]]\n",
    "for i, x in enumerate([col_condition, col_subject]):\n",
    "\tsamp_map.loc[:, x] = tx_cts[col_sample].apply(\n",
    "\t\tlambda x: x.split(\"-\")[i] if i == 0 else x.split(\"-\")[i][:-1])\n",
    "samp_map = samp_map.set_index(col_sample)\n",
    "tx_cts = tx_cts.set_index(col_sample).join(samp_map)\n",
    "tx_cts = tx_cts.set_index(col_condition, append=True).set_index(\n",
    "    \"Gene\", append=True)[\"0\"].to_frame(\n",
    "        \"Count\").reorder_levels([1, 0, 2]).sort_index()\n",
    "\n",
    "fig = sb.catplot(tx_cts, hue=col_condition, x=col_condition,\n",
    "                 hue_order=[key_uninfl, key_infl, key_stric],\n",
    "                 palette=[\"blue\", \"red\", \"yellow\"],\n",
    "\t\t\t\t y=\"Count\", col=\"Gene\", kind=\"box\")\n",
    "fig.fig.show()\n",
    "\n",
    "keys = [g_c] + [list(p) for p in itertools.combinations(g_c, 2)]\n",
    "vvs = pd.read_csv(os.path.join(ddd, f\"quantification_ncells_{label}.csv\"))\n",
    "vvr = vvs.copy()  # to hold % instead of counts in Gene1/Gene2+ etc.\n",
    "for x in [\"/\".join(k) + \"+\" for k in keys]:\n",
    "    vvr.loc[:, x] = 100 * vvr[x] / vvr[\"n_cluster\"]\n",
    "vvr = vvr.set_index([col_subject, col_condition, c_l]).reorder_levels(\n",
    "\t[1, 0, 2]).sort_index()\n",
    "vvr = vvr[[\"/\".join(k) + \"+\" for k in keys]].rename_axis(\n",
    "    \"Label\", axis=1).stack().to_frame(\"Percent\")\n",
    "vvr = vvr.reset_index().set_index([vvr.index.names[-1]] + list(\n",
    "    vvr.index.names[:-1])).sort_index()\n",
    "\n",
    "vvv = vvr.reset_index().astype({col_subject: str}).set_index(\n",
    "    vvr.index.names).join(samp_map.reset_index().astype({\n",
    "        col_subject: str}).set_index([col_condition, col_subject])[[\n",
    "            col_sample]], on=[col_condition, col_subject]).reset_index(\n",
    "                ).set_index(col_sample)\n",
    "for libid in [\"Uninflamed-50006B\", \"Inflamed-50006A\", \"Stricture-50006C\"]:\n",
    "    r = \"res1pt5_dist0_npc30\"\n",
    "    fmr = os.path.join(out_dir, \"annotation_dictionaries\", str(\n",
    "        f\"{libid}___leiden_{r}_dictionary.xlsx\"))  # mappings\n",
    "    fmr = pd.read_excel(fmr).iloc[:, :2].astype(str)\n",
    "    mans = dict(fmr.set_index(fmr.columns[0]).iloc[:, 0])\n",
    "    vvv.loc[libid, f\"manual_{r}\"] = vvv.loc[libid, f\"leiden_{r}\"].astype(\n",
    "        int).astype(str).replace(mans)  # Leiden -> manual annotation\n",
    "vvv.loc[:, f\"manual_{r}\"] = vvv[f\"manual_{r}\"].astype(\"category\")\n",
    "vvv = vvv.reset_index().set_index(vvr.index.names)"
   ]
  },
  {
   "cell_type": "code",
   "execution_count": null,
   "metadata": {},
   "outputs": [],
   "source": [
    "for x in vvv.reset_index()[\"Label\"].unique():\n",
    "    fig = sb.catplot(vvv.loc[x], x=c_m, y=\"Percent\", sharex=False,\n",
    "                     kind=\"bar\", margin_titles=True,\n",
    "                     hue_order=[key_uninfl, key_infl, key_stric],\n",
    "                     palette=[\"blue\", \"red\", \"yellow\"],\n",
    "                     hue=col_condition, col=col_subject)\n",
    "    fig.set_xticklabels(rotation=90)\n",
    "    fig.set_yticklabels(rotation=30)\n",
    "    fig.fig.tight_layout()\n",
    "    fig.fig.suptitle(x)\n",
    "    fig.fig.set_size_inches(30, 30)\n",
    "    fig.fig.show()"
   ]
  },
  {
   "cell_type": "markdown",
   "metadata": {},
   "source": [
    "## PA CD"
   ]
  },
  {
   "cell_type": "code",
   "execution_count": null,
   "metadata": {},
   "outputs": [],
   "source": [
    "mks = pd.read_csv(\"/mnt/cho_lab/disk2/jiayuzh/projects/perianal-cd/analysis\"\n",
    "                  \"/coreSC/output/output_2024-05-06_11.53.33/all_markers.csv\",\n",
    "                  index_col=0).rename_axis(\"gene_ix\").reset_index(\n",
    "                      ).set_index([\"cluster\", \"gene\"])\n",
    "srcs = [\"Cells of the human intestinal tract mapped across space and time\",\n",
    "        \"Human Ileal Epithelial cells from Crohn’s Disease\",\n",
    "        \"Human Ileal Immune cells from Crohn’s Disease\"]\n",
    "kwarg = dict(sources=srcs, max_results=10000,\n",
    "              name_pattern={srcs[0]: \"SmallIntestine\"})\n",
    "nta, ntg = 40, 20\n",
    "mmm = mks[mks.p_val_adj <= 1e-15]\n",
    "mmm = mmm[mmm.avg_log2FC >= 0.75]  # filter ~ LFC\n",
    "mmm = mmm.groupby(\"cluster\").apply(lambda x: x.iloc[:min(x.shape[\n",
    "    0], ntg)]).reset_index(0, drop=True)  # only N top\n",
    "types = mmm.reset_index().cluster.unique()\n",
    "tgdf = pd.concat([cr.tl.get_topp_gene(\n",
    "    list(mmm.loc[x].index.values), **kwargs, verbose=False).drop(\n",
    "        \"Source\", axis=1).reset_index(0, drop=True).iloc[:nta]\n",
    "    for x in types], keys=types)  # ToppGene results"
   ]
  },
  {
   "cell_type": "code",
   "execution_count": null,
   "metadata": {},
   "outputs": [],
   "source": [
    "clus = 5\n",
    "mcm = mmm[(mmm[\"pct.1\"] >= 0.5) & (mmm[\"pct.2\"] <= 0.33)].loc[clus]\n",
    "ggg = list(mcm.iloc[:30].index)\n",
    "print(\", \".join(ggg), \"\\n\")\n",
    "mcm"
   ]
  },
  {
   "cell_type": "code",
   "execution_count": null,
   "metadata": {},
   "outputs": [],
   "source": [
    "ggg = list(mmm.loc[clus].iloc[:30].index)\n",
    "print(\", \".join(ggg), \"\\n\")\n",
    "print(assign.loc[assign.index.intersection(ggg)].rename_axis(\n",
    "    \"gene\").reset_index().groupby(\"group\").apply(\n",
    "        lambda x: \", \".join(x.gene.unique())))\n",
    "tgdf.loc[clus]"
   ]
  },
  {
   "cell_type": "markdown",
   "metadata": {},
   "source": [
    "## Manual Annotations"
   ]
  },
  {
   "cell_type": "markdown",
   "metadata": {},
   "source": [
    "### Uninflamed-50452A"
   ]
  },
  {
   "cell_type": "code",
   "execution_count": null,
   "metadata": {},
   "outputs": [],
   "source": [
    "i = 0\n",
    "s = selves[i]\n",
    "r = \"leiden_res1pt5_dist0_npc30\"\n",
    "s.get_layer(\"counts\", inplace=True)\n",
    "print(np.mean(s.rna[s.rna.obs[f\"leiden_{r}\"] == \"9\"][:, \"CD79A\"].X > 0))\n",
    "print(np.mean(s.rna[s.rna.obs[f\"leiden_{r}\"] == \"9\"][:, \"CD79B\"].X > 0))\n",
    "print(np.mean(s.rna[s.rna.obs[f\"leiden_{r}\"] == \"6\"][:, \"CD79A\"].X > 0))\n",
    "print(np.mean(s.rna[s.rna.obs[f\"leiden_{r}\"] == \"6\"][:, \"CD79B\"].X > 0))\n",
    "print(np.mean(s.rna[s.rna.obs[f\"leiden_{r}\"] == \"6\"][\n",
    "    :, \"ADAMDEC1\"].X > 0))"
   ]
  },
  {
   "cell_type": "code",
   "execution_count": null,
   "metadata": {},
   "outputs": [],
   "source": [
    "for x in [\"COL1A1\", \"PEG10\", \"RCN3\"]:\n",
    "    print(np.mean(s.rna[s.rna.obs[f\"leiden_{r}\"] == \"10\"][:, x].X > 0))"
   ]
  },
  {
   "cell_type": "code",
   "execution_count": null,
   "metadata": {},
   "outputs": [],
   "source": [
    "for x in [\"BMP5\", \"F3\", \"MMP11\", \"CCL8\", \"NPY\", \"CH25H\"]:\n",
    "    print(np.mean(s.rna[s.rna.obs[f\"leiden_{r}\"] == \"15\"][:, x].X > 0))"
   ]
  },
  {
   "cell_type": "code",
   "execution_count": null,
   "metadata": {},
   "outputs": [],
   "source": [
    "for x in [\"LGR5\"]:\n",
    "    print(np.mean(s.rna[s.rna.obs[f\"leiden_{r}\"] == \"16\"][:, x].X > 0))"
   ]
  },
  {
   "cell_type": "code",
   "execution_count": null,
   "metadata": {},
   "outputs": [],
   "source": [
    "for x in [\"CRIP2\", \"KCNA5\", \"LBH\", \"NET1\", \"PLN\", \"RERGL\"]:\n",
    "    print(round(np.mean(s.rna[s.rna.obs[f\"leiden_{r}\"] == \"20\"][:, x].X > 0) * 100, 0))"
   ]
  },
  {
   "cell_type": "code",
   "execution_count": null,
   "metadata": {},
   "outputs": [],
   "source": [
    "for x in [\"TPSAB1\", \"CMA1\"]:\n",
    "    print(np.mean(s.rna[s.rna.obs[f\"leiden_{r}\"] == \"21\"][:, x].X > 0))"
   ]
  },
  {
   "cell_type": "code",
   "execution_count": null,
   "metadata": {},
   "outputs": [],
   "source": [
    "for x in [\"GNLY\", \"GZMB\"]:\n",
    "    print(np.mean(s.rna[s.rna.obs[f\"leiden_{r}\"] != \"23\"][:, x].X > 0))"
   ]
  },
  {
   "cell_type": "code",
   "execution_count": null,
   "metadata": {},
   "outputs": [],
   "source": [
    "for x in marker_genes_dict[\"Pericyte\"]:\n",
    "    print(int(100 * np.mean(s.rna[s.rna.obs[f\"leiden_{r}\"] == \"25\"][\n",
    "        :, x].X > 0)), \" vs. \", int(100 * np.mean(s.rna[s.rna.obs[\n",
    "            f\"leiden_{r}\"] != \"25\"][:, x].X > 0)))"
   ]
  },
  {
   "cell_type": "code",
   "execution_count": null,
   "metadata": {},
   "outputs": [],
   "source": [
    "comp = \"2\"\n",
    "print(\", \".join([x + \": \" + str(int(100 * np.mean(s.rna[s.rna.obs[\n",
    "    f\"leiden_{r}\"] == \"11\"][:, x].X > 0))) + \" vs. \" + str(int(\n",
    "        100 * np.mean(s.rna[s.rna.obs[f\"leiden_{r}\"] == comp][\n",
    "            :, x].X > 0))) + \"%\" for x in [\"COL4A1\", \"COL4A2\", \"DLC1\"]]))\n",
    "print(f\"\\n...compared to {comp}\")"
   ]
  },
  {
   "cell_type": "code",
   "execution_count": null,
   "metadata": {},
   "outputs": [],
   "source": [
    "print(\", \".join([x + \": \" + str(int(100 * np.mean(s.rna[s.rna.obs[\n",
    "    f\"leiden_{r}\"] == \"9\"][:, x].X > 0))) + \" vs. \" + str(int(\n",
    "        100 * np.mean(s.rna[s.rna.obs[f\"leiden_{r}\"] != \"9\"][\n",
    "            :, x].X > 0))) + \"%\" for x in [\n",
    "                \"ZBTB38\", \"IFNAR2\", \"SELENOM\", \"XBP1\"]]))"
   ]
  },
  {
   "cell_type": "markdown",
   "metadata": {},
   "source": [
    "### Stricture-50452C"
   ]
  },
  {
   "cell_type": "code",
   "execution_count": null,
   "metadata": {},
   "outputs": [],
   "source": [
    "# Memory B\n",
    "# Stricture-50452C___leiden_res0.75_dist0.3_npc30\n",
    "i = -1\n",
    "s = selves[i]\n",
    "r = \"leiden_res0.75_dist0.3_npc30\"\n",
    "s.rna.obs.loc[:, f\"leiden_{r}\"] = s.rna.obs[\n",
    "    f\"leiden_{r}\"].astype(float).astype(int).astype(str)\n",
    "clid = \"21\"\n",
    "comp = [\"2\", \"16\", \"18\"]\n",
    "print(\", \".join([x + \": \" + str(int(100 * np.mean(s.rna[s.rna.obs[\n",
    "    f\"leiden_{r}\"] == clid][:, x].X > 0))) + \" vs. \" + str(int(\n",
    "        100 * np.mean(s.rna[s.rna.obs[f\"leiden_{r}\"].isin(comp)][\n",
    "            :, x].X > 0))) + \"%\" for x in [\n",
    "                \"GPR183\", \"HHEX\", \"INPP5D\", \"LRRK2\"]]))\n",
    "print(f\"\\n...compared to {comp}\")"
   ]
  },
  {
   "cell_type": "code",
   "execution_count": null,
   "metadata": {},
   "outputs": [],
   "source": [
    "# Naive B\n",
    "# Stricture-50452C___leiden_res0.75_dist0.3_npc30\n",
    "i = -1\n",
    "s = selves[i]\n",
    "r = \"leiden_res0.75_dist0.3_npc30\"\n",
    "s.rna.obs.loc[:, f\"leiden_{r}\"] = s.rna.obs[\n",
    "    f\"leiden_{r}\"].astype(float).astype(int).astype(str)\n",
    "clid = \"21\"\n",
    "comp = [\"2\", \"16\", \"18\"]\n",
    "print(\", \".join([x + \": \" + str(int(100 * np.mean(s.rna[s.rna.obs[\n",
    "    f\"leiden_{r}\"] == clid][:, x].X > 0))) + \" vs. \" + str(int(\n",
    "        100 * np.mean(s.rna[s.rna.obs[f\"leiden_{r}\"].isin(comp)][\n",
    "            :, x].X > 0))) + \"%\" for x in [\n",
    "                \"IRF1\", \"LNPEP\", \"PLAC8\", \"IFITM1\"]]))\n",
    "print(f\"\\n...compared to {comp}\")"
   ]
  },
  {
   "cell_type": "markdown",
   "metadata": {},
   "source": [
    "### Uninflamed-50006B"
   ]
  },
  {
   "cell_type": "code",
   "execution_count": null,
   "metadata": {},
   "outputs": [],
   "source": [
    "# Neural-Glia\n",
    "# Uninflamed-50006B\n",
    "i = 0\n",
    "s = selves[i]\n",
    "r = \"leiden_res1pt5_dist0_npc30\"\n",
    "clus = \"24\"\n",
    "comp = [\"19\"]\n",
    "comp = list(set(comp).difference(set([clus])))\n",
    "ccc = \", \".join([x + \": \" + str(int(100 * np.mean(s.rna[s.rna.obs[r] == clus][\n",
    "    :, x].X > 0))) + \" vs. \" + str(int(100 * np.mean(s.rna[s.rna.obs[\n",
    "        r].isin(comp)][:, x].X > 0))) + \"%\" for x in assign[\n",
    "            assign.Bin == \"Neural\"].index.intersection(\n",
    "                s.rna.var_names).difference(assign[\n",
    "                    assign.Bin == \"Glia\"].index)])\n",
    "f\"{clus} compared to {comp}: {ccc}\""
   ]
  },
  {
   "cell_type": "code",
   "execution_count": null,
   "metadata": {},
   "outputs": [],
   "source": [
    "# Epithelial\n",
    "# Uninflamed-50006B\n",
    "i = 0\n",
    "s = selves[i]\n",
    "r = \"leiden_res1pt5_dist0_npc30\"\n",
    "clus = \"26\"\n",
    "# comp = [\"10\", \"28\"]\n",
    "# comp = [\"1\", \"3\", \"4\", \"7\", \"8\", \"10\", \"20\", \"26\"]\n",
    "# comp = [\"3\", \"4\", \"7\", \"8\", \"10\", \"26\"]\n",
    "comp = [\"4\", \"7\", \"8\", \"9\"]  # suspected goblets\n",
    "# comp = [\"8\"]\n",
    "comp = list(set(comp).difference(set([clus])))\n",
    "ccc = \", \".join([x + \": \" + str(int(100 * np.mean(s.rna[s.rna.obs[r] == clus][\n",
    "    :, x].X > 0))) + \" vs. \" + str(int(100 * np.mean(s.rna[s.rna.obs[\n",
    "        r].isin(comp)][:, x].X > 0))) + \"%\" for x in [\n",
    "            \"MUC2\", \"MUC4\", \"MUC1\", \"KLK1\", \"ZG16\",  # \"FAM3D\",\n",
    "            \"BEST2\", \"BEST4\",\"LGR5\", \"CDCA7\", \"CCL20\", \"LYZ\",\n",
    "            \"HCK\", \"MATK\", \"ZFHX3\"]])  # Tuft markers\n",
    "f\"{clus} compared to {comp}: {ccc}\""
   ]
  },
  {
   "cell_type": "code",
   "execution_count": null,
   "metadata": {},
   "outputs": [],
   "source": [
    "# Eptithelial\n",
    "# Uninflamed-50006B\n",
    "i = 0\n",
    "s = selves[i]\n",
    "r = \"leiden_res1pt5_dist0_npc30\"\n",
    "clus = \"26\"\n",
    "comp = [\"10\", \"28\"]\n",
    "# comp = [\"1\", \"3\", \"4\", \"7\", \"8\", \"10\", \"20\", \"26\"]\n",
    "# comp = [\"3\", \"4\", \"7\", \"8\", \"10\", \"26\"]\n",
    "# comp = [\"4\", \"7\", \"8\", \"9\"]  # suspected goblets\n",
    "# comp = [\"8\"]\n",
    "comp = list(set(comp).difference(set([clus])))\n",
    "ccc = \", \".join([x + \": \" + str(int(100 * np.mean(s.rna[s.rna.obs[r] == clus][\n",
    "    :, x].X > 0))) + \" vs. \" + str(int(100 * np.mean(s.rna[s.rna.obs[\n",
    "        r].isin(comp)][:, x].X > 0))) + \"%\" for x in [\n",
    "            \"MUC5B\", \"KIT\", \"MARCKSL1\", \"NACA\", \"FAM3D\", \"LCN2\", \"IRF2BP2\",\n",
    "            \"MUC4\", \"SATB2\", \"UQCRC1\", \"SLC39A8\", \"SERBP1\", \"TP53\", \"MYO10\",\n",
    "            \"KLK1\", \"HMGB1\", \"HOXA3\", \"NR5A2\", \"CAT\", \"LIMA1\", \"COX8A\",\n",
    "            \"LGALS9\", \"HMGB2\", \"CDCA7\", \"ZFP91\", \"MUC1\", \"ATF6B\"]])\n",
    "f\"{clus} compared to {comp}: {ccc}\""
   ]
  },
  {
   "cell_type": "code",
   "execution_count": null,
   "metadata": {},
   "outputs": [],
   "source": [
    "ggc = [\"HCK\", \"MATK\", \"ZFHX3\"]\n",
    "subs = s.rna[s.rna.obs[r] == clus].copy()\n",
    "subs = sc.tl.score_genes(subs, ggc, score_name=\"|\".join(ggc),\n",
    "                         use_raw=False, copy=True)  # score co-GEX\n",
    "np.mean(subs.obs[\"|\".join(ggc)] > 0)"
   ]
  },
  {
   "cell_type": "markdown",
   "metadata": {},
   "source": [
    "### Stricture-50006C"
   ]
  },
  {
   "cell_type": "code",
   "execution_count": null,
   "metadata": {},
   "outputs": [],
   "source": [
    "# Stricture-50006C\n",
    "# T Cell\n",
    "i = -1\n",
    "s = selves[i]\n",
    "r = \"leiden_res1pt5_dist0_npc30\"\n",
    "clus = \"22\"\n",
    "comp = list(s.rna.obs[r].unique())\n",
    "comp = list(set(comp).difference(set([clus])))\n",
    "ccc = \", \".join([x + \": \" + str(int(100 * np.mean(s.rna[s.rna.obs[r] == clus][\n",
    "    :, x].X > 0))) + \" vs. \" + str(int(100 * np.mean(s.rna[s.rna.obs[\n",
    "        r].isin(comp)][:, x].X > 0))) + \"%\" for x in assign[\n",
    "            assign.Bin == \"T Cell\"].index.intersection(s.rna.var_names)])\n",
    "f\"{clus} compared to {comp}: {ccc}\""
   ]
  },
  {
   "cell_type": "code",
   "execution_count": null,
   "metadata": {},
   "outputs": [],
   "source": [
    "# Stricture-50006C\n",
    "# gDT\n",
    "i = -1\n",
    "s = selves[i]\n",
    "r = \"leiden_res1pt5_dist0_npc30\"\n",
    "clus = \"27\"\n",
    "comp = list(s.rna.obs[r].unique())\n",
    "comp = list(set(comp).difference(set([clus])))\n",
    "ccc = \", \".join([x + \": \" + str(int(100 * np.mean(s.rna[s.rna.obs[r] == clus][\n",
    "    :, x].X > 0))) + \" vs. \" + str(int(100 * np.mean(s.rna[s.rna.obs[\n",
    "        r].isin(comp)][:, x].X > 0))) + \"%\" for x in assign[\n",
    "            assign.group.apply(lambda x: \"gdT\" in x)\n",
    "            ].index.intersection(s.rna.var_names)])\n",
    "f\"{clus} compared to {comp}: {ccc}\""
   ]
  },
  {
   "cell_type": "code",
   "execution_count": null,
   "metadata": {},
   "outputs": [],
   "source": [
    "# Stricture-50006C\n",
    "# LEC\n",
    "i = -1\n",
    "s = selves[i]\n",
    "r = \"leiden_res1pt5_dist0_npc30\"\n",
    "clus = \"27\"\n",
    "comp = list(s.rna.obs[r].unique())\n",
    "comp = list(set(comp).difference(set([clus])))\n",
    "ccc = \", \".join([x + \": \" + str(int(100 * np.mean(s.rna[s.rna.obs[r] == clus][\n",
    "    :, x].X > 0))) + \" vs. \" + str(int(100 * np.mean(s.rna[s.rna.obs[\n",
    "        r].isin(comp)][:, x].X > 0))) + \"%\" for x in assign[\n",
    "            assign.group.apply(lambda x: \"LEC\" in x)\n",
    "            ].index.intersection(s.rna.var_names)])\n",
    "f\"{clus} compared to {comp}: {ccc}\""
   ]
  },
  {
   "cell_type": "code",
   "execution_count": null,
   "metadata": {},
   "outputs": [],
   "source": [
    "# Stricture-50006C\n",
    "# cDC\n",
    "i = -1\n",
    "s = selves[i]\n",
    "r = \"leiden_res1pt5_dist0_npc30\"\n",
    "clus = \"25\"\n",
    "# comp = list(s.rna.obs[r].unique())\n",
    "comp = [\"6\"]\n",
    "comp = list(set(comp).difference(set([clus])))\n",
    "ccc = \", \".join([x + \": \" + str(int(100 * np.mean(s.rna[s.rna.obs[r] == clus][\n",
    "    :, x].X > 0))) + \" vs. \" + str(int(100 * np.mean(s.rna[s.rna.obs[\n",
    "        r].isin(comp)][:, x].X > 0))) + \"%\" for x in assign[\n",
    "            assign.group == \"cDC1\"].index.intersection(s.rna.var_names)])\n",
    "f\"{clus} compared to {comp}: {ccc}\""
   ]
  },
  {
   "cell_type": "code",
   "execution_count": null,
   "metadata": {},
   "outputs": [],
   "source": [
    "# Stricture-50006C\n",
    "i = -1\n",
    "s = selves[i]\n",
    "r = \"leiden_res1pt5_dist0_npc30\"\n",
    "clus = \"21\"\n",
    "comp = list(s.rna.obs[r].unique())\n",
    "comp = list(set(comp).difference(set([clus])))\n",
    "ccc = \", \".join([x + \": \" + str(int(100 * np.mean(s.rna[s.rna.obs[r] == clus][\n",
    "    :, x].X > 0))) + \" vs. \" + str(int(100 * np.mean(s.rna[s.rna.obs[\n",
    "        r].isin(comp)][:, x].X > 0))) + \"%\" for x in assign[\n",
    "            assign.Bin == \"Neural\"].index.intersection(s.rna.var_names)])\n",
    "f\"{clus} compared to {comp}: {ccc}\""
   ]
  },
  {
   "cell_type": "code",
   "execution_count": null,
   "metadata": {},
   "outputs": [],
   "source": [
    "# Stricture-50006C\n",
    "i = -1\n",
    "s = selves[i]\n",
    "r = \"leiden_res1pt5_dist0_npc30\"\n",
    "clus = \"11\"\n",
    "comp = list(s.rna.obs[r].unique())\n",
    "comp = list(set(comp).difference(set([clus])))\n",
    "ccc = \", \".join([x + \": \" + str(int(100 * np.mean(s.rna[s.rna.obs[r] == clus][\n",
    "    :, x].X > 0))) + \" vs. \" + str(int(100 * np.mean(s.rna[s.rna.obs[\n",
    "        r].isin(comp)][:, x].X > 0))) + \"%\" for x in [\"LYVE1\"]])\n",
    "f\"{clus} compared to {comp}: {ccc}\""
   ]
  },
  {
   "cell_type": "code",
   "execution_count": null,
   "metadata": {},
   "outputs": [],
   "source": [
    "# Stricture-50006C\n",
    "i = -1\n",
    "s = selves[i]\n",
    "r = \"leiden_res1pt5_dist0_npc30\"\n",
    "clus = \"27\"\n",
    "comp = list(s.rna.obs[r].unique())\n",
    "comp = list(set(comp).difference(set([clus])))\n",
    "ccc = \", \".join([x + \": \" + str(int(100 * np.mean(s.rna[s.rna.obs[r] == clus][\n",
    "    :, x].X > 0))) + \" vs. \" + str(int(100 * np.mean(s.rna[s.rna.obs[\n",
    "        r].isin(comp)][:, x].X > 0))) + \"%\" for x in assign[\n",
    "            assign.Bin == \"Endothelial\"].index.intersection(s.rna.var_names)])\n",
    "f\"{clus} compared to {comp}: {ccc}\""
   ]
  },
  {
   "cell_type": "code",
   "execution_count": null,
   "metadata": {},
   "outputs": [],
   "source": [
    "# Stricture-50006C\n",
    "i = -1\n",
    "s = selves[i]\n",
    "r = \"leiden_res1pt5_dist0_npc30\"\n",
    "clus = \"31\"\n",
    "comp = [\"4\"]\n",
    "comp = list(set(comp).difference(set([clus])))\n",
    "ccc = \", \".join([x + \": \" + str(int(100 * np.mean(s.rna[s.rna.obs[r] == clus][\n",
    "    :, x].X > 0))) + \" vs. \" + str(int(100 * np.mean(s.rna[s.rna.obs[\n",
    "        r].isin(comp)][:, x].X > 0))) + \"%\" for x in assign[\n",
    "            assign.Bin == \"Glia\"].index.intersection(s.rna.var_names)])\n",
    "f\"{clus} compared to {comp}: {ccc}\""
   ]
  },
  {
   "cell_type": "markdown",
   "metadata": {},
   "source": [
    "### Uninflamed-50336C\n"
   ]
  },
  {
   "cell_type": "code",
   "execution_count": null,
   "metadata": {},
   "outputs": [],
   "source": [
    "# Stricture-50006C\n",
    "i = 0\n",
    "s = selves[i]\n",
    "r = \"leiden_res1pt5_dist0_npc30\"\n",
    "clus = \"9\"\n",
    "# comp = [\"4\"]\n",
    "comp = list(s.rna.obs[r].unique())\n",
    "comp = list(set(comp).difference(set([clus])))\n",
    "ccc = \", \".join([x + \": \" + str(int(100 * np.mean(s.rna[s.rna.obs[r] == clus][\n",
    "    :, x].X > 0))) + \" vs. \" + str(int(100 * np.mean(s.rna[s.rna.obs[\n",
    "        r].isin(comp)][:, x].X > 0))) + \"%\" for x in assign[\n",
    "            assign.group == \"LYVE1+ Macrophage\"].index.intersection(\n",
    "                s.rna.var_names)])\n",
    "f\"{clus} compared to {comp}: {ccc}\""
   ]
  },
  {
   "cell_type": "code",
   "execution_count": null,
   "metadata": {},
   "outputs": [],
   "source": [
    "# Stricture-50006C\n",
    "i = 0\n",
    "s = selves[i]\n",
    "r = \"leiden_res1pt5_dist0_npc30\"\n",
    "clus = \"0\"\n",
    "# comp = [\"4\"]\n",
    "comp = list(s.rna.obs[r].unique())\n",
    "comp = list(set(comp).difference(set([clus])))\n",
    "ccc = \", \".join([x + \": \" + str(int(100 * np.mean(s.rna[s.rna.obs[r] == clus][\n",
    "    :, x].X > 0))) + \" vs. \" + str(int(100 * np.mean(s.rna[s.rna.obs[\n",
    "        r].isin(comp)][:, x].X > 0))) + \"%\" for x in assign[\n",
    "            assign.Bucket == \"B Cell\"].index.intersection(\n",
    "                s.rna.var_names)])\n",
    "f\"{clus} compared to {comp}: {ccc}\""
   ]
  },
  {
   "cell_type": "code",
   "execution_count": null,
   "metadata": {},
   "outputs": [],
   "source": [
    "# Stricture-50006C\n",
    "# Stem/TA\n",
    "i = 0\n",
    "s = selves[i]\n",
    "r = \"leiden_res1pt5_dist0_npc30\"\n",
    "ggx = assign[assign[\"group\"].isin([\"Stem cells\",\n",
    "                                   \"Proximal progenitor\"])].index\n",
    "# ggx = [\"LGR5\"]\n",
    "clus = \"13\"\n",
    "comp = [\"2\"]\n",
    "# comp = list(s.rna.obs[r].unique())\n",
    "ccc = \", \".join([x + \": \" + str(int(100 * np.mean(s.rna[s.rna.obs[r] == clus][\n",
    "    :, x].X > 0))) + \" vs. \" + str(int(100 * np.mean(s.rna[s.rna.obs[r].isin(\n",
    "        list(set(comp).difference(set([clus]))))][:, x].X > 0))) + \"%\"\n",
    "    for x in set(ggx).intersection(s.rna.var_names)])\n",
    "f\"{clus} compared to {comp}: {ccc}\""
   ]
  },
  {
   "cell_type": "code",
   "execution_count": null,
   "metadata": {},
   "outputs": [],
   "source": [
    "# Stricture-50006C\n",
    "# Goblet\n",
    "i = 0\n",
    "s = selves[i]\n",
    "r = \"leiden_res1pt5_dist0_npc30\"\n",
    "ggx = assign[assign[\"Bin\"].isin([\"Goblet\"])].index\n",
    "# ggx = [\"LGR5\"]\n",
    "clus = \"14\"\n",
    "comp = [\"3\"]\n",
    "# comp = list(s.rna.obs[r].unique())\n",
    "ccc = \", \".join([x + \": \" + str(int(100 * np.mean(s.rna[s.rna.obs[r] == clus][\n",
    "    :, x].X > 0))) + \" vs. \" + str(int(100 * np.mean(s.rna[s.rna.obs[r].isin(\n",
    "        list(set(comp).difference(set([clus]))))][:, x].X > 0))) + \"%\"\n",
    "    for x in set(ggx).intersection(s.rna.var_names)])\n",
    "f\"{clus} compared to {comp}: {ccc}\""
   ]
  },
  {
   "cell_type": "code",
   "execution_count": null,
   "metadata": {},
   "outputs": [],
   "source": [
    "# Stricture-50006C\n",
    "# Stem/Paneth\n",
    "i = 0\n",
    "s = selves[i]\n",
    "r = \"leiden_res1pt5_dist0_npc30\"\n",
    "ggx = [\"LYZ\", \"LCN2\", \"RAMP1\"]\n",
    "clus = \"19\"\n",
    "comp = [\"3\"]\n",
    "# comp = list(s.rna.obs[r].unique())\n",
    "ccc = \", \".join([x + \": \" + str(int(100 * np.mean(s.rna[s.rna.obs[r] == clus][\n",
    "    :, x].X > 0))) + \" vs. \" + str(int(100 * np.mean(s.rna[s.rna.obs[r].isin(\n",
    "        list(set(comp).difference(set([clus]))))][:, x].X > 0))) + \"%\"\n",
    "    for x in set(ggx).intersection(s.rna.var_names)])\n",
    "f\"{clus} compared to {comp}: {ccc}\""
   ]
  },
  {
   "cell_type": "code",
   "execution_count": null,
   "metadata": {},
   "outputs": [],
   "source": [
    "# Stricture-50006C\n",
    "# Stem/Paneth\n",
    "i = 0\n",
    "s = selves[i]\n",
    "r = \"leiden_res1pt5_dist0_npc30\"\n",
    "ggx = assign[assign[\"group\"].isin([\"Mast Cell\"])].index\n",
    "clus = \"24\"\n",
    "comp = list(s.rna.obs[r].unique())\n",
    "ccc = \", \".join([x + \": \" + str(int(100 * np.mean(s.rna[s.rna.obs[r] == clus][\n",
    "    :, x].X > 0))) + \" vs. \" + str(int(100 * np.mean(s.rna[s.rna.obs[r].isin(\n",
    "        list(set(comp).difference(set([clus]))))][:, x].X > 0))) + \"%\"\n",
    "    for x in set(ggx).intersection(s.rna.var_names)])\n",
    "f\"{clus} compared to {comp}: {ccc}\""
   ]
  },
  {
   "cell_type": "code",
   "execution_count": null,
   "metadata": {},
   "outputs": [],
   "source": [
    "# Stricture-50006C\n",
    "# MF/DP\n",
    "i = 0\n",
    "s = selves[i]\n",
    "r = \"leiden_res1pt5_dist0_npc30\"\n",
    "ggx = assign[assign[\"Bin\"].isin([\"Myofibroblast\"])].index\n",
    "clus = \"31\"\n",
    "# comp = list(s.rna.obs[r].unique())\n",
    "# comp = [\"1\", \"6\"]\n",
    "comp = [\"17\", \"22\"]\n",
    "ccc = \", \".join([x + \": \" + str(int(100 * np.mean(s.rna[s.rna.obs[r] == clus][\n",
    "    :, x].X > 0))) + \" vs. \" + str(int(100 * np.mean(s.rna[s.rna.obs[r].isin(\n",
    "        list(set(comp).difference(set([clus]))))][:, x].X > 0))) + \"%\"\n",
    "    for x in set(ggx).intersection(s.rna.var_names)])\n",
    "f\"{clus} compared to {comp}: {ccc}\""
   ]
  },
  {
   "cell_type": "code",
   "execution_count": null,
   "metadata": {},
   "outputs": [],
   "source": [
    "# Stricture-50006C\n",
    "# SMC/MF/DP\n",
    "i = 0\n",
    "s = selves[i]\n",
    "r = \"leiden_res1pt5_dist0_npc30\"\n",
    "ggx = assign[assign[\"Bin\"].isin([\"SMC\"])].index\n",
    "clus = \"1\"\n",
    "comp = [\"6\"]\n",
    "ccc = \", \".join([x + \": \" + str(int(100 * np.mean(s.rna[s.rna.obs[r] == clus][\n",
    "    :, x].X > 0))) + \" vs. \" + str(int(100 * np.mean(s.rna[s.rna.obs[r].isin(\n",
    "        list(set(comp).difference(set([clus]))))][:, x].X > 0))) + \"%\"\n",
    "    for x in set(ggx).intersection(s.rna.var_names)])\n",
    "f\"{clus} compared to {comp}: {ccc}\""
   ]
  },
  {
   "cell_type": "markdown",
   "metadata": {},
   "source": [
    "## Senescence"
   ]
  },
  {
   "cell_type": "code",
   "execution_count": null,
   "metadata": {},
   "outputs": [],
   "source": [
    "snc, thresh = [np.nan] * len(selves), [1, 2, 3, 4]\n",
    "ggg = [\"CDKN1A\", \"TP53\", \"PLAUR\"]\n",
    "for i, s in enumerate(selves):\n",
    "    s.get_layer(\"counts\", inplace=True)\n",
    "    snc[i] = pd.DataFrame(dict(\n",
    "        Gene=ggg * len(thresh), Threshold=[t for t in thresh for g in ggg],\n",
    "        Count=np.nan, Total=[s.rna.n_obs] * len(ggg) * len(thresh))).assign(\n",
    "            Sample=s._library_id, Condition=s._library_id.split(\n",
    "                \"-\")[0]).set_index([\"Threshold\", \"Gene\"])\n",
    "    for t in thresh:\n",
    "        snc[i].loc[t, \"Count\"] = [np.sum(s.rna[:, g].X >= t)\n",
    "                                  for g in snc[i].loc[t].index]\n",
    "snc = pd.concat(snc).set_index(\"Sample\", append=True).sort_index()\n",
    "snc = snc.assign(Ratio=snc.Count / snc.Total)\n",
    "fff = str(\"/home/elizabeth/elizabeth/projects/senescence/analysis\"\n",
    "          f\"/quantification_snc{'_raw' if load is False else ''}.csv\")\n",
    "fff_raw = os.path.splitext(fff)[0] + \"_raw.csv\"\n",
    "# # dff = pd.read_csv(fff).set_index(snc.index.names)\n",
    "# # snc = pd.concat([dff, snc]).sort_index()\n",
    "if load is True:\n",
    "    snc_raw = pd.read_csv(fff_raw, index_col=np.arange(len(snc.index.names)))\n",
    "    snc = pd.concat([snc_raw, snc], keys=[\"Raw\", \"Processed\"], axis=1, names=[\n",
    "        \"Cell Counts\"])\n",
    "# snc.to_csv(fff)\n",
    "snc"
   ]
  },
  {
   "cell_type": "code",
   "execution_count": null,
   "metadata": {},
   "outputs": [],
   "source": [
    "sb.catplot(snc, x=\"Condition\", y=\"Ratio\", sharey=False, kind=\"box\",\n",
    "           col=\"Gene\", row=\"Threshold\", hue=\"Condition\", margin_titles=True)"
   ]
  },
  {
   "cell_type": "code",
   "execution_count": null,
   "metadata": {},
   "outputs": [],
   "source": [
    "tx_snc = {}\n",
    "for s in selves:\n",
    "    s.get_layer(\"counts\", inplace=True)\n",
    "    tx_snc[s._library_id] = pd.Series([s.rna[:, g].X.sum(\n",
    "        ) for g in ggg], index=pd.Index(ggg, name=\"Gene\"))\n",
    "tx_snc = pd.concat(tx_snc, keys=tx_snc, names=[\"Sample\", \"Gene\"])\n",
    "fff = str(\"/home/elizabeth/elizabeth/projects/senescence/analysis/quantifica\"\n",
    "          f\"tion_snc_tx_cts{'_raw' if load is False else ''}.csv\")\n",
    "fff_raw = os.path.splitext(fff)[0] + \"_raw.csv\"\n",
    "if load is True:\n",
    "    tx_os = pd.read_csv(fff_raw, index_col=np.arange(len(tx_snc.index.names)))\n",
    "    tx_snc = pd.concat([tx_os.iloc[:, 0], tx_snc], keys=[\"Raw\", \"Processed\"],\n",
    "                       axis=1, names=[\"Transcript Counts\"])\n",
    "# tx_snc.to_csv(fff)\n",
    "tx_snc"
   ]
  },
  {
   "cell_type": "code",
   "execution_count": null,
   "metadata": {},
   "outputs": [],
   "source": [
    "vvs = vvs.join(pd.Series(dict(zip([s._library_id for s in selves], [s.rna.obs[\n",
    "    col_condition].iloc[0] for s in selves]))).rename_axis(\n",
    "        vvs.index.names[0]).to_frame(col_condition)).loc[vvs.index]"
   ]
  },
  {
   "cell_type": "code",
   "execution_count": null,
   "metadata": {},
   "outputs": [],
   "source": [
    "c_t = \"Senescence_Proxy\"\n",
    "ggg = [\"CDKN1A\", \"TP53\", \"PLAUR\"]\n",
    "c_l = \"leiden_res1pt5_dist0_npc30\"\n",
    "ct_thresh = 1\n",
    "\n",
    "for s in selves:\n",
    "    s.get_layer(\"counts\", inplace=True)\n",
    "    _ = s.score_coex(ggg, n_combos=[2, 3], inplace=True, threshold=ct_thresh)\n",
    "keys = [ggg] + [list(p) for p in itertools.combinations(ggg, 2)]\n",
    "\n",
    "vvs = {}\n",
    "for k in keys:\n",
    "    vcs = {}\n",
    "    key = \"/\".join(k) + \"+\"\n",
    "    for s in selves:\n",
    "        if c_l in s.rna.obs:\n",
    "            s.rna.obs.loc[:, c_t] = s.rna.obs[\"_\".join(k)].replace(\n",
    "                True, key).replace(False, \"Other\")\n",
    "            vcs[s._library_id] = s.rna.obs[s.rna.obs[c_t] == key][\n",
    "                c_l].value_counts().replace(0, np.nan).dropna()\n",
    "    vvs[key] = pd.DataFrame(vcs).rename_axis(\"Sample\", axis=1).stack(\n",
    "        ).groupby(\"Sample\").apply(lambda x: x.sort_values(\n",
    "            ascending=False)).reset_index(0, drop=True)\n",
    "vvs = pd.concat(vvs, axis=1).reorder_levels([1, 0])\n",
    "for s in selves:\n",
    "    if c_l not in s.rna.obs:\n",
    "        continue\n",
    "    clus_sizes = s.rna.obs[c_l].value_counts()\n",
    "    vvs.loc[s._library_id, \"n_cluster\"] = list(vvs.loc[\n",
    "        s._library_id].groupby(c_l).apply(lambda x: clus_sizes.loc[x.name]))\n",
    "    if load is True:\n",
    "        mks = cr.ax.make_marker_genes_df(\n",
    "            s.rna, c_l, key_added=f\"rank_genes_groups_{c_l}\")\n",
    "        vvs.loc[s._library_id, \"top_markers\"] = list(vvs.loc[\n",
    "            s._library_id].groupby(c_l).apply(lambda x: \", \".join(\n",
    "                mks.loc[x.name].head().index) if (\n",
    "                    x.name in mks.index) else \"\").loc[\n",
    "                        vvs.loc[s._library_id].index])\n",
    "vvs = vvs.join(pd.Series(dict(zip([s._library_id for s in selves], [s.rna.obs[\n",
    "    col_condition].iloc[0] for s in selves]))).rename_axis(\n",
    "        vvs.index.names[0]).to_frame(col_condition)).loc[vvs.index]\n",
    "vvs = vvs.join(pd.Series(dict(zip([s._library_id for s in selves], [s.rna.obs[\n",
    "    col_subject].iloc[0] for s in selves]))).rename_axis(\n",
    "        vvs.index.names[0]).to_frame(col_subject)).loc[vvs.index]\n",
    "fff = str(\"/home/elizabeth/elizabeth/projects/senescence/analysis/\"\n",
    "          f\"quantification_ncells_snc.csv\")\n",
    "# if os.path.exists(fff):\n",
    "#     vcf = pd.read_csv(fff, index_col=vcs.index.names)  # previous file\n",
    "#     vcf = vcf.loc[vcf.index.difference(vcs)]\n",
    "#     vvs = pd.concat([vcf, vvs])\n",
    "vvs.to_csv(fff)\n",
    "vvs"
   ]
  },
  {
   "cell_type": "code",
   "execution_count": null,
   "metadata": {},
   "outputs": [],
   "source": [
    "vvr = vvs.copy()  # to hold % instead of counts in Gene1/Gene2+ etc.\n",
    "for x in [\"/\".join(k) + \"+\" for k in keys]:\n",
    "    vvr.loc[:, x] = 100 * vvr[x] / vvr[\"n_cluster\"]\n",
    "vvr = vvr.set_index([col_subject, col_condition], append=True).reset_index(\n",
    "    0, drop=True).reorder_levels([1, 2, 0]).sort_index()\n",
    "vvr = vvr[[\"/\".join(k) + \"+\" for k in keys]].rename_axis(\n",
    "    \"Label\", axis=1).stack().to_frame(\"Percent\")\n",
    "vvr"
   ]
  },
  {
   "cell_type": "code",
   "execution_count": null,
   "metadata": {},
   "outputs": [],
   "source": [
    "fig, axs = plt.subplots(figsize=(30, 50))\n",
    "sb.catplot(vvr, x=\"Label\", y=\"Percent\", ax=axs,\n",
    "           sharey=False, kind=\"box\", margin_titles=True,\n",
    "           row=c_l, col=col_subject, hue=col_condition)\n",
    "fig.set_titles(col_template=\"{col_name}\")\n",
    "fig.set_xticklabels(rotation=30)"
   ]
  },
  {
   "cell_type": "markdown",
   "metadata": {},
   "source": [
    "## CD34"
   ]
  },
  {
   "cell_type": "code",
   "execution_count": null,
   "metadata": {},
   "outputs": [],
   "source": [
    "import matplotlib.pyplot as plt\n",
    "\n",
    "gene = \"CD34\"\n",
    "thr = np.arange(1, 15)  # thresholds\n",
    "fig, axes = plt.subplots(1, len(selves))\n",
    "for i, s in enumerate(selves):\n",
    "    print(f\"{s._library_id}: {np.sum(s.rna[:, gene].X > 0)} / {s.rna.n_obs}\")\n",
    "    a_x = axes[i].bar(thr, [np.sum(s.rna[:, gene].X >= i) for i in thr])\n",
    "    axes[i].set_title(s._library_id)\n",
    "    # for x in s.rna.obs[f\"leiden_{r}\"].unique():\n",
    "    #     print(str(x) + \": \" + np.mean(s.rna[s.rna.obs[\n",
    "    #         f\"leiden_{r}\"] == x][:, \"CD34\"].X > 0))\n",
    "fig.suptitle(\"Total Cells above Count Thresholds for CD34\")"
   ]
  },
  {
   "cell_type": "markdown",
   "metadata": {},
   "source": [
    "## CSF"
   ]
  },
  {
   "cell_type": "markdown",
   "metadata": {},
   "source": [
    "### Cell Counts"
   ]
  },
  {
   "cell_type": "code",
   "execution_count": null,
   "metadata": {},
   "outputs": [],
   "source": [
    "load = True\n",
    "for s in selves:\n",
    "    if os.path.exists(s.rna.obs.out_file.iloc[0] + \".h5ad\"):\n",
    "        pass\n",
    "    else:\n",
    "        print(s._library_id)"
   ]
  },
  {
   "cell_type": "code",
   "execution_count": null,
   "metadata": {},
   "outputs": [],
   "source": [
    "csf, thresh, ggg = [np.nan] * len(selves), [1, 2, 3, 4], [\n",
    "    \"CSF1\", \"CSF2\", \"CSF3\"]\n",
    "for i, s in enumerate(selves):\n",
    "    s.get_layer(\"counts\", inplace=True)\n",
    "    csf[i] = pd.DataFrame(dict(\n",
    "        Gene=ggg * len(thresh), Threshold=[t for t in thresh for g in ggg],\n",
    "        Count=np.nan, Total=[s.rna.n_obs] * len(ggg) * len(thresh))).assign(\n",
    "            Sample=s._library_id, Condition=s._library_id.split(\n",
    "                \"-\")[0]).set_index([\"Threshold\", \"Gene\"])\n",
    "    for t in thresh:\n",
    "        csf[i].loc[t, \"Count\"] = [np.sum(s.rna[:, g].X >= t)\n",
    "                                  for g in csf[i].loc[t].index]\n",
    "csf = pd.concat(csf).set_index(\"Sample\", append=True).sort_index()\n",
    "csf = csf.assign(Ratio=csf.Count / csf.Total)\n",
    "fff = str(\"/home/elizabeth/elizabeth/projects/csf2rb/analysis\"\n",
    "          f\"/quantification_csf{'_raw' if load is False else ''}.csv\")\n",
    "fff_raw = os.path.splitext(fff)[0] + \"_raw.csv\"\n",
    "# # dff = pd.read_csv(fff).set_index(csf.index.names)\n",
    "# # csf = pd.concat([dff, csf]).sort_index()\n",
    "if load is True:\n",
    "    csf_raw = pd.read_csv(fff_raw, index_col=np.arange(len(csf.index.names)))\n",
    "    csf = pd.concat([csf_raw, csf], keys=[\"Raw\", \"Processed\"], axis=1, names=[\n",
    "        \"Cell Counts\"])\n",
    "# csf.to_csv(fff)\n",
    "csf"
   ]
  },
  {
   "cell_type": "markdown",
   "metadata": {},
   "source": [
    "### Transcript Counts"
   ]
  },
  {
   "cell_type": "code",
   "execution_count": null,
   "metadata": {},
   "outputs": [],
   "source": [
    "ggg = [\"CSF1\", \"CSF2\", \"CSF3\"]\n",
    "tx_cts = {}\n",
    "for s in selves:\n",
    "    s.get_layer(\"counts\", inplace=True)\n",
    "    tx_cts[s._library_id] = pd.Series([s.rna[:, g].X.sum(\n",
    "        ) for g in ggg], index=pd.Index(ggg, name=\"Gene\"))\n",
    "tx_cts = pd.concat(tx_cts, keys=tx_cts, names=[\"Sample\", \"Gene\"])\n",
    "fff = str(\"/home/elizabeth/elizabeth/projects/csf2rb/analysis/quantifica\"\n",
    "          f\"tion_csf_tx_cts{'_raw' if load is False else ''}.csv\")\n",
    "fff_raw = os.path.splitext(fff)[0] + \"_raw.csv\"\n",
    "if load is True:\n",
    "    tx_o = pd.read_csv(fff_raw, index_col=np.arange(len(tx_cts.index.names)))\n",
    "    tx_cts = pd.concat([tx_o.iloc[:, 0], tx_cts], keys=[\"Raw\", \"Processed\"],\n",
    "                       axis=1, names=[\"Transcript Counts\"])\n",
    "# tx_cts.to_csv(fff)\n",
    "tx_cts"
   ]
  },
  {
   "cell_type": "code",
   "execution_count": null,
   "metadata": {},
   "outputs": [],
   "source": [
    "sb.barplot(csf[\"Processed\"], y=\"Ratio\", hue=\"Gene\", x=\"Threshold\")"
   ]
  },
  {
   "cell_type": "code",
   "execution_count": null,
   "metadata": {},
   "outputs": [],
   "source": [
    "print(\"Correlation: \", scipy.stats.pearsonr(csf.loc[1][\"Processed\"][\n",
    "    \"Count\"], csf.loc[2][\"Processed\"][\"Count\"].loc[csf.loc[1][\n",
    "        \"Processed\"][\"Count\"].index]))\n",
    "csf.loc[1][\"Processed\"].assign(Difference=csf.loc[1][\"Processed\"][\n",
    "    \"Count\"] - csf.loc[2][\"Processed\"][\"Count\"].loc[csf.loc[1][\n",
    "        \"Processed\"][\"Count\"].index]).assign(Threshold_2=csf.loc[2][\n",
    "            \"Processed\"][\"Count\"].loc[csf.loc[1][\"Processed\"][\"Count\"].index])"
   ]
  },
  {
   "cell_type": "code",
   "execution_count": null,
   "metadata": {},
   "outputs": [],
   "source": [
    "scipy.stats.pearsonr(tx_cts[\"Raw\"], tx_cts[\"Processed\"])"
   ]
  },
  {
   "cell_type": "markdown",
   "metadata": {},
   "source": [
    "### ILC Marker+ Cell Counts"
   ]
  },
  {
   "cell_type": "code",
   "execution_count": null,
   "metadata": {},
   "outputs": [],
   "source": [
    "c_t = \"ILC_Proxy\"\n",
    "ggg = [\"IL7R\", \"KLRB1\", \"RORC\"]\n",
    "c_l = \"leiden_res1pt5_dist0_npc30\"\n",
    "\n",
    "for s in selves:\n",
    "    s.get_layer(\"counts\", inplace=True)\n",
    "    _ = s.score_coex(ggg, n_combos=[2, 3], inplace=True, threshold=1)\n",
    "keys = [ggg] + [list(p) for p in itertools.combinations(ggg, 2)]\n",
    "\n",
    "vvv = {}\n",
    "for k in keys:\n",
    "    vcs = {}\n",
    "    key = \"/\".join(k) + \"+\"\n",
    "    for s in selves:\n",
    "        if c_l in s.rna.obs:\n",
    "            s.rna.obs.loc[:, c_t] = s.rna.obs[\"_\".join(k)].replace(\n",
    "                True, key).replace(False, \"Other\")\n",
    "            vcs[s._library_id] = s.rna.obs[s.rna.obs[c_t] == key][\n",
    "                c_l].value_counts().replace(0, np.nan).dropna()\n",
    "    vvv[key] = pd.DataFrame(vcs).rename_axis(\"Sample\", axis=1).stack(\n",
    "        ).groupby(\"Sample\").apply(lambda x: x.sort_values(\n",
    "            ascending=False)).reset_index(0, drop=True)\n",
    "vvv = pd.concat(vvv, axis=1).reorder_levels([1, 0])\n",
    "for s in selves:\n",
    "    if c_l not in s.rna.obs:\n",
    "        continue\n",
    "    clus_sizes = s.rna.obs[c_l].value_counts()\n",
    "    vvv.loc[s._library_id, \"n_cluster\"] = list(vvv.loc[\n",
    "        s._library_id].groupby(c_l).apply(lambda x: clus_sizes.loc[x.name]))\n",
    "    if load is True:\n",
    "        mks = cr.ax.make_marker_genes_df(\n",
    "            s.rna, c_l, key_added=f\"rank_genes_groups_{c_l}\")\n",
    "        vvv.loc[s._library_id, \"top_markers\"] = list(vvv.loc[\n",
    "            s._library_id].groupby(c_l).apply(lambda x: \", \".join(\n",
    "                mks.loc[x.name].head().index) if (\n",
    "                    x.name in mks.index) else \"\").loc[\n",
    "                        vvv.loc[s._library_id].index])\n",
    "fff = str(\"/home/elizabeth/elizabeth/projects/csf2rb/analysis/\"\n",
    "          f\"quantification_ncells_ilc.csv\")\n",
    "# if os.path.exists(fff):\n",
    "#     vcf = pd.read_csv(fff, index_col=vcs.index.names)  # previous file\n",
    "#     vcf = vcf.loc[vcf.index.difference(vcs)]\n",
    "#     vvv = pd.concat([vcf, vvv])\n",
    "# vvv.to_csv(fff)\n",
    "vvv"
   ]
  },
  {
   "cell_type": "markdown",
   "metadata": {},
   "source": [
    "### Distance"
   ]
  },
  {
   "cell_type": "code",
   "execution_count": null,
   "metadata": {},
   "outputs": [],
   "source": [
    "_ = s.calculate_spatial_distance(f\"{'/'.join(ggg)}+\", col_cell_type=c_t,\n",
    "                                 genes=\"CSF2RB\")"
   ]
  },
  {
   "cell_type": "markdown",
   "metadata": {},
   "source": [
    "### Quantification Plots"
   ]
  },
  {
   "cell_type": "code",
   "execution_count": null,
   "metadata": {},
   "outputs": [],
   "source": [
    "import seaborn as sb\n",
    "from statannotations.Annotator import Annotator\n",
    "import matplotlib.pyplot as plt\n",
    "\n",
    "csfp = csf[csf.Condition.isin([\"Inflamed\", \"Uninflamed\"])].set_index(\n",
    "    \"Condition\", append=True)[[\"Count\", \"Ratio\"]].rename_axis(\n",
    "        \"Metric\", axis=1).stack().to_frame(\"Score\")\n",
    "fig = sb.catplot(csfp.reset_index(), x=\"Gene\", y=\"Score\", col=\"Metric\",\n",
    "                 margin_titles=True,\n",
    "                 row=\"Threshold\", hue=\"Condition\", kind=\"bar\",\n",
    "                 sharex=False, sharey=False)\n",
    "for a in fig.axes[:, 1]:\n",
    "    a.set_ylim([0, max(csfp.Ratio, 0.3)])\n",
    "fig.fig.tight_layout()"
   ]
  },
  {
   "cell_type": "code",
   "execution_count": null,
   "metadata": {},
   "outputs": [],
   "source": [
    "arg = dict(x=\"Gene\", y=\"Ratio\", hue=\"Condition\", hue_order=[\n",
    "    \"Inflamed\", \"Uninflamed\"], order=[\"CSF1\", \"CSF2\"])\n",
    "fig = sb.catplot(kind=\"bar\", errorbar=\"se\", row=\"Threshold\", data=csfp, **arg)\n",
    "pairs = [\n",
    "    ((\"CSF1\", \"Inflamed\"), (\"CSF2\", \"Inflamed\")),\n",
    "    ((\"CSF1\", \"Uninflamed\"), (\"CSF2\", \"Uninflamed\")),\n",
    "    ((\"CSF1\", \"Uninflamed\"), (\"CSF1\", \"Inflamed\")),\n",
    "    ((\"CSF2\", \"Uninflamed\"), (\"CSF2\", \"Inflamed\"))\n",
    "]\n",
    "\n",
    "ant = Annotator(None, pairs)\n",
    "fig.map_dataframe(ant.plot_and_annotate_facets, plot_params=arg,\n",
    "                  plot=\"boxplot\", annotation_func=\"apply_test\",\n",
    "                  configuration={\"test\": \"wilcox\"})\n",
    "plt.show()"
   ]
  },
  {
   "cell_type": "code",
   "execution_count": null,
   "metadata": {},
   "outputs": [],
   "source": [
    "arg = dict(x=\"Gene\", y=\"Ratio\", hue=\"Condition\", hue_order=[\n",
    "    \"Inflamed\", \"Uninflamed\"], order=[\"CSF1\", \"CSF2\"])\n",
    "fig = sb.catplot(kind=\"bar\", errorbar=\"se\", row=\"Threshold\", data=csfp, **arg)\n",
    "pairs = [\n",
    "    ((\"CSF1\", \"Inflamed\"), (\"CSF2\", \"Inflamed\")),\n",
    "    ((\"CSF1\", \"Uninflamed\"), (\"CSF2\", \"Uninflamed\"))\n",
    "]\n",
    "\n",
    "ant = Annotator(None, pairs)\n",
    "fig.map_dataframe(ant.plot_and_annotate_facets, plot_params=arg,\n",
    "                  plot=\"boxplot\", annotation_func=\"apply_test\",\n",
    "                  configuration={\"test\": \"wilcox\"})\n",
    "plt.show()"
   ]
  },
  {
   "cell_type": "code",
   "execution_count": null,
   "metadata": {},
   "outputs": [],
   "source": [
    "csfp = csf.reset_index()\n",
    "arg = dict(x=\"Gene\", y=\"Ratio\", hue=\"Condition\", hue_order=[\n",
    "    \"Inflamed\", \"Uninflamed\"], order=[\"CSF1\", \"CSF2\"])\n",
    "fig = sb.catplot(kind=\"bar\", errorbar=\"se\", row=\"Threshold\", data=csfp, **arg)\n",
    "# fig.map(sb.stripplot, arg[\"x\"], arg[\"y\"], arg[\"hue\"],\n",
    "#         hue_order=arg[\"hue_order\"], order=arg[\"order\"], dodge=True,\n",
    "#         palette=sb.color_palette(), alpha=0.6, linewidth=1)\n",
    "pairs = [\n",
    "    ((\"CSF1\", \"Inflamed\"), (\"CSF2\", \"Inflamed\")),\n",
    "    ((\"CSF1\", \"Uninflamed\"), (\"CSF2\", \"Uninflamed\")),\n",
    "    ((\"CSF1\", \"Uninflamed\"), (\"CSF1\", \"Inflamed\")),\n",
    "    ((\"CSF2\", \"Uninflamed\"), (\"CSF2\", \"Inflamed\"))\n",
    "]\n",
    "for t, ax in fig.axes_dict.items():\n",
    "        annot = Annotator(ax, pairs, **arg, data=csfp[csfp.Threshold == t])\n",
    "        annot.configure(test=\"Mann-Whitney\", text_format=\"simple\",\n",
    "                        loc=\"inside\", verbose=2)\n",
    "        annot.apply_test().annotate()"
   ]
  },
  {
   "cell_type": "code",
   "execution_count": null,
   "metadata": {},
   "outputs": [],
   "source": [
    "csfp = csf[csf.Condition.isin([\"Inflamed\", \"Uninflamed\"])].set_index(\n",
    "    \"Condition\", append=True)[[\"Count\", \"Ratio\"]].rename_axis(\n",
    "        \"Metric\", axis=1).stack().to_frame(\"Score\")\n",
    "fig = sb.catplot(csfp, x=\"Gene\", y=\"Score\", col=\"Metric\", margin_titles=True,\n",
    "                 row=\"Threshold\", kind=\"bar\", errorbar=\"se\",\n",
    "                 sharex=False, sharey=False)\n",
    "for a in fig.axes[:, 1]:\n",
    "    a.set_ylim([0, max([csf.Ratio.max(), 0.3])])\n",
    "fig.fig.tight_layout()"
   ]
  },
  {
   "cell_type": "markdown",
   "metadata": {},
   "source": [
    "## Aligned Images"
   ]
  },
  {
   "cell_type": "code",
   "execution_count": null,
   "metadata": {},
   "outputs": [],
   "source": [
    "landmarks = ShapesModel.parse(\n",
    "    np.array([[10556.699, 7829.764], [13959.155, 13522.025], [10621.200, 17392.116]]), geometry=0, radius=500\n",
    ")\n",
    "visium_sdata[\"visium_landmarks\"] = visium_landmarks\n",
    "\n",
    "xenium_landmarks = ShapesModel.parse(\n",
    "    np.array([[9438.385, 13933.017], [24847.866, 5948.002], [34082.584, 15234.235]]), geometry=0, radius=500\n",
    ")\n",
    "xenium_sdata[\"xenium_landmarks\"] = xenium_landmarks"
   ]
  },
  {
   "cell_type": "code",
   "execution_count": null,
   "metadata": {},
   "outputs": [],
   "source": [
    "import spatialdata_io as sdio\n",
    "from spatialdata.models import ShapesModel\n",
    "\n",
    "fai = os.path.join(\n",
    "    \"~/corescpy/examples/data/spatial\",\n",
    "    \"Stricture-50452C__P53Red_P16Green_DAPIBlue.ome.tif\")\n",
    "faa = os.path.join(\n",
    "    \"~/corescpy/examples/data/spatial\",\n",
    "    \"Stricture-50452C__P53Red_P16Green_DAPIBlue_matrix.csv\")\n",
    "\n",
    "img = sdio.xenium_aligned_image(fai, faa)"
   ]
  }
 ],
 "metadata": {
  "kernelspec": {
   "display_name": "py-bio",
   "language": "python",
   "name": "python3"
  },
  "language_info": {
   "codemirror_mode": {
    "name": "ipython",
    "version": 3
   },
   "file_extension": ".py",
   "mimetype": "text/x-python",
   "name": "python",
   "nbconvert_exporter": "python",
   "pygments_lexer": "ipython3",
   "version": "3.10.4"
  }
 },
 "nbformat": 4,
 "nbformat_minor": 2
}
