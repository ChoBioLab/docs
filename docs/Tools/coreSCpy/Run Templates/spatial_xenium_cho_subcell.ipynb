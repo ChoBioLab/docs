{
 "cells": [
  {
   "cell_type": "markdown",
   "metadata": {},
   "source": [
    "# Setup "
   ]
  },
  {
   "cell_type": "code",
   "execution_count": 1,
   "metadata": {},
   "outputs": [
    {
     "name": "stderr",
     "output_type": "stream",
     "text": [
      "/home/elizabeth/elizabeth/miniconda3/envs/bento/lib/python3.10/site-packages/tqdm/auto.py:21: TqdmWarning: IProgress not found. Please update jupyter and ipywidgets. See https://ipywidgets.readthedocs.io/en/stable/user_install.html\n",
      "  from .autonotebook import tqdm as notebook_tqdm\n"
     ]
    },
    {
     "name": "stdout",
     "output_type": "stream",
     "text": [
      "\n",
      "\n",
      "                   Sample ID  Patient   Condition    Inflamed Stricture\n",
      "Sample                                                                \n",
      "Uninflamed-50336C    50336C    50336  Uninflamed  uninflamed        no\n",
      "Inflamed-50336B      50336B    50336    Inflamed    inflamed        no\n",
      "Stricture-50336A     50336A    50336   Stricture    inflamed       yes\n",
      "Stricture-50403C2   50403C2    50403   Stricture    inflamed       yes\n",
      "Stricture-50403C1   50403C1    50403   Stricture    inflamed       yes\n",
      "Uninflamed-50403B    50403B    50403  Uninflamed  uninflamed        no\n",
      "Inflamed-50403A1    50403A1    50403    Inflamed    inflamed        no\n",
      "Inflamed-50403A2    50403A2    50403    Inflamed    inflamed        no\n",
      "Stricture-50217C     50217C    50217   Stricture    inflamed       yes\n",
      "Uninflamed-50217B    50217B    50217  Uninflamed  uninflamed        no\n",
      "Inflamed-50217A      50217A    50217    Inflamed    inflamed        no\n",
      "Stricture-50006C     50006C    50006   Stricture    inflamed       yes\n",
      "Uninflamed-50006B    50006B    50006  Uninflamed  uninflamed        no\n",
      "Inflamed-50006A      50006A    50006    Inflamed    inflamed        no\n",
      "Stricture-50445A3   50445A3    50445   Stricture    inflamed       yes\n",
      "Stricture-50007B2   50007B2    50007   Stricture    inflamed       yes\n",
      "Stricture-50115A2   50115A2    50115   Stricture    inflamed       yes\n",
      "Stricture-49696A4   49696A4    49696   Stricture    inflamed       yes\n",
      "Stricture-49471A4   49471A4    49471   Stricture    inflamed       yes\n",
      "Stricture-50618B5   50618B5    50618   Stricture    inflamed       yes\n",
      "Stricture-50564A4   50564A4    50564   Stricture    inflamed       yes\n",
      "Stricture-50452C     50452C    50452   Stricture    inflamed       yes\n",
      "Inflamed-50452B      50452B    50452    Inflamed    inflamed        no\n",
      "Uninflamed-50452A    50452A    50452  Uninflamed  uninflamed        no \n",
      "\n",
      "\n",
      "\u001b[34mINFO    \u001b[0m reading                                                                                                   \n",
      "         \u001b[35m/mnt/cho_lab/bbdata2/outputs/TUQ97N/CHO-001/output-XETG00189__0010700__50452A-TUQ97N-EA__20240126__205019/\u001b[0m\n",
      "         \u001b[95mcell_feature_matrix.h5\u001b[0m                                                                                    \n"
     ]
    },
    {
     "data": {
      "text/plain": [
       "SpatialData object with:\n",
       "├── Images\n",
       "│     ├── 'morphology_focus': MultiscaleSpatialImage[cyx] (1, 57808, 45580), (1, 28904, 22790), (1, 14452, 11395), (1, 7226, 5697), (1, 3613, 2848)\n",
       "│     └── 'morphology_mip': MultiscaleSpatialImage[cyx] (1, 57808, 45580), (1, 28904, 22790), (1, 14452, 11395), (1, 7226, 5697), (1, 3613, 2848)\n",
       "├── Labels\n",
       "│     ├── 'cell_labels': MultiscaleSpatialImage[yx] (57808, 45580), (28904, 22790), (14452, 11395), (7226, 5697), (3613, 2848)\n",
       "│     └── 'nucleus_labels': MultiscaleSpatialImage[yx] (57808, 45580), (28904, 22790), (14452, 11395), (7226, 5697), (3613, 2848)\n",
       "├── Points\n",
       "│     └── 'transcripts': DataFrame with shape: (<Delayed>, 10) (3D points)\n",
       "├── Shapes\n",
       "│     ├── 'cell_boundaries': GeoDataFrame shape: (333825, 1) (2D shapes)\n",
       "│     ├── 'cell_circles': GeoDataFrame shape: (333825, 2) (2D shapes)\n",
       "│     └── 'nucleus_boundaries': GeoDataFrame shape: (333825, 1) (2D shapes)\n",
       "└── Tables\n",
       "      └── 'table': AnnData (312629, 469)\n",
       "with coordinate systems:\n",
       "▸ 'global', with elements:\n",
       "        morphology_focus (Images), morphology_mip (Images), cell_labels (Labels), nucleus_labels (Labels), transcripts (Points), cell_boundaries (Shapes), cell_circles (Shapes), nucleus_boundaries (Shapes)"
      ]
     },
     "execution_count": 1,
     "metadata": {},
     "output_type": "execute_result"
    }
   ],
   "source": [
    "%load_ext autoreload\n",
    "%autoreload 2\n",
    "\n",
    "import os\n",
    "import matplotlib.pyplot\n",
    "import seaborn as sns\n",
    "import scanpy as sc\n",
    "import bento as bt\n",
    "import spatialdata_io as sdio\n",
    "import spatialdata as sd\n",
    "import pandas as pd\n",
    "import numpy as np\n",
    "\n",
    "pd.options.display.max_colwidth = 1000\n",
    "pd.options.display.max_columns = 100\n",
    "pd.options.display.max_rows = 500\n",
    "\n",
    "# Directories\n",
    "libid = \"50452A\"  # paired (un)inflamed\n",
    "ddm = \"/mnt/cho_lab\" if os.path.exists(\"/mnt/cho_lab\") else \"/mnt\"  # Spark?\n",
    "ddl = f\"{ddm}/disk2/{os.getlogin()}/data/shared-xenium-library\" if (\n",
    "    \"cho\" in ddm) else os.path.join(ddu, \"shared-xenium-library\")\n",
    "dir_data = os.path.join(ddm, \"bbdata2/outputs/TUQ97N\")\n",
    "out_dir = os.path.join(ddl, \"outputs/TUQ97N/nebraska\")\n",
    "file_a = os.path.join(out_dir, \"annotation_dictionaries/annotations_all.xlsx\")\n",
    "file_mdf = os.path.join(ddl, \"samples.csv\")  # metadata\n",
    "c_m = \"annotation\"  # column in `file_a` to use for cell type labels\n",
    "panel_id = \"TUQ97N\"\n",
    "\n",
    "# Column Names\n",
    "col_sample_id_o, col_sample_id, col_condition, col_subject,  = (\n",
    "    cr.tl.COL_SAMPLE_ID_O, cr.tl.COL_SAMPLE_ID,\n",
    "    cr.tl.COL_CONDITION, cr.tl.COL_SUBJECT)\n",
    "col_inflamed, col_stricture = (cr.tl.COL_INFLAMED,\n",
    "                               cr.tl.COL_STRICTURE)\n",
    "col_fff = cr.tl.COL_FFF  # column in which to store data file path\n",
    "col_tangram = cr.tl.COL_TANGRAM  # for future Tangram imputation\n",
    "col_segment = cr.tl.COL_SEGMENT\n",
    "key_uninfl, key_infl, key_stric = (\n",
    "    cr.tl.KEY_UNINFLAMED, cr.tl.KEY_INFLAMED,\n",
    "    cr.tl.KEY_STRICTURE)\n",
    "run = None\n",
    "genes = [\"CDKN1A\", \"CDKN2A\", \"TP53\", \"PLAUR\"]\n",
    "\n",
    "# Optionally, Define Manual Annotation Versions\n",
    "# should be stored in (\"<out_dir>/annotations_dictionaries\")\n",
    "# in format <selves[i]._library_id>___leiden_<man_anns[i]>_dictionary.xlsx\n",
    "# with first column = leiden cluster and second column = annotation\n",
    "man_anns = True  # load manual annotations according to clustering kws\n",
    "# man_anns = [\"res0pt5_dist0pt5_npc30\", \"res0pt75_dist0pt3_npc30\",\n",
    "#             \"res1pt5_dist0_npc30\"]  # choose manual annotations to load\n",
    "# man_anns = None  # do not load manual annotations\n",
    "\n",
    "# Main Directories\n",
    "# Replace manually or mirror my file/directory tree in your home (`ddu`)\n",
    "ddu = os.path.expanduser(\"~\")\n",
    "ddm = \"/mnt/cho_lab\" if os.path.exists(\"/mnt/cho_lab\") else \"/mnt\"  # Spark?\n",
    "ddl = f\"{ddm}/disk2/{os.getlogin()}/data/shared-xenium-library\" if (\n",
    "    \"cho\" in ddm) else os.path.join(ddu, \"shared-xenium-library\")\n",
    "ddx = f\"{ddm}/bbdata2\"  # mounted drive Xenium folder\n",
    "out_dir = os.path.join(ddl, \"outputs\", \"TUQ97N\", \"nebraska\")  # None = no save\n",
    "d_path = os.path.join(ddm, \"disk2\" if \"cho\" in ddm else \"\",\n",
    "                      os.getlogin(), \"data\")  # other, e.g., Tangram data\n",
    "anf = pd.read_csv(os.path.join(ddu, \"corescpy/examples/markers_lineages.csv\"))\n",
    "file_mdf = os.path.join(ddl, \"samples.csv\")  # metadata\n",
    "\n",
    "# After this point, no more options to specify\n",
    "# Just code to infer the data file path from your specifications\n",
    "# and construct argument dictionaries and manipulate metadata and such.\n",
    "\n",
    "# Read Metadata & Other Information\n",
    "metadata = (pd.read_excel if file_mdf[-4:] == \"xlsx\" else pd.read_csv)(\n",
    "    file_mdf, dtype={\"Slide ID\": str})\n",
    "assign = anf.dropna(subset=[\"Bin\"]).set_index(\n",
    "    \"gene\").rename_axis(\"Gene\")  # annotation to markers map\n",
    "\n",
    "# Revise Metadata & Construct Variables from Options\n",
    "metadata.loc[:, col_condition] = metadata.apply(lambda x: \"Stricture\" if x[\n",
    "    col_stricture].lower() in [\"stricture\", \"yes\"] else x[\n",
    "        col_inflamed].capitalize(), axis=1)  # inflamation/stricture condition\n",
    "metadata.loc[:, col_sample_id] = metadata[[col_condition, col_sample_id_o]\n",
    "                                          ].apply(\"-\".join, axis=1)\n",
    "metadata = metadata.set_index(col_sample_id)\n",
    "col_fff = \"file_path\"  # column in metadata in which to store data file path\n",
    "if \"outputs\" not in ddx and os.path.exists(os.path.join(ddx, \"outputs\")):\n",
    "    ddx = os.path.join(ddx, \"outputs\")\n",
    "run = [j for j in os.listdir(os.path.join(\n",
    "    ddx, panel_id)) if os.path.isdir(os.path.join(ddx, panel_id, j))]\n",
    "panel_id = [panel_id] * len(run)\n",
    "fff = []\n",
    "for i, x in enumerate(run):\n",
    "    d_x = os.path.join(ddx, panel_id[i], x)\n",
    "    fff += [os.path.join(d_x, y) for y in os.listdir(d_x)]\n",
    "bff = np.array([os.path.basename(i) for i in fff])  # base path names\n",
    "samps = np.array([i.split(\"__\")[2].split(\"-\")[0] for i in fff])\n",
    "for x in metadata[col_sample_id_o]:\n",
    "    m_f = metadata[metadata[col_sample_id_o] == x][\n",
    "        \"out_file\"].iloc[0]  # ...use to find unconventionally-named files\n",
    "    locx = np.where(samps == x)[0] if pd.isnull(\n",
    "        m_f) else np.where(bff == m_f)[0]\n",
    "    metadata.loc[metadata[col_sample_id_o] == x, col_fff] = fff[locx[0]] if (\n",
    "        len(locx) > 0) else np.nan  # assign output file to metadata row\n",
    "metadata = metadata.dropna(subset=[col_fff]).drop_duplicates()\n",
    "print(\"\\n\\n\", metadata[[col_sample_id_o, col_subject, col_condition,\n",
    "                        col_inflamed, col_stricture]], \"\\n\\n\")\n",
    "\n",
    "# Load Data & Make Marker Dictionary\n",
    "libid = metadata.reset_index().set_index(col_sample_id_o).loc[\n",
    "    libid][col_sample_id]\n",
    "sdata = sdio.xenium(metadata.loc[libid][col_fff])\n",
    "marker_genes_dict = dict(assign[\"Bucket\"].reset_index().groupby(\n",
    "    \"Bucket\").apply(lambda x: list(pd.unique(list(set(\n",
    "        x.Gene).intersection(sdata.table.var_names))))))  # to dictionary\n",
    "del sdata.table\n",
    "sdata.table = sc.read(os.path.join(out_dir, libid) + \".h5ad\")\n",
    "sdata\n"
   ]
  },
  {
   "cell_type": "markdown",
   "metadata": {},
   "source": [
    "# Preparation"
   ]
  },
  {
   "cell_type": "code",
   "execution_count": null,
   "metadata": {},
   "outputs": [],
   "source": [
    "# sdata.points[\"transcripts\"].compute()\n",
    "# sdata = sd.bounding_box_query(\n",
    "#     sdata, axes=[\"x\", \"y\"], target_coordinate_system=\"global\",\n",
    "#     min_coordinate=[0, 0], max_coordinate=[600, 600])\n",
    "# # sdata.table = sc.read_h5ad(os.path.join(out_dir, libid + \".h5ad\"))\n",
    "# sdata"
   ]
  },
  {
   "cell_type": "code",
   "execution_count": 3,
   "metadata": {},
   "outputs": [
    {
     "name": "stderr",
     "output_type": "stream",
     "text": []
    },
    {
     "name": "stdout",
     "output_type": "stream",
     "text": [
      "                   x             y          z feature_name     cell_id  \\\n",
      "0          37.685432  10092.416016  11.131549      IRF2BP2  UNASSIGNED   \n",
      "1         147.899933  10138.629883  11.069950      SLC26A6  UNASSIGNED   \n",
      "2         189.406891  10248.221680  11.275550         TAP1  UNASSIGNED   \n",
      "3          13.936633  10114.642578  11.317411        PRDM1  UNASSIGNED   \n",
      "4          17.336510  10194.420898  11.345085     SERPINA1  UNASSIGNED   \n",
      "...              ...           ...        ...          ...         ...   \n",
      "1289261  9502.740234   6507.323242  19.898563         AQP1  UNASSIGNED   \n",
      "1289262  9658.059570   6506.693848  19.695395         NET1  UNASSIGNED   \n",
      "1289263  9656.251953   6501.889648  19.689312       SP140L  UNASSIGNED   \n",
      "1289264  9653.966797   6508.765137  19.835377         TP53  UNASSIGNED   \n",
      "1289265  9509.833984   6512.308594  19.862207        IKZF3  UNASSIGNED   \n",
      "\n",
      "           transcript_id fov_name  nucleus_distance         qv  \\\n",
      "0        282170761412612       Q3        392.351013  40.000000   \n",
      "1        282170761412639       Q3        283.523773  40.000000   \n",
      "2        282170761412647       Q3        175.342148  40.000000   \n",
      "3        282170761414028       Q3        395.748749  22.155670   \n",
      "4        282170761414030       Q3        348.466980  40.000000   \n",
      "...                  ...      ...               ...        ...   \n",
      "1289261  281878703722949      K18        452.588531  40.000000   \n",
      "1289262  281878703727525      K18        603.098755  40.000000   \n",
      "1289263  281878703729604      K18        600.131226  40.000000   \n",
      "1289264  281878703736120      K18        599.683960  16.580736   \n",
      "1289265  281878703739344      K18        460.763672  40.000000   \n",
      "\n",
      "         overlaps_nucleus  \n",
      "0                       0  \n",
      "1                       0  \n",
      "2                       0  \n",
      "3                       0  \n",
      "4                       0  \n",
      "...                   ...  \n",
      "1289261                 0  \n",
      "1289262                 0  \n",
      "1289263                 0  \n",
      "1289264                 0  \n",
      "1289265                 0  \n",
      "\n",
      "[101289266 rows x 10 columns] \n",
      "\n",
      " ['eofgbmjc-1' 'enmongjp-1' 'enmolhlp-1' ... '' '' ''] \n",
      "\n",
      " ['cell_boundaries']\n"
     ]
    },
    {
     "ename": "ValueError",
     "evalue": "Must have equal len keys and value when setting with an iterable",
     "output_type": "error",
     "traceback": [
      "\u001b[0;31m---------------------------------------------------------------------------\u001b[0m",
      "\u001b[0;31mValueError\u001b[0m                                Traceback (most recent call last)",
      "Cell \u001b[0;32mIn[3], line 4\u001b[0m\n\u001b[1;32m      1\u001b[0m kwargs \u001b[38;5;241m=\u001b[39m \u001b[38;5;28mdict\u001b[39m(points_key\u001b[38;5;241m=\u001b[39m\u001b[38;5;124m\"\u001b[39m\u001b[38;5;124mtranscripts\u001b[39m\u001b[38;5;124m\"\u001b[39m, feature_key\u001b[38;5;241m=\u001b[39m\u001b[38;5;124m\"\u001b[39m\u001b[38;5;124mfeature_name\u001b[39m\u001b[38;5;124m\"\u001b[39m,\n\u001b[1;32m      2\u001b[0m               instance_key\u001b[38;5;241m=\u001b[39m\u001b[38;5;124m\"\u001b[39m\u001b[38;5;124mcell_boundaries\u001b[39m\u001b[38;5;124m\"\u001b[39m,\n\u001b[1;32m      3\u001b[0m               shape_keys\u001b[38;5;241m=\u001b[39m[\u001b[38;5;124m\"\u001b[39m\u001b[38;5;124mcell_boundaries\u001b[39m\u001b[38;5;124m\"\u001b[39m, \u001b[38;5;124m\"\u001b[39m\u001b[38;5;124mnucleus_boundaries\u001b[39m\u001b[38;5;124m\"\u001b[39m])\n\u001b[0;32m----> 4\u001b[0m sdata_p \u001b[38;5;241m=\u001b[39m \u001b[43mbt\u001b[49m\u001b[38;5;241;43m.\u001b[39;49m\u001b[43mio\u001b[49m\u001b[38;5;241;43m.\u001b[39;49m\u001b[43mprep\u001b[49m\u001b[43m(\u001b[49m\u001b[43msdata\u001b[49m\u001b[43m,\u001b[49m\u001b[43m \u001b[49m\u001b[38;5;241;43m*\u001b[39;49m\u001b[38;5;241;43m*\u001b[39;49m\u001b[43mkwargs\u001b[49m\u001b[43m)\u001b[49m  \u001b[38;5;66;03m# for Bento compatibility\u001b[39;00m\n\u001b[1;32m      5\u001b[0m sdata_p\n",
      "File \u001b[0;32m~/bento-tools/bento/io/_io.py:75\u001b[0m, in \u001b[0;36mprep\u001b[0;34m(sdata, points_key, feature_key, instance_key, shape_keys)\u001b[0m\n\u001b[1;32m     73\u001b[0m \u001b[38;5;28;01mif\u001b[39;00m \u001b[38;5;28mlen\u001b[39m(point_sjoin) \u001b[38;5;241m>\u001b[39m \u001b[38;5;241m0\u001b[39m:\n\u001b[1;32m     74\u001b[0m     pbar\u001b[38;5;241m.\u001b[39mset_description(\u001b[38;5;124m\"\u001b[39m\u001b[38;5;124mMapping points\u001b[39m\u001b[38;5;124m\"\u001b[39m)\n\u001b[0;32m---> 75\u001b[0m     sdata \u001b[38;5;241m=\u001b[39m \u001b[43m_sjoin_points\u001b[49m\u001b[43m(\u001b[49m\n\u001b[1;32m     76\u001b[0m \u001b[43m        \u001b[49m\u001b[43msdata\u001b[49m\u001b[38;5;241;43m=\u001b[39;49m\u001b[43msdata\u001b[49m\u001b[43m,\u001b[49m\n\u001b[1;32m     77\u001b[0m \u001b[43m        \u001b[49m\u001b[43mpoints_key\u001b[49m\u001b[38;5;241;43m=\u001b[39;49m\u001b[43mpoints_key\u001b[49m\u001b[43m,\u001b[49m\n\u001b[1;32m     78\u001b[0m \u001b[43m        \u001b[49m\u001b[43mshape_keys\u001b[49m\u001b[38;5;241;43m=\u001b[39;49m\u001b[43mpoint_sjoin\u001b[49m\u001b[43m,\u001b[49m\n\u001b[1;32m     79\u001b[0m \u001b[43m    \u001b[49m\u001b[43m)\u001b[49m\n\u001b[1;32m     81\u001b[0m pbar\u001b[38;5;241m.\u001b[39mupdate()\n\u001b[1;32m     83\u001b[0m \u001b[38;5;28;01mif\u001b[39;00m \u001b[38;5;28mlen\u001b[39m(shape_sjoin) \u001b[38;5;241m>\u001b[39m \u001b[38;5;241m0\u001b[39m:\n",
      "File \u001b[0;32m~/bento-tools/bento/io/_index.py:57\u001b[0m, in \u001b[0;36m_sjoin_points\u001b[0;34m(sdata, points_key, shape_keys)\u001b[0m\n\u001b[1;32m     54\u001b[0m     points[\u001b[38;5;124m\"\u001b[39m\u001b[38;5;124mindex_right\u001b[39m\u001b[38;5;124m\"\u001b[39m]\u001b[38;5;241m.\u001b[39mfillna(\u001b[38;5;124m\"\u001b[39m\u001b[38;5;124m\"\u001b[39m, inplace\u001b[38;5;241m=\u001b[39m\u001b[38;5;28;01mTrue\u001b[39;00m)\n\u001b[1;32m     55\u001b[0m     points\u001b[38;5;241m.\u001b[39mrename(columns\u001b[38;5;241m=\u001b[39m{\u001b[38;5;124m\"\u001b[39m\u001b[38;5;124mindex_right\u001b[39m\u001b[38;5;124m\"\u001b[39m: shape_key}, inplace\u001b[38;5;241m=\u001b[39m\u001b[38;5;28;01mTrue\u001b[39;00m)\n\u001b[0;32m---> 57\u001b[0m     \u001b[43mset_points_metadata\u001b[49m\u001b[43m(\u001b[49m\u001b[43msdata\u001b[49m\u001b[43m,\u001b[49m\u001b[43m \u001b[49m\u001b[43mpoints_key\u001b[49m\u001b[43m,\u001b[49m\u001b[43m \u001b[49m\u001b[43mpoints\u001b[49m\u001b[43m[\u001b[49m\u001b[43mshape_key\u001b[49m\u001b[43m]\u001b[49m\u001b[43m,\u001b[49m\u001b[43m \u001b[49m\u001b[43mcolumns\u001b[49m\u001b[38;5;241;43m=\u001b[39;49m\u001b[43mshape_key\u001b[49m\u001b[43m)\u001b[49m\n\u001b[1;32m     59\u001b[0m \u001b[38;5;28;01mreturn\u001b[39;00m sdata\n",
      "File \u001b[0;32m~/bento-tools/bento/_utils.py:256\u001b[0m, in \u001b[0;36mset_points_metadata\u001b[0;34m(sdata, points_key, metadata, columns)\u001b[0m\n\u001b[1;32m    253\u001b[0m \u001b[38;5;28mprint\u001b[39m(points, \u001b[38;5;124m\"\u001b[39m\u001b[38;5;130;01m\\n\u001b[39;00m\u001b[38;5;130;01m\\n\u001b[39;00m\u001b[38;5;124m\"\u001b[39m, metadata, \u001b[38;5;124m\"\u001b[39m\u001b[38;5;130;01m\\n\u001b[39;00m\u001b[38;5;130;01m\\n\u001b[39;00m\u001b[38;5;124m\"\u001b[39m, columns)\n\u001b[1;32m    254\u001b[0m \u001b[38;5;66;03m######### >>>>>>>>>>>>>>>\u001b[39;00m\n\u001b[0;32m--> 256\u001b[0m \u001b[43mpoints\u001b[49m\u001b[38;5;241;43m.\u001b[39;49m\u001b[43mloc\u001b[49m\u001b[43m[\u001b[49m\u001b[43m:\u001b[49m\u001b[43m,\u001b[49m\u001b[43m \u001b[49m\u001b[43mcolumns\u001b[49m\u001b[43m]\u001b[49m \u001b[38;5;241m=\u001b[39m metadata\n\u001b[1;32m    257\u001b[0m points \u001b[38;5;241m=\u001b[39m PointsModel\u001b[38;5;241m.\u001b[39mparse(\n\u001b[1;32m    258\u001b[0m     dd\u001b[38;5;241m.\u001b[39mfrom_pandas(points, npartitions\u001b[38;5;241m=\u001b[39m\u001b[38;5;241m1\u001b[39m), coordinates\u001b[38;5;241m=\u001b[39m{\u001b[38;5;124m\"\u001b[39m\u001b[38;5;124mx\u001b[39m\u001b[38;5;124m\"\u001b[39m: \u001b[38;5;124m\"\u001b[39m\u001b[38;5;124mx\u001b[39m\u001b[38;5;124m\"\u001b[39m, \u001b[38;5;124m\"\u001b[39m\u001b[38;5;124my\u001b[39m\u001b[38;5;124m\"\u001b[39m: \u001b[38;5;124m\"\u001b[39m\u001b[38;5;124my\u001b[39m\u001b[38;5;124m\"\u001b[39m}\n\u001b[1;32m    259\u001b[0m )\n\u001b[1;32m    260\u001b[0m points\u001b[38;5;241m.\u001b[39mattrs \u001b[38;5;241m=\u001b[39m transform\n",
      "File \u001b[0;32m~/miniconda3/envs/bento/lib/python3.10/site-packages/pandas/core/indexing.py:818\u001b[0m, in \u001b[0;36m_LocationIndexer.__setitem__\u001b[0;34m(self, key, value)\u001b[0m\n\u001b[1;32m    815\u001b[0m \u001b[38;5;28mself\u001b[39m\u001b[38;5;241m.\u001b[39m_has_valid_setitem_indexer(key)\n\u001b[1;32m    817\u001b[0m iloc \u001b[38;5;241m=\u001b[39m \u001b[38;5;28mself\u001b[39m \u001b[38;5;28;01mif\u001b[39;00m \u001b[38;5;28mself\u001b[39m\u001b[38;5;241m.\u001b[39mname \u001b[38;5;241m==\u001b[39m \u001b[38;5;124m\"\u001b[39m\u001b[38;5;124miloc\u001b[39m\u001b[38;5;124m\"\u001b[39m \u001b[38;5;28;01melse\u001b[39;00m \u001b[38;5;28mself\u001b[39m\u001b[38;5;241m.\u001b[39mobj\u001b[38;5;241m.\u001b[39miloc\n\u001b[0;32m--> 818\u001b[0m \u001b[43miloc\u001b[49m\u001b[38;5;241;43m.\u001b[39;49m\u001b[43m_setitem_with_indexer\u001b[49m\u001b[43m(\u001b[49m\u001b[43mindexer\u001b[49m\u001b[43m,\u001b[49m\u001b[43m \u001b[49m\u001b[43mvalue\u001b[49m\u001b[43m,\u001b[49m\u001b[43m \u001b[49m\u001b[38;5;28;43mself\u001b[39;49m\u001b[38;5;241;43m.\u001b[39;49m\u001b[43mname\u001b[49m\u001b[43m)\u001b[49m\n",
      "File \u001b[0;32m~/miniconda3/envs/bento/lib/python3.10/site-packages/pandas/core/indexing.py:1795\u001b[0m, in \u001b[0;36m_iLocIndexer._setitem_with_indexer\u001b[0;34m(self, indexer, value, name)\u001b[0m\n\u001b[1;32m   1792\u001b[0m \u001b[38;5;66;03m# align and set the values\u001b[39;00m\n\u001b[1;32m   1793\u001b[0m \u001b[38;5;28;01mif\u001b[39;00m take_split_path:\n\u001b[1;32m   1794\u001b[0m     \u001b[38;5;66;03m# We have to operate column-wise\u001b[39;00m\n\u001b[0;32m-> 1795\u001b[0m     \u001b[38;5;28;43mself\u001b[39;49m\u001b[38;5;241;43m.\u001b[39;49m\u001b[43m_setitem_with_indexer_split_path\u001b[49m\u001b[43m(\u001b[49m\u001b[43mindexer\u001b[49m\u001b[43m,\u001b[49m\u001b[43m \u001b[49m\u001b[43mvalue\u001b[49m\u001b[43m,\u001b[49m\u001b[43m \u001b[49m\u001b[43mname\u001b[49m\u001b[43m)\u001b[49m\n\u001b[1;32m   1796\u001b[0m \u001b[38;5;28;01melse\u001b[39;00m:\n\u001b[1;32m   1797\u001b[0m     \u001b[38;5;28mself\u001b[39m\u001b[38;5;241m.\u001b[39m_setitem_single_block(indexer, value, name)\n",
      "File \u001b[0;32m~/miniconda3/envs/bento/lib/python3.10/site-packages/pandas/core/indexing.py:1850\u001b[0m, in \u001b[0;36m_iLocIndexer._setitem_with_indexer_split_path\u001b[0;34m(self, indexer, value, name)\u001b[0m\n\u001b[1;32m   1845\u001b[0m     \u001b[38;5;28;01mif\u001b[39;00m \u001b[38;5;28mlen\u001b[39m(value) \u001b[38;5;241m==\u001b[39m \u001b[38;5;241m1\u001b[39m \u001b[38;5;129;01mand\u001b[39;00m \u001b[38;5;129;01mnot\u001b[39;00m is_integer(info_axis):\n\u001b[1;32m   1846\u001b[0m         \u001b[38;5;66;03m# This is a case like df.iloc[:3, [1]] = [0]\u001b[39;00m\n\u001b[1;32m   1847\u001b[0m         \u001b[38;5;66;03m#  where we treat as df.iloc[:3, 1] = 0\u001b[39;00m\n\u001b[1;32m   1848\u001b[0m         \u001b[38;5;28;01mreturn\u001b[39;00m \u001b[38;5;28mself\u001b[39m\u001b[38;5;241m.\u001b[39m_setitem_with_indexer((pi, info_axis[\u001b[38;5;241m0\u001b[39m]), value[\u001b[38;5;241m0\u001b[39m])\n\u001b[0;32m-> 1850\u001b[0m     \u001b[38;5;28;01mraise\u001b[39;00m \u001b[38;5;167;01mValueError\u001b[39;00m(\n\u001b[1;32m   1851\u001b[0m         \u001b[38;5;124m\"\u001b[39m\u001b[38;5;124mMust have equal len keys and value \u001b[39m\u001b[38;5;124m\"\u001b[39m\n\u001b[1;32m   1852\u001b[0m         \u001b[38;5;124m\"\u001b[39m\u001b[38;5;124mwhen setting with an iterable\u001b[39m\u001b[38;5;124m\"\u001b[39m\n\u001b[1;32m   1853\u001b[0m     )\n\u001b[1;32m   1855\u001b[0m \u001b[38;5;28;01melif\u001b[39;00m lplane_indexer \u001b[38;5;241m==\u001b[39m \u001b[38;5;241m0\u001b[39m \u001b[38;5;129;01mand\u001b[39;00m \u001b[38;5;28mlen\u001b[39m(value) \u001b[38;5;241m==\u001b[39m \u001b[38;5;28mlen\u001b[39m(\u001b[38;5;28mself\u001b[39m\u001b[38;5;241m.\u001b[39mobj\u001b[38;5;241m.\u001b[39mindex):\n\u001b[1;32m   1856\u001b[0m     \u001b[38;5;66;03m# We get here in one case via .loc with a all-False mask\u001b[39;00m\n\u001b[1;32m   1857\u001b[0m     \u001b[38;5;28;01mpass\u001b[39;00m\n",
      "\u001b[0;31mValueError\u001b[0m: Must have equal len keys and value when setting with an iterable"
     ]
    }
   ],
   "source": [
    "kwargs = dict(points_key=\"transcripts\", feature_key=\"feature_name\",\n",
    "              instance_key=\"cell_boundaries\",\n",
    "              shape_keys=[\"cell_boundaries\", \"nucleus_boundaries\"])\n",
    "sdata_p = bt.io.prep(sdata, **kwargs)  # for Bento compatibility\n",
    "sdata_p"
   ]
  },
  {
   "cell_type": "code",
   "execution_count": 2,
   "metadata": {},
   "outputs": [
    {
     "name": "stderr",
     "output_type": "stream",
     "text": [
      "Mapping points:   0%|          | 0/3 [00:00<?, ?it/s]"
     ]
    },
    {
     "name": "stdout",
     "output_type": "stream",
     "text": [
      "                   x             y          z feature_name     cell_id  \\\n",
      "0          37.685432  10092.416016  11.131549      IRF2BP2  UNASSIGNED   \n",
      "1         147.899933  10138.629883  11.069950      SLC26A6  UNASSIGNED   \n",
      "2         189.406891  10248.221680  11.275550         TAP1  UNASSIGNED   \n",
      "3          13.936633  10114.642578  11.317411        PRDM1  UNASSIGNED   \n",
      "4          17.336510  10194.420898  11.345085     SERPINA1  UNASSIGNED   \n",
      "...              ...           ...        ...          ...         ...   \n",
      "1289261  9502.740234   6507.323242  19.898563         AQP1  UNASSIGNED   \n",
      "1289262  9658.059570   6506.693848  19.695395         NET1  UNASSIGNED   \n",
      "1289263  9656.251953   6501.889648  19.689312       SP140L  UNASSIGNED   \n",
      "1289264  9653.966797   6508.765137  19.835377         TP53  UNASSIGNED   \n",
      "1289265  9509.833984   6512.308594  19.862207        IKZF3  UNASSIGNED   \n",
      "\n",
      "           transcript_id fov_name  nucleus_distance         qv  \\\n",
      "0        282170761412612       Q3        392.351013  40.000000   \n",
      "1        282170761412639       Q3        283.523773  40.000000   \n",
      "2        282170761412647       Q3        175.342148  40.000000   \n",
      "3        282170761414028       Q3        395.748749  22.155670   \n",
      "4        282170761414030       Q3        348.466980  40.000000   \n",
      "...                  ...      ...               ...        ...   \n",
      "1289261  281878703722949      K18        452.588531  40.000000   \n",
      "1289262  281878703727525      K18        603.098755  40.000000   \n",
      "1289263  281878703729604      K18        600.131226  40.000000   \n",
      "1289264  281878703736120      K18        599.683960  16.580736   \n",
      "1289265  281878703739344      K18        460.763672  40.000000   \n",
      "\n",
      "         overlaps_nucleus  \n",
      "0                       0  \n",
      "1                       0  \n",
      "2                       0  \n",
      "3                       0  \n",
      "4                       0  \n",
      "...                   ...  \n",
      "1289261                 0  \n",
      "1289262                 0  \n",
      "1289263                 0  \n",
      "1289264                 0  \n",
      "1289265                 0  \n",
      "\n",
      "[101289266 rows x 10 columns] \n",
      "\n",
      " ['cell_boundaries']\n"
     ]
    },
    {
     "ename": "ValueError",
     "evalue": "Must have equal len keys and value when setting with an iterable",
     "output_type": "error",
     "traceback": [
      "\u001b[0;31m---------------------------------------------------------------------------\u001b[0m",
      "\u001b[0;31mValueError\u001b[0m                                Traceback (most recent call last)",
      "Cell \u001b[0;32mIn[2], line 4\u001b[0m\n\u001b[1;32m      1\u001b[0m kwargs \u001b[38;5;241m=\u001b[39m \u001b[38;5;28mdict\u001b[39m(points_key\u001b[38;5;241m=\u001b[39m\u001b[38;5;124m\"\u001b[39m\u001b[38;5;124mtranscripts\u001b[39m\u001b[38;5;124m\"\u001b[39m, feature_key\u001b[38;5;241m=\u001b[39m\u001b[38;5;124m\"\u001b[39m\u001b[38;5;124mfeature_name\u001b[39m\u001b[38;5;124m\"\u001b[39m,\n\u001b[1;32m      2\u001b[0m               instance_key\u001b[38;5;241m=\u001b[39m\u001b[38;5;124m\"\u001b[39m\u001b[38;5;124mcell_boundaries\u001b[39m\u001b[38;5;124m\"\u001b[39m,\n\u001b[1;32m      3\u001b[0m               shape_keys\u001b[38;5;241m=\u001b[39m[\u001b[38;5;124m\"\u001b[39m\u001b[38;5;124mcell_boundaries\u001b[39m\u001b[38;5;124m\"\u001b[39m, \u001b[38;5;124m\"\u001b[39m\u001b[38;5;124mnucleus_boundaries\u001b[39m\u001b[38;5;124m\"\u001b[39m])\n\u001b[0;32m----> 4\u001b[0m sdata_p \u001b[38;5;241m=\u001b[39m \u001b[43mbt\u001b[49m\u001b[38;5;241;43m.\u001b[39;49m\u001b[43mio\u001b[49m\u001b[38;5;241;43m.\u001b[39;49m\u001b[43mprep\u001b[49m\u001b[43m(\u001b[49m\u001b[43msdata\u001b[49m\u001b[43m,\u001b[49m\u001b[43m \u001b[49m\u001b[38;5;241;43m*\u001b[39;49m\u001b[38;5;241;43m*\u001b[39;49m\u001b[43mkwargs\u001b[49m\u001b[43m)\u001b[49m  \u001b[38;5;66;03m# for Bento compatibility\u001b[39;00m\n\u001b[1;32m      5\u001b[0m sdata_p\n",
      "File \u001b[0;32m~/bento-tools/bento/io/_io.py:75\u001b[0m, in \u001b[0;36mprep\u001b[0;34m(sdata, points_key, feature_key, instance_key, shape_keys)\u001b[0m\n\u001b[1;32m     73\u001b[0m \u001b[38;5;28;01mif\u001b[39;00m \u001b[38;5;28mlen\u001b[39m(point_sjoin) \u001b[38;5;241m>\u001b[39m \u001b[38;5;241m0\u001b[39m:\n\u001b[1;32m     74\u001b[0m     pbar\u001b[38;5;241m.\u001b[39mset_description(\u001b[38;5;124m\"\u001b[39m\u001b[38;5;124mMapping points\u001b[39m\u001b[38;5;124m\"\u001b[39m)\n\u001b[0;32m---> 75\u001b[0m     sdata \u001b[38;5;241m=\u001b[39m \u001b[43m_sjoin_points\u001b[49m\u001b[43m(\u001b[49m\n\u001b[1;32m     76\u001b[0m \u001b[43m        \u001b[49m\u001b[43msdata\u001b[49m\u001b[38;5;241;43m=\u001b[39;49m\u001b[43msdata\u001b[49m\u001b[43m,\u001b[49m\n\u001b[1;32m     77\u001b[0m \u001b[43m        \u001b[49m\u001b[43mpoints_key\u001b[49m\u001b[38;5;241;43m=\u001b[39;49m\u001b[43mpoints_key\u001b[49m\u001b[43m,\u001b[49m\n\u001b[1;32m     78\u001b[0m \u001b[43m        \u001b[49m\u001b[43mshape_keys\u001b[49m\u001b[38;5;241;43m=\u001b[39;49m\u001b[43mpoint_sjoin\u001b[49m\u001b[43m,\u001b[49m\n\u001b[1;32m     79\u001b[0m \u001b[43m    \u001b[49m\u001b[43m)\u001b[49m\n\u001b[1;32m     81\u001b[0m pbar\u001b[38;5;241m.\u001b[39mupdate()\n\u001b[1;32m     83\u001b[0m \u001b[38;5;28;01mif\u001b[39;00m \u001b[38;5;28mlen\u001b[39m(shape_sjoin) \u001b[38;5;241m>\u001b[39m \u001b[38;5;241m0\u001b[39m:\n",
      "File \u001b[0;32m~/bento-tools/bento/io/_index.py:57\u001b[0m, in \u001b[0;36m_sjoin_points\u001b[0;34m(sdata, points_key, shape_keys)\u001b[0m\n\u001b[1;32m     54\u001b[0m     points[\u001b[38;5;124m\"\u001b[39m\u001b[38;5;124mindex_right\u001b[39m\u001b[38;5;124m\"\u001b[39m]\u001b[38;5;241m.\u001b[39mfillna(\u001b[38;5;124m\"\u001b[39m\u001b[38;5;124m\"\u001b[39m, inplace\u001b[38;5;241m=\u001b[39m\u001b[38;5;28;01mTrue\u001b[39;00m)\n\u001b[1;32m     55\u001b[0m     points\u001b[38;5;241m.\u001b[39mrename(columns\u001b[38;5;241m=\u001b[39m{\u001b[38;5;124m\"\u001b[39m\u001b[38;5;124mindex_right\u001b[39m\u001b[38;5;124m\"\u001b[39m: shape_key}, inplace\u001b[38;5;241m=\u001b[39m\u001b[38;5;28;01mTrue\u001b[39;00m)\n\u001b[0;32m---> 57\u001b[0m     \u001b[43mset_points_metadata\u001b[49m\u001b[43m(\u001b[49m\u001b[43msdata\u001b[49m\u001b[43m,\u001b[49m\u001b[43m \u001b[49m\u001b[43mpoints_key\u001b[49m\u001b[43m,\u001b[49m\u001b[43m \u001b[49m\u001b[43mpoints\u001b[49m\u001b[43m[\u001b[49m\u001b[43mshape_key\u001b[49m\u001b[43m]\u001b[49m\u001b[43m,\u001b[49m\u001b[43m \u001b[49m\u001b[43mcolumns\u001b[49m\u001b[38;5;241;43m=\u001b[39;49m\u001b[43mshape_key\u001b[49m\u001b[43m)\u001b[49m\n\u001b[1;32m     59\u001b[0m \u001b[38;5;28;01mreturn\u001b[39;00m sdata\n",
      "File \u001b[0;32m~/bento-tools/bento/_utils.py:256\u001b[0m, in \u001b[0;36mset_points_metadata\u001b[0;34m(sdata, points_key, metadata, columns)\u001b[0m\n\u001b[1;32m    253\u001b[0m \u001b[38;5;28mprint\u001b[39m(points, \u001b[38;5;124m\"\u001b[39m\u001b[38;5;130;01m\\n\u001b[39;00m\u001b[38;5;130;01m\\n\u001b[39;00m\u001b[38;5;124m\"\u001b[39m, columns)\n\u001b[1;32m    254\u001b[0m \u001b[38;5;66;03m######### >>>>>>>>>>>>>>>\u001b[39;00m\n\u001b[0;32m--> 256\u001b[0m \u001b[43mpoints\u001b[49m\u001b[38;5;241;43m.\u001b[39;49m\u001b[43mloc\u001b[49m\u001b[43m[\u001b[49m\u001b[43m:\u001b[49m\u001b[43m,\u001b[49m\u001b[43m \u001b[49m\u001b[43mcolumns\u001b[49m\u001b[43m]\u001b[49m \u001b[38;5;241m=\u001b[39m metadata\n\u001b[1;32m    257\u001b[0m points \u001b[38;5;241m=\u001b[39m PointsModel\u001b[38;5;241m.\u001b[39mparse(\n\u001b[1;32m    258\u001b[0m     dd\u001b[38;5;241m.\u001b[39mfrom_pandas(points, npartitions\u001b[38;5;241m=\u001b[39m\u001b[38;5;241m1\u001b[39m), coordinates\u001b[38;5;241m=\u001b[39m{\u001b[38;5;124m\"\u001b[39m\u001b[38;5;124mx\u001b[39m\u001b[38;5;124m\"\u001b[39m: \u001b[38;5;124m\"\u001b[39m\u001b[38;5;124mx\u001b[39m\u001b[38;5;124m\"\u001b[39m, \u001b[38;5;124m\"\u001b[39m\u001b[38;5;124my\u001b[39m\u001b[38;5;124m\"\u001b[39m: \u001b[38;5;124m\"\u001b[39m\u001b[38;5;124my\u001b[39m\u001b[38;5;124m\"\u001b[39m}\n\u001b[1;32m    259\u001b[0m )\n\u001b[1;32m    260\u001b[0m points\u001b[38;5;241m.\u001b[39mattrs \u001b[38;5;241m=\u001b[39m transform\n",
      "File \u001b[0;32m~/miniconda3/envs/bento/lib/python3.10/site-packages/pandas/core/indexing.py:818\u001b[0m, in \u001b[0;36m_LocationIndexer.__setitem__\u001b[0;34m(self, key, value)\u001b[0m\n\u001b[1;32m    815\u001b[0m \u001b[38;5;28mself\u001b[39m\u001b[38;5;241m.\u001b[39m_has_valid_setitem_indexer(key)\n\u001b[1;32m    817\u001b[0m iloc \u001b[38;5;241m=\u001b[39m \u001b[38;5;28mself\u001b[39m \u001b[38;5;28;01mif\u001b[39;00m \u001b[38;5;28mself\u001b[39m\u001b[38;5;241m.\u001b[39mname \u001b[38;5;241m==\u001b[39m \u001b[38;5;124m\"\u001b[39m\u001b[38;5;124miloc\u001b[39m\u001b[38;5;124m\"\u001b[39m \u001b[38;5;28;01melse\u001b[39;00m \u001b[38;5;28mself\u001b[39m\u001b[38;5;241m.\u001b[39mobj\u001b[38;5;241m.\u001b[39miloc\n\u001b[0;32m--> 818\u001b[0m \u001b[43miloc\u001b[49m\u001b[38;5;241;43m.\u001b[39;49m\u001b[43m_setitem_with_indexer\u001b[49m\u001b[43m(\u001b[49m\u001b[43mindexer\u001b[49m\u001b[43m,\u001b[49m\u001b[43m \u001b[49m\u001b[43mvalue\u001b[49m\u001b[43m,\u001b[49m\u001b[43m \u001b[49m\u001b[38;5;28;43mself\u001b[39;49m\u001b[38;5;241;43m.\u001b[39;49m\u001b[43mname\u001b[49m\u001b[43m)\u001b[49m\n",
      "File \u001b[0;32m~/miniconda3/envs/bento/lib/python3.10/site-packages/pandas/core/indexing.py:1795\u001b[0m, in \u001b[0;36m_iLocIndexer._setitem_with_indexer\u001b[0;34m(self, indexer, value, name)\u001b[0m\n\u001b[1;32m   1792\u001b[0m \u001b[38;5;66;03m# align and set the values\u001b[39;00m\n\u001b[1;32m   1793\u001b[0m \u001b[38;5;28;01mif\u001b[39;00m take_split_path:\n\u001b[1;32m   1794\u001b[0m     \u001b[38;5;66;03m# We have to operate column-wise\u001b[39;00m\n\u001b[0;32m-> 1795\u001b[0m     \u001b[38;5;28;43mself\u001b[39;49m\u001b[38;5;241;43m.\u001b[39;49m\u001b[43m_setitem_with_indexer_split_path\u001b[49m\u001b[43m(\u001b[49m\u001b[43mindexer\u001b[49m\u001b[43m,\u001b[49m\u001b[43m \u001b[49m\u001b[43mvalue\u001b[49m\u001b[43m,\u001b[49m\u001b[43m \u001b[49m\u001b[43mname\u001b[49m\u001b[43m)\u001b[49m\n\u001b[1;32m   1796\u001b[0m \u001b[38;5;28;01melse\u001b[39;00m:\n\u001b[1;32m   1797\u001b[0m     \u001b[38;5;28mself\u001b[39m\u001b[38;5;241m.\u001b[39m_setitem_single_block(indexer, value, name)\n",
      "File \u001b[0;32m~/miniconda3/envs/bento/lib/python3.10/site-packages/pandas/core/indexing.py:1850\u001b[0m, in \u001b[0;36m_iLocIndexer._setitem_with_indexer_split_path\u001b[0;34m(self, indexer, value, name)\u001b[0m\n\u001b[1;32m   1845\u001b[0m     \u001b[38;5;28;01mif\u001b[39;00m \u001b[38;5;28mlen\u001b[39m(value) \u001b[38;5;241m==\u001b[39m \u001b[38;5;241m1\u001b[39m \u001b[38;5;129;01mand\u001b[39;00m \u001b[38;5;129;01mnot\u001b[39;00m is_integer(info_axis):\n\u001b[1;32m   1846\u001b[0m         \u001b[38;5;66;03m# This is a case like df.iloc[:3, [1]] = [0]\u001b[39;00m\n\u001b[1;32m   1847\u001b[0m         \u001b[38;5;66;03m#  where we treat as df.iloc[:3, 1] = 0\u001b[39;00m\n\u001b[1;32m   1848\u001b[0m         \u001b[38;5;28;01mreturn\u001b[39;00m \u001b[38;5;28mself\u001b[39m\u001b[38;5;241m.\u001b[39m_setitem_with_indexer((pi, info_axis[\u001b[38;5;241m0\u001b[39m]), value[\u001b[38;5;241m0\u001b[39m])\n\u001b[0;32m-> 1850\u001b[0m     \u001b[38;5;28;01mraise\u001b[39;00m \u001b[38;5;167;01mValueError\u001b[39;00m(\n\u001b[1;32m   1851\u001b[0m         \u001b[38;5;124m\"\u001b[39m\u001b[38;5;124mMust have equal len keys and value \u001b[39m\u001b[38;5;124m\"\u001b[39m\n\u001b[1;32m   1852\u001b[0m         \u001b[38;5;124m\"\u001b[39m\u001b[38;5;124mwhen setting with an iterable\u001b[39m\u001b[38;5;124m\"\u001b[39m\n\u001b[1;32m   1853\u001b[0m     )\n\u001b[1;32m   1855\u001b[0m \u001b[38;5;28;01melif\u001b[39;00m lplane_indexer \u001b[38;5;241m==\u001b[39m \u001b[38;5;241m0\u001b[39m \u001b[38;5;129;01mand\u001b[39;00m \u001b[38;5;28mlen\u001b[39m(value) \u001b[38;5;241m==\u001b[39m \u001b[38;5;28mlen\u001b[39m(\u001b[38;5;28mself\u001b[39m\u001b[38;5;241m.\u001b[39mobj\u001b[38;5;241m.\u001b[39mindex):\n\u001b[1;32m   1856\u001b[0m     \u001b[38;5;66;03m# We get here in one case via .loc with a all-False mask\u001b[39;00m\n\u001b[1;32m   1857\u001b[0m     \u001b[38;5;28;01mpass\u001b[39;00m\n",
      "\u001b[0;31mValueError\u001b[0m: Must have equal len keys and value when setting with an iterable"
     ]
    }
   ],
   "source": [
    "kwargs = dict(points_key=\"transcripts\", feature_key=\"feature_name\",\n",
    "              instance_key=\"cell_boundaries\",\n",
    "              shape_keys=[\"cell_boundaries\", \"nucleus_boundaries\"])\n",
    "sdata_p = bt.io.prep(sdata, **kwargs)  # for Bento compatibility\n",
    "sdata_p"
   ]
  },
  {
   "cell_type": "markdown",
   "metadata": {},
   "source": [
    "# Plotting"
   ]
  },
  {
   "cell_type": "code",
   "execution_count": null,
   "metadata": {},
   "outputs": [],
   "source": [
    "sdata.table.uns[\"spatialdata_attrs\"][\"instance_key\"] = \"cell_boundaries\"\n",
    "for s in sdata.shapes:\n",
    "    sdata.shapes[s] = sdata.shapes[s].reset_index().rename_axis(\"index\")"
   ]
  },
  {
   "cell_type": "code",
   "execution_count": null,
   "metadata": {},
   "outputs": [],
   "source": [
    "%%time\n",
    "\n",
    "bt.pl.shapes(sdata, hue=col_cell_type, color_style=\"fill\")"
   ]
  },
  {
   "cell_type": "code",
   "execution_count": null,
   "metadata": {},
   "outputs": [],
   "source": [
    "%%time\n",
    "\n",
    "bt.pl.points(sdata, hue=\"feature_name\", hue_order=genes)"
   ]
  },
  {
   "cell_type": "code",
   "execution_count": null,
   "metadata": {},
   "outputs": [],
   "source": [
    "# sdata.points[\"transcripts\"].attrs[\"spatialdata_attrs\"][\n",
    "#     \"instance_key\"] = \"cell_boundaries\""
   ]
  },
  {
   "cell_type": "markdown",
   "metadata": {},
   "source": [
    "# Shape Statistics"
   ]
  },
  {
   "cell_type": "code",
   "execution_count": null,
   "metadata": {},
   "outputs": [],
   "source": [
    "%%time\n",
    "\n",
    "bt.tl.shape_stats(sdata)\n",
    "bt.pl.shape_stats(sdata)"
   ]
  },
  {
   "cell_type": "code",
   "execution_count": null,
   "metadata": {},
   "outputs": [],
   "source": [
    "%%time\n",
    "\n",
    "# bt.tl.analyze_shapes(sdata, \"cell_boundaries\", \"area\")\n",
    "bt.tl.analyze_shapes(sdata, [\"cell_boundaries\", \"nucleus_boundaries\"],\n",
    "                     [\"radius\", \"span\", \"perimeter\"])\n",
    "features = [\"cell_boundaries_area\", \"cell_boundaries_aspect_ratio\",\n",
    "            \"cell_boundaries_density\", \"cell_boundaries_perimeter\",\n",
    "            \"nucleus_boundaries_area\", \"nucleus_boundaries_aspect_ratio\",\n",
    "            \"nucleus_boundaries_density\", \"nucleus_boundaries_perimeter\"]\n",
    "bt.pl.shape_stats(sdata, cols=features)"
   ]
  },
  {
   "cell_type": "code",
   "execution_count": null,
   "metadata": {},
   "outputs": [],
   "source": [
    "kws_plot = dict(z_score=0, vmin=-2, vmax=2, cmap=\"RdBu_r\",\n",
    "                figsize=(8, 3), xticklabels=False)\n",
    "\n",
    "sns.clustermap(data=sdata[\"cell_boundaries\"][[\n",
    "    \"cell_boundaries_area\", \"cell_boundaries_aspect_ratio\",\n",
    "    \"cell_boundaries_density\", \"cell_boundaries_perimeter\",\n",
    "    \"cell_boundaries_span\", \"cell_boundaries_moment\"]].T, **kws_plot)"
   ]
  },
  {
   "cell_type": "markdown",
   "metadata": {},
   "source": [
    "# RNA Flux"
   ]
  },
  {
   "cell_type": "markdown",
   "metadata": {},
   "source": [
    "## Assign Sub-Cellular Domains\n",
    "\n",
    "Segmentation + PCA"
   ]
  },
  {
   "cell_type": "code",
   "execution_count": null,
   "metadata": {},
   "outputs": [],
   "source": [
    "resolution = 0.1\n",
    "figsize = (12, 12)\n",
    "\n",
    "bt.tl.flux(sdata, method=\"radius\", res=resolution, recompute=True)\n",
    "fig, axis = plt.subplots(figsize=figsize)\n",
    "bt.pl.flux(sdata, res=resolution, ax=axis)"
   ]
  },
  {
   "cell_type": "markdown",
   "metadata": {},
   "source": [
    "## Cluster Sub-Cellular Domains"
   ]
  },
  {
   "cell_type": "code",
   "execution_count": null,
   "metadata": {},
   "outputs": [],
   "source": [
    "min_count = 100\n",
    "figsize = (12, 12)\n",
    "\n",
    "bt.tl.fluxmap(sdata, res=resolution, min_count=min_count)\n",
    "fig, axis = plt.subplots(figsize=figsize)\n",
    "bt.pl.fluxmap(sdata, palette=bt.colors.bento6, ax=axis)"
   ]
  },
  {
   "cell_type": "code",
   "execution_count": null,
   "metadata": {},
   "outputs": [],
   "source": [
    "n_top = 5\n",
    "\n",
    "fluxmap_names = [s for s in sdata.shapes.keys() if s.startswith(\"fluxmap\")]\n",
    "bt.tl.comp(sdata, points_key=\"transcripts\", shape_names=fluxmap_names)\n",
    "bt.pl.comp(sdata, annotate=n_top)"
   ]
  },
  {
   "cell_type": "markdown",
   "metadata": {},
   "source": [
    "## Functional Enrichment"
   ]
  },
  {
   "cell_type": "code",
   "execution_count": null,
   "metadata": {},
   "outputs": [],
   "source": []
  },
  {
   "cell_type": "markdown",
   "metadata": {},
   "source": [
    "# Predict RNA Localization"
   ]
  },
  {
   "cell_type": "code",
   "execution_count": null,
   "metadata": {},
   "outputs": [],
   "source": []
  },
  {
   "cell_type": "markdown",
   "metadata": {},
   "source": [
    "# Co-Localization"
   ]
  },
  {
   "cell_type": "code",
   "execution_count": null,
   "metadata": {},
   "outputs": [],
   "source": [
    "bt.geo.overlay(sdata, s1=\"cell_boundaries\", s2=\"nucleus_boundaries\",\n",
    "               name=\"cytoplasm\", how=\"difference\")\n",
    "bt.tl.coloc_quotient(sdata, shapes=[\"cytoplasm\", \"nucleus_boundaries\"])\n",
    "bt.tl.colocation(sdata, ranks=range(1, 6))\n",
    "bt.pl.colocation(sdata, rank=2)"
   ]
  }
 ],
 "metadata": {
  "kernelspec": {
   "display_name": "bio",
   "language": "python",
   "name": "python3"
  },
  "language_info": {
   "codemirror_mode": {
    "name": "ipython",
    "version": 3
   },
   "file_extension": ".py",
   "mimetype": "text/x-python",
   "name": "python",
   "nbconvert_exporter": "python",
   "pygments_lexer": "ipython3",
   "version": "3.1.undefined"
  }
 },
 "nbformat": 4,
 "nbformat_minor": 2
}
